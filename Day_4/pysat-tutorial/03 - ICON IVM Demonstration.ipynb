{
 "cells": [
  {
   "cell_type": "markdown",
   "id": "873f6809",
   "metadata": {},
   "source": [
    "# Using Ion Velocity Meter data from NASA Ionospheric Connections Explorer"
   ]
  },
  {
   "cell_type": "code",
   "execution_count": null,
   "id": "87ac1b7a",
   "metadata": {},
   "outputs": [],
   "source": [
    "# Import packages\n",
    "import datetime as dt\n",
    "import matplotlib.pyplot as plt\n",
    "import numpy as np\n",
    "import warnings"
   ]
  },
  {
   "cell_type": "code",
   "execution_count": null,
   "id": "d42ddc4d",
   "metadata": {},
   "outputs": [],
   "source": [
    "import pysat"
   ]
  },
  {
   "cell_type": "code",
   "execution_count": null,
   "id": "51f077e8",
   "metadata": {},
   "outputs": [],
   "source": [
    "# Set data directory if user hasn't already set one\n",
    "if len(pysat.params['data_dirs']) == 0:\n",
    "    # Set a directory for pysat to use for data\n",
    "    pysat.params['data_dirs'] = '~/shared/pysatDemo'\n",
    "else:\n",
    "    print('pysat directory has been set previously. Leaving unchanged.')"
   ]
  },
  {
   "cell_type": "code",
   "execution_count": null,
   "id": "154a22b9",
   "metadata": {},
   "outputs": [],
   "source": [
    "# Register instruments with pysat. Only needed once per install.\n",
    "import pysatNASA\n",
    "pysat.utils.registry.register(['pysatNASA.instruments.icon_ivm'])\n",
    "\n",
    "# Improvements for loading ICON metadata are currently in\n",
    "# https://github.com/pysat/pysatNASA/pull/100.\n",
    "warnings.simplefilter('ignore', UserWarning)"
   ]
  },
  {
   "cell_type": "code",
   "execution_count": null,
   "id": "38049b65",
   "metadata": {},
   "outputs": [],
   "source": [
    "# Instantiate IVM Instrument object. IVM data is automatically cleaned using\n",
    "# instrument flags as it is loaded. Levels of 'clean', 'dusty', 'dirty', and\n",
    "# 'none' or None are supported. This is generally true for all pysat instruments\n",
    "ivm = pysat.Instrument('icon', 'ivm', inst_id='a', clean_level='clean')"
   ]
  },
  {
   "cell_type": "code",
   "execution_count": null,
   "id": "966bd68c",
   "metadata": {},
   "outputs": [],
   "source": [
    "# Learn about ICON IVM.\n",
    "help(ivm.inst_module)"
   ]
  },
  {
   "cell_type": "code",
   "execution_count": null,
   "id": "ae776024",
   "metadata": {},
   "outputs": [],
   "source": [
    "# Set range of dates for downloading ICON data\n",
    "start_download_date = dt.datetime(2020, 1, 1)\n",
    "stop_download_date = dt.datetime(2020, 1, 4)"
   ]
  },
  {
   "cell_type": "code",
   "execution_count": null,
   "id": "1834ccaf",
   "metadata": {},
   "outputs": [],
   "source": [
    "# Download data from NASA CDAWeb.\n",
    "\n",
    "# If you would like additional feedback while pysat performs operations\n",
    "# uncomment the line below.\n",
    "# pysat.logger.setLevel(\"INFO\")\n",
    "\n",
    "# Download data between specific dates.\n",
    "# ivm.download(start_download_date, stop_download_date)\n",
    "\n",
    "# To get all of the latest files on the server but not on\n",
    "# the local machine, uncomment line below.\n",
    "# The version and revision numbers in the filenames are used to identify\n",
    "# the latest files. This works for all ICON instruments.\n",
    "# ivm.download_updated_files()\n",
    "\n",
    "# Resume limited feedback\n",
    "# pysat.logger.setLevel(\"WARNING\")"
   ]
  },
  {
   "cell_type": "markdown",
   "id": "d4f86c4a",
   "metadata": {},
   "source": [
    "## IVM Basic Density Plot"
   ]
  },
  {
   "cell_type": "code",
   "execution_count": null,
   "id": "9cc4b5f8",
   "metadata": {},
   "outputs": [],
   "source": [
    "# Make basic time series plot of Ion Density\n",
    "ivm = pysat.Instrument('icon', 'ivm', inst_id='a')\n",
    "\n",
    "# Load day of data\n",
    "ivm.load(2020, 1, use_header=True)\n",
    "\n",
    "# Basic plot of ion density\n",
    "ivm['Ion_Density'].plot()\n",
    "plt.title('ICON IVM Ion Density')\n",
    "plt.ylabel('Ion Density (N/cc)')\n",
    "\n",
    "# Basic plot of the log of ion density\n",
    "plt.figure()\n",
    "np.log10(ivm['Ion_Density']).plot()\n",
    "plt.title('ICON IVM Log Ion Density')\n",
    "plt.ylabel('Log Ion Density (N/cc)')"
   ]
  },
  {
   "cell_type": "markdown",
   "id": "1b551184",
   "metadata": {},
   "source": [
    "## IVM Per-Orbit Density Plots"
   ]
  },
  {
   "cell_type": "code",
   "execution_count": null,
   "id": "f94139c5",
   "metadata": {},
   "outputs": [],
   "source": [
    "# Produce ion density plots orbit-by-orbit.\n",
    "# While ICON products include an orbit number based upon the position of the\n",
    "# spacecraft this breakdown does not produce a geophysical organization\n",
    "# of the data.\n",
    "\n",
    "# We demonstrate using pysat to parse the data orbit-by-orbit using Magnetic\n",
    "# Local Time (MLT) values in the file to make orbits between 0-24 MLT.\n",
    "\n",
    "# Set date for plotting IVM data\n",
    "date = dt.datetime(2020, 1, 3)\n",
    "\n",
    "# pysat is able to calculate orbit breaks in real-time.\n",
    "# Setup parameters for pysat to use when determining orbits\n",
    "orbit_info = {'kind': 'lt', 'index':'Magnetic_Local_Time'}\n",
    "# 'kind' sets the type of orbit breakdown, lt for local time.\n",
    "# 'index' sets the variable that will be used for determining orbit breaks.\n",
    "# The expected period may also be set, defaults to a 97 minute LEO period.\n",
    "\n",
    "# Instantiate ICON IVM Instrument object with orbit information\n",
    "ivm = pysat.Instrument('icon', 'ivm', inst_id='a', clean_level='clean', \n",
    "                       orbit_info=orbit_info)\n",
    "\n",
    "# Set the start and stop dates when iterating over Instrument object.\n",
    "# By default, pysat will iterate over all available data.\n",
    "# Two days chosen here to demonstrate orbits cross file and day boundaries.\n",
    "ivm.bounds = (None, date + dt.timedelta(days=1))\n",
    "\n",
    "ivm.load(date=date, use_header=True)\n",
    "# Iterate over the IVM data orbit-by-orbit. Each loop, a single orbit of\n",
    "# data is available in ivm.data.\n",
    "for livm in ivm.orbits:\n",
    "    if livm.orbits.current == 0:\n",
    "        # Only plot the first orbit of each day.\n",
    "        plt.figure()\n",
    "        np.log10(livm['Ion_Density']).plot()\n",
    "        title = ''.join(['ICON IVM Ion Density {date:s} Orbit: {num:2d}',\n",
    "                         '']).format(date=livm.date.strftime('%Y-%m-%d'),\n",
    "                                     num=livm.orbits.current)\n",
    "        plt.ylabel('Log Ion Density (N/cc)')\n",
    "        plt.title(title)\n"
   ]
  },
  {
   "cell_type": "markdown",
   "id": "57b59c57",
   "metadata": {},
   "source": [
    "## Summary Plot - Per Orbit Data Breakdown"
   ]
  },
  {
   "cell_type": "code",
   "execution_count": null,
   "id": "0757efb4",
   "metadata": {},
   "outputs": [],
   "source": [
    "# Summary plot orbit-by-orbit, single figure.\n",
    "\n",
    "# Set date for plotting IVM data\n",
    "date = dt.datetime(2020, 1, 3)\n",
    "\n",
    "# pysat is able to caculate orbit breaks in real-time.\n",
    "# Setup parameters for pysat use\n",
    "orbit_info = {'kind': 'lt', 'index':'Magnetic_Local_Time'}\n",
    "# 'kind' sets the type of orbit breakdown, lt for local time.\n",
    "# 'index' sets the variable that will be used for determining orbit breaks.\n",
    "\n",
    "# Instantiate ICON IVM Instrument object\n",
    "ivm = pysat.Instrument('icon', 'ivm', inst_id='a', clean_level='clean', \n",
    "                       orbit_info=orbit_info)\n",
    "\n",
    "# Set the start and stop dates when iterating over Instrument object.\n",
    "# By default, will iterate over all available data.\n",
    "ivm.bounds = (date, date)\n",
    "\n",
    "# Create custom method to add Log Ion Density to Instrument object.\n",
    "def add_log_density(inst):\n",
    "    \"\"\"Add the log of ion density to `inst`.\n",
    "    \n",
    "    Parameters\n",
    "    ----------\n",
    "    inst : pysat.Instrument\n",
    "        ICON IVM pysat.Instrument object.\n",
    "    \"\"\"\n",
    "    inst['Log_Ion_Density'] = np.log10(inst['Ion_Density'])\n",
    "\n",
    "    # Define and assign metadata\n",
    "    meta = {inst.meta.labels.units: 'Log(N/cc)',\n",
    "            inst.meta.labels.name: 'Log Ion Density',\n",
    "            inst.meta.labels.desc: 'Log base 10 of ambient ion density.',\n",
    "            inst.meta.labels.min_val: -np.inf,\n",
    "            inst.meta.labels.max_val: 7.,\n",
    "            inst.meta.labels.fill_val: np.nan}\n",
    "    inst.meta['Log_Ion_Density'] = meta\n",
    "\n",
    "    return\n",
    "\n",
    "# Attach custom function to Instrument object.\n",
    "# This method is applied automatically to the IVM data every time new data is\n",
    "# loaded. This feature allows a developer to customize the data in an Instrument\n",
    "# object even when processed by third-party analysis modules.\n",
    "ivm.custom_attach(add_log_density)\n",
    "\n",
    "# Create a figure so each orbit is on the same plot.\n",
    "fig, axs = plt.subplots(5, 1, figsize=(8.5,11))\n",
    "\n",
    "# Use pysat functionality to iterate over the data, orbit by orbit.\n",
    "# Each loop, a single orbit of data available in `ivm.data`.\n",
    "for livm in ivm.orbits:\n",
    "    # Log density plot.\n",
    "    livm.data.plot(x='Magnetic_Local_Time', y='Log_Ion_Density',\n",
    "                   xlim=(0,24), xticks=[],\n",
    "                   ax=axs[0], legend=False)\n",
    "    axs[0].set_title('ICON IVM Log Ion Density')\n",
    "    axs[0].set_ylabel('Log Ion Density (N/cc)')\n",
    "    axs[0].set_xlabel('')\n",
    "    \n",
    "    # O+ fraction plot.\n",
    "    livm.data.plot(x='Magnetic_Local_Time', y='Fractional_Ion_Density_O',\n",
    "                   xlim=(0,24), xticks=[],\n",
    "                   ax=axs[1], legend=False)\n",
    "    axs[1].set_title('ICON IVM O+ Fraction')\n",
    "    axs[1].set_ylabel('O+ Fraction')\n",
    "    axs[1].set_xlabel('')\n",
    "\n",
    "    # Zonal Ion Velocity plot.\n",
    "    livm.data.plot(x='Magnetic_Local_Time', y='Ion_Velocity_Zonal',\n",
    "                   xlim=(0,24), xticks=[],\n",
    "                   ylim=(-300, 100),\n",
    "                   ax=axs[2], legend=False)\n",
    "    axs[2].set_title('ICON IVM Zonal Ion Velocity')\n",
    "    axs[2].set_ylabel('Velocity (m/s)')\n",
    "    axs[2].set_xlabel('')\n",
    "\n",
    "    # Field-Aligned Velocity plot.\n",
    "    livm.data.plot(x='Magnetic_Local_Time', y='Ion_Velocity_Field_Aligned',\n",
    "                   xlim=(0,24), xticks=[],\n",
    "                   ylim=(-200, 200),\n",
    "                   ax=axs[3], legend=False)\n",
    "    axs[3].set_title('ICON IVM Field-Aligned Ion Velocity')\n",
    "    axs[3].set_ylabel('Velocity (m/s)')\n",
    "    axs[3].set_xlabel('')\n",
    "\n",
    "    # Meridional Ion Velocity plot.\n",
    "    livm.data.plot(x='Magnetic_Local_Time', y='Ion_Velocity_Meridional',\n",
    "                   xlim=(0,24), xticks=(0,6,12,18,24),\n",
    "                   ylim=(-50, 50),\n",
    "                   ax=axs[4], legend=False)\n",
    "    axs[4].set_title('ICON IVM Meridional Ion Velocity')\n",
    "    axs[4].set_ylabel('Velocity (m/s)')\n",
    "    axs[4].set_xlabel('Magnetic Local Time')\n",
    "\n",
    "    # For simplicity, only plot one orbit.\n",
    "    break"
   ]
  },
  {
   "cell_type": "code",
   "execution_count": null,
   "id": "62d03855",
   "metadata": {},
   "outputs": [],
   "source": []
  }
 ],
 "metadata": {
  "kernelspec": {
   "display_name": "Python 3 (ipykernel)",
   "language": "python",
   "name": "python3"
  },
  "language_info": {
   "codemirror_mode": {
    "name": "ipython",
    "version": 3
   },
   "file_extension": ".py",
   "mimetype": "text/x-python",
   "name": "python",
   "nbconvert_exporter": "python",
   "pygments_lexer": "ipython3",
   "version": "3.9.7"
  }
 },
 "nbformat": 4,
 "nbformat_minor": 5
}