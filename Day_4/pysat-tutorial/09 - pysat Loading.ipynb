{
 "cells": [
  {
   "cell_type": "markdown",
   "id": "f8409aa9",
   "metadata": {},
   "source": [
    "# Demo of loading options"
   ]
  },
  {
   "cell_type": "code",
   "execution_count": null,
   "id": "08b26c5a",
   "metadata": {
    "scrolled": true
   },
   "outputs": [],
   "source": [
    "import datetime as dt\n",
    "import pandas as pds"
   ]
  },
  {
   "cell_type": "code",
   "execution_count": null,
   "id": "c58cd834",
   "metadata": {
    "scrolled": true
   },
   "outputs": [],
   "source": [
    "import pysat\n",
    "\n",
    "# Set data directory if user hasn't already set one\n",
    "if len(pysat.params['data_dirs']) == 0:\n",
    "    # Set a directory for pysat to use for data\n",
    "    pysat.params['data_dirs'] = '~/shared/pysatDemo'\n",
    "else:\n",
    "    print('pysat directory has been set previously. Leaving unchanged.')"
   ]
  },
  {
   "cell_type": "code",
   "execution_count": null,
   "id": "79dc3e66",
   "metadata": {
    "scrolled": true
   },
   "outputs": [],
   "source": [
    "# All of the examples work with any of the Instrument types below.\n",
    "\n",
    "# Basic test instrument, pandas format\n",
    "inst = pysat.Instrument('pysat', 'testing')\n",
    "\n",
    "# Basic test instrument, xarray format\n",
    "# inst = pysat.Instrument('pysat', 'testing_xarray')\n",
    "\n",
    "# Test instrument, higher dimensional data, xarray format\n",
    "# inst = pysat.Instrument('pysat', 'testing2d_xarray')\n",
    "\n",
    "# Basic test model, xarray format\n",
    "# inst = pysat.Instrument('pysat', 'testmodel', tag='pressure_levels')"
   ]
  },
  {
   "cell_type": "markdown",
   "id": "02adfee9",
   "metadata": {},
   "source": [
    "# Load by year, day of year"
   ]
  },
  {
   "cell_type": "code",
   "execution_count": null,
   "id": "069c0484",
   "metadata": {
    "scrolled": true
   },
   "outputs": [],
   "source": [
    "# Load by year, doy\n",
    "inst.load(2009, 1, use_header=True)"
   ]
  },
  {
   "cell_type": "code",
   "execution_count": null,
   "id": "d663d78d",
   "metadata": {
    "scrolled": true
   },
   "outputs": [],
   "source": [
    "# Load a range of data. Inclusive first input, exclusive second.\n",
    "# Keywords starting with `end_` are exclusing.\n",
    "# This load is equivalent to one above.\n",
    "inst.load(2009, 1, end_yr=2009, end_doy=2, use_header=True)\n",
    "inst.data"
   ]
  },
  {
   "cell_type": "code",
   "execution_count": null,
   "id": "be139173",
   "metadata": {
    "scrolled": true
   },
   "outputs": [],
   "source": [
    "# Load a range of data. Inclusive first input, exclusive second.\n",
    "# Keywords starting with `end_` are exclusing.\n",
    "# This loads two days of data.\n",
    "inst.load(2009, 1, end_yr=2009, end_doy=3, use_header=True)\n",
    "inst.data"
   ]
  },
  {
   "cell_type": "markdown",
   "id": "1c406be6",
   "metadata": {},
   "source": [
    "# Load by datetime(s)"
   ]
  },
  {
   "cell_type": "code",
   "execution_count": null,
   "id": "a4daab2f",
   "metadata": {
    "scrolled": true
   },
   "outputs": [],
   "source": [
    "# Load by date\n",
    "inst.load(date=dt.datetime(2009, 1, 1), use_header=True)\n",
    "inst.data"
   ]
  },
  {
   "cell_type": "code",
   "execution_count": null,
   "id": "a31c4f94",
   "metadata": {
    "scrolled": true
   },
   "outputs": [],
   "source": [
    "# Load by range of dates\n",
    "inst.load(date=dt.datetime(2009, 1, 1), end_date=dt.datetime(2009, 1, 3), use_header=True)\n",
    "inst.data"
   ]
  },
  {
   "cell_type": "markdown",
   "id": "8c382856",
   "metadata": {},
   "source": [
    "# Load by filename(s)"
   ]
  },
  {
   "cell_type": "code",
   "execution_count": null,
   "id": "fa01ba52",
   "metadata": {
    "scrolled": true
   },
   "outputs": [],
   "source": [
    "inst.load(fname=inst.files.files[0], use_header=True)\n",
    "inst.data"
   ]
  },
  {
   "cell_type": "code",
   "execution_count": null,
   "id": "6f76808f",
   "metadata": {
    "scrolled": true
   },
   "outputs": [],
   "source": [
    "# Filename bounds are inclusive for both ends\n",
    "# Keywords ending with `stop_` are inclusive.\n",
    "inst.load(fname=inst.files.files[0], stop_fname=inst.files.files[1], use_header=True)\n",
    "inst.data"
   ]
  },
  {
   "cell_type": "markdown",
   "id": "0fce0fa3",
   "metadata": {},
   "source": [
    "# Load All Data"
   ]
  },
  {
   "cell_type": "code",
   "execution_count": null,
   "id": "af069986",
   "metadata": {
    "scrolled": true
   },
   "outputs": [],
   "source": [
    "# Create new Instrument test object with limited file range to demonstrate loading all data\n",
    "inst = pysat.Instrument('pysat', 'testing', file_date_range=[dt.datetime(2019, 1, 1), dt.datetime(2019, 1, 3)])\n",
    "\n",
    "# Load all simulated data\n",
    "inst.load(use_header=True)\n",
    "\n",
    "# Print to Jupyter\n",
    "inst.data"
   ]
  },
  {
   "cell_type": "markdown",
   "id": "81644e22",
   "metadata": {},
   "source": [
    "# Custom instrument module keywords"
   ]
  },
  {
   "cell_type": "code",
   "execution_count": null,
   "id": "f21caa08",
   "metadata": {
    "scrolled": true
   },
   "outputs": [],
   "source": [
    "# Keywords may be passed to underlying instrument support modules via pysat. Keywords passed like\n",
    "# this only apply for a single function call.\n",
    "inst.load(2009, 1, num_samples=10, use_header=True)\n",
    "inst.data"
   ]
  },
  {
   "cell_type": "code",
   "execution_count": null,
   "id": "f151f052",
   "metadata": {
    "scrolled": true
   },
   "outputs": [],
   "source": [
    "# Keywords may also be supplied at instantiation. These values persist.\n",
    "inst = pysat.Instrument('pysat', 'testing', num_samples=10)\n",
    "inst.load(2009, 1, use_header=True)\n",
    "inst.data"
   ]
  },
  {
   "cell_type": "code",
   "execution_count": null,
   "id": "176683b0",
   "metadata": {
    "scrolled": true
   },
   "outputs": [],
   "source": [
    "# `num_samples` may be modified on subsequent load calls, but, unless otherwise specified, `num_samples`\n",
    "# will return to the value at instantiation.\n",
    "inst.load(2009, 1, use_header=True, num_samples=3)\n",
    "inst.data"
   ]
  },
  {
   "cell_type": "code",
   "execution_count": null,
   "id": "eec9d981",
   "metadata": {
    "scrolled": true
   },
   "outputs": [],
   "source": [
    "# Confirmation that `num_samples` consistent with instantiation value\n",
    "inst.load(2009, 1, use_header=True)\n",
    "inst.data"
   ]
  },
  {
   "cell_type": "code",
   "execution_count": null,
   "id": "9e09db3e",
   "metadata": {
    "scrolled": true
   },
   "outputs": [],
   "source": [
    "# Note the `Data Processing` section below. pyast passes supplied keywords to the appropriate methods.\n",
    "print(inst)"
   ]
  },
  {
   "cell_type": "code",
   "execution_count": null,
   "id": "cc845259",
   "metadata": {
    "scrolled": true
   },
   "outputs": [],
   "source": [
    "# All keywords in the instrument support module identified by pysat are stored as `kwargs_supported` attribute\n",
    "for key in inst.kwargs_supported:\n",
    "    print('Keywords for Instrument method: ', key)\n",
    "    print('\\t', repr(inst.kwargs_supported[key]), '\\n')"
   ]
  },
  {
   "cell_type": "markdown",
   "id": "52737dbf",
   "metadata": {},
   "source": [
    "# Data Padding for Time-Based Calculations"
   ]
  },
  {
   "cell_type": "code",
   "execution_count": null,
   "id": "7e6017db",
   "metadata": {
    "scrolled": true
   },
   "outputs": [],
   "source": [
    "# Some calculations in time require a 'spin-up'/'spin-down' for full accuracy. For example, a standard\n",
    "# deviation over 30 seconds requires 30 seconds of data. For a centered standard deviation this is a \n",
    "# challenge for the first sample in a day. There isn't a preceding 15 seconds of data. To make accurate \n",
    "# time based calculations easy, pysat can load buffer data from the next/prev today, \n",
    "# join it with the current days data, then run the custom functions,\n",
    "# and finally, pysat removes the buffer data, leaving just the desired time range.\n",
    "# This happens in the background and requires no explicit support by any instrument module developer.\n",
    "\n",
    "# Define data padding window\n",
    "pad = pds.DateOffset(seconds=30)\n",
    "\n",
    "# Instantiate instrument with padding information. \n",
    "inst = pysat.Instrument('pysat', 'testing', pad=pad)\n",
    "\n",
    "# Load data. The `verifyPad` keyword, if True, retains\n",
    "# the padded data. Default is False.\n",
    "inst.load(2009, 1, verifyPad=True, use_header=True)\n",
    "\n",
    "# Use Jupyter to display data\n",
    "inst.data"
   ]
  },
  {
   "cell_type": "code",
   "execution_count": null,
   "id": "c06dd656",
   "metadata": {},
   "outputs": [],
   "source": []
  }
 ],
 "metadata": {
  "kernelspec": {
   "display_name": "Python 3 (ipykernel)",
   "language": "python",
   "name": "python3"
  },
  "language_info": {
   "codemirror_mode": {
    "name": "ipython",
    "version": 3
   },
   "file_extension": ".py",
   "mimetype": "text/x-python",
   "name": "python",
   "nbconvert_exporter": "python",
   "pygments_lexer": "ipython3",
   "version": "3.9.7"
  }
 },
 "nbformat": 4,
 "nbformat_minor": 5
}