{
 "cells": [
  {
   "cell_type": "markdown",
   "id": "1a438092",
   "metadata": {},
   "source": [
    "# Demo of iteration options"
   ]
  },
  {
   "cell_type": "code",
   "execution_count": null,
   "id": "700b56b9",
   "metadata": {},
   "outputs": [],
   "source": [
    "import datetime as dt\n",
    "import pandas as pds"
   ]
  },
  {
   "cell_type": "code",
   "execution_count": null,
   "id": "751cbf33",
   "metadata": {},
   "outputs": [],
   "source": [
    "import pysat"
   ]
  },
  {
   "cell_type": "code",
   "execution_count": null,
   "outputs": [],
   "source": [
    "# Set data directory if user hasn't already set one\n",
    "if len(pysat.params['data_dirs']) == 0:\n",
    "    # Set a directory for pysat to use for data\n",
    "    pysat.params['data_dirs'] = '~/shared/pysatDemo'\n",
    "else:\n",
    "    print('pysat directory has been set previously. Leaving unchanged.')"
   ],
   "metadata": {
    "collapsed": false,
    "pycharm": {
     "name": "#%%\n"
    }
   }
  },
  {
   "cell_type": "code",
   "execution_count": null,
   "id": "ef7b90a0",
   "metadata": {},
   "outputs": [],
   "source": [
    "# All of the examples work with any of the Instrument types below.\n",
    "\n",
    "# Create a custom range of files supported by test instruments\n",
    "start_range = dt.datetime(2022, 1, 1)\n",
    "stop_range = dt.datetime(2022, 12, 31)\n",
    "file_date_range = pds.date_range(start_range, stop_range, freq='D')\n",
    "\n",
    "# Set orbit iteration parameters. Possible values for 'kind' are\n",
    "# 'local time', 'longitude', 'polar', or 'orbit'. \n",
    "#         - local time: negative gradients in lt or breaks in inst.index\n",
    "#         - longitude: negative gradients or breaks in inst.index\n",
    "#         - polar: zero crossings in latitude or breaks in inst.index\n",
    "#         - orbit: uses unique values of orbit number\n",
    "# 'index' maps to the variable used for iteration.\n",
    "# 'period' applys orbit breakdown filtering based upon the provided orbit period.\n",
    "# Currently only applies to 'local time' orbits.\n",
    "orbit_info = {'kind': 'lt', 'index': 'mlt', \n",
    "              'period': dt.timedelta(minutes=95)}\n",
    "\n",
    "# Collect instantation keywords\n",
    "kwargs = {'file_date_range': file_date_range,\n",
    "          'orbit_info': orbit_info}\n",
    "\n",
    "# Select one of the test instrument below by uncommenting one of the lines\n",
    "\n",
    "# Basic test instrument, pandas format\n",
    "inst = pysat.Instrument('pysat', 'testing', **kwargs)\n",
    "\n",
    "# Basic test instrument, xarray format\n",
    "# inst = pysat.Instrument('pysat', 'testing_xarray', **kwargs)\n",
    "\n",
    "# Test instrument, higher dimensional data, xarray format\n",
    "# inst = pysat.Instrument('pysat', 'testing2d_xarray', **kwargs)\n",
    "\n",
    "# Basic test model, xarray format\n",
    "# inst = pysat.Instrument('pysat', 'testmodel', tag='pressure_levels', **kwargs)"
   ]
  },
  {
   "cell_type": "code",
   "execution_count": null,
   "id": "ebaab98b",
   "metadata": {},
   "outputs": [],
   "source": [
    "# Set bounds to iterate over. Accepts information for the \n",
    "# start, stop, step size, and loaded data width when iterating.\n",
    "# Users can supply either a single start, stop, or a list of starts/stops.\n",
    "\n",
    "# Iteration works either with datetimes/timestamps or with filenames.\n",
    "\n",
    "start = start_range + pds.DateOffset(weeks=0)\n",
    "stop = start_range + pds.DateOffset(days=13)\n",
    "\n",
    "# Demonstrate assigning multiplate date ranges\n",
    "# start = [start, start + pds.DateOffset(months=3)]\n",
    "# stop = [stop, stop + pds.DateOffset(months=3)]\n",
    "\n",
    "# Number of days to move forward for each subsequent load.\n",
    "# Uses pandas frequency strings. '3D' is three days.\n",
    "step = '3D'\n",
    "\n",
    "# Number of days to load for each iteration. In general, `step` and `width` \n",
    "# don't have to be the same.\n",
    "width = dt.timedelta(days=3)"
   ]
  },
  {
   "cell_type": "code",
   "execution_count": null,
   "id": "392d5308",
   "metadata": {},
   "outputs": [],
   "source": [
    "# Assign iteration limits\n",
    "inst.bounds = (start, stop, step, width)"
   ]
  },
  {
   "cell_type": "code",
   "execution_count": null,
   "id": "c9aac066",
   "metadata": {},
   "outputs": [],
   "source": [
    "# Loop through data loading `width` days each loop, and moving forward `step` for the subsequent load.\n",
    "for loop_inst in inst:\n",
    "    print('Loaded data range: ', repr(loop_inst.index[0]), \n",
    "          repr(loop_inst.index[-1]))"
   ]
  },
  {
   "cell_type": "code",
   "execution_count": null,
   "id": "e6aef886",
   "metadata": {},
   "outputs": [],
   "source": [
    "# Same limits are applied when iterating by orbit. Note that the `step` and `width` must have the same value.\n",
    "# Note that orbits will start/stop across daybreaks. The exceptions to this are the first/last day\n",
    "# of bounds as the previous/next day can't be loaded.\n",
    "\n",
    "# Load first day of data to ensure we start at begining. This is here since the iteration above will result\n",
    "# in `inst` having loaded data for the last day.\n",
    "inst.load(date=inst.bounds[0][0], use_header=True)\n",
    "\n",
    "for loop_inst in inst.orbits:\n",
    "    print('Loaded data range: ', repr(loop_inst.index[0]), \n",
    "          repr(loop_inst.index[-1]))    "
   ]
  },
  {
   "cell_type": "code",
   "execution_count": null,
   "id": "16788c35",
   "metadata": {},
   "outputs": [],
   "source": []
  }
 ],
 "metadata": {
  "kernelspec": {
   "display_name": "Python 3 (ipykernel)",
   "language": "python",
   "name": "python3"
  },
  "language_info": {
   "codemirror_mode": {
    "name": "ipython",
    "version": 3
   },
   "file_extension": ".py",
   "mimetype": "text/x-python",
   "name": "python",
   "nbconvert_exporter": "python",
   "pygments_lexer": "ipython3",
   "version": "3.9.7"
  }
 },
 "nbformat": 4,
 "nbformat_minor": 5
}