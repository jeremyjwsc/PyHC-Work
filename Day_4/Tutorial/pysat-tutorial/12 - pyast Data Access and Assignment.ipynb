{
 "cells": [
  {
   "cell_type": "markdown",
   "id": "58750c0f",
   "metadata": {},
   "source": [
    "# Instrument Data Access and Assignment"
   ]
  },
  {
   "cell_type": "code",
   "execution_count": null,
   "id": "6be22829",
   "metadata": {},
   "outputs": [],
   "source": [
    "import datetime as dt\n",
    "import numpy as np"
   ]
  },
  {
   "cell_type": "code",
   "execution_count": null,
   "id": "fb12e3fb",
   "metadata": {},
   "outputs": [],
   "source": [
    "import pysat"
   ]
  },
  {
   "cell_type": "code",
   "execution_count": null,
   "id": "6925fcc7",
   "metadata": {},
   "outputs": [],
   "source": [
    "# Set data directory if user hasn't already set one\n",
    "if len(pysat.params['data_dirs']) == 0:\n",
    "    # Set a directory for pysat to use for data\n",
    "    pysat.params['data_dirs'] = '~/shared/pysatDemo'\n",
    "else:\n",
    "    print('pysat directory has been set previously. Leaving unchanged.')"
   ]
  },
  {
   "cell_type": "code",
   "execution_count": null,
   "id": "5fccd7ea",
   "metadata": {},
   "outputs": [],
   "source": [
    "# Create test Instrument\n",
    "inst = pysat.Instrument('pysat', 'testing')\n",
    "\n",
    "# Load data\n",
    "inst.load(date=inst.files.start_date, use_header=True)"
   ]
  },
  {
   "cell_type": "code",
   "execution_count": null,
   "id": "c1009a7d",
   "metadata": {},
   "outputs": [],
   "source": [
    "# Assign new variables\n",
    "inst['new_mlt'] = inst['mlt']"
   ]
  },
  {
   "cell_type": "code",
   "execution_count": null,
   "id": "04ec1165",
   "metadata": {},
   "outputs": [],
   "source": [
    "# Partially assign data\n",
    "idx, = np.where(inst['mlt'] > 23.)\n",
    "inst[idx, 'mlt'] = np.arange(len(idx))"
   ]
  },
  {
   "cell_type": "code",
   "execution_count": null,
   "id": "694db550",
   "metadata": {},
   "outputs": [],
   "source": [
    "# Verify that magnetic local time signal now has a series of increasing spikes\n",
    "inst['mlt'].plot()"
   ]
  },
  {
   "cell_type": "code",
   "execution_count": null,
   "id": "2af43da4",
   "metadata": {},
   "outputs": [],
   "source": [
    "# Access subset of data\n",
    "inst[idx]"
   ]
  },
  {
   "cell_type": "code",
   "execution_count": null,
   "id": "11e965df",
   "metadata": {},
   "outputs": [],
   "source": [
    "# Downselect by index and variable name\n",
    "inst[idx, ['mlt', 'slt']]"
   ]
  },
  {
   "cell_type": "code",
   "execution_count": null,
   "id": "6cc1139a",
   "metadata": {},
   "outputs": [],
   "source": [
    "# Downselect by datetime range and variable name\n",
    "inst[inst.index[0]:inst.index[0] + dt.timedelta(seconds=15), ['mlt', 'slt']]"
   ]
  },
  {
   "cell_type": "code",
   "execution_count": null,
   "id": "79877a2d",
   "metadata": {},
   "outputs": [],
   "source": []
  }
 ],
 "metadata": {
  "kernelspec": {
   "display_name": "Python 3 (ipykernel)",
   "language": "python",
   "name": "python3"
  },
  "language_info": {
   "codemirror_mode": {
    "name": "ipython",
    "version": 3
   },
   "file_extension": ".py",
   "mimetype": "text/x-python",
   "name": "python",
   "nbconvert_exporter": "python",
   "pygments_lexer": "ipython3",
   "version": "3.9.7"
  }
 },
 "nbformat": 4,
 "nbformat_minor": 5
}