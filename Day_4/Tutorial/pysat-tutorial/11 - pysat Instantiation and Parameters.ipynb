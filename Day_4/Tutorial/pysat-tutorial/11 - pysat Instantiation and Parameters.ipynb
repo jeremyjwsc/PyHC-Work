{
 "cells": [
  {
   "cell_type": "markdown",
   "id": "0d868ffb",
   "metadata": {},
   "source": [
    "# Demo of Instantiation Options and General Parameters"
   ]
  },
  {
   "cell_type": "code",
   "execution_count": null,
   "id": "bb5d4f4c",
   "metadata": {},
   "outputs": [],
   "source": [
    "import numpy as np"
   ]
  },
  {
   "cell_type": "code",
   "execution_count": null,
   "id": "386b667a",
   "metadata": {},
   "outputs": [],
   "source": [
    "import pysat\n"
   ]
  },
  {
   "cell_type": "code",
   "execution_count": null,
   "id": "0e519ce4",
   "metadata": {},
   "outputs": [],
   "source": [
    "# Set data directory if user hasn't already set one\n",
    "if len(pysat.params['data_dirs']) == 0:\n",
    "    # Set a directory for pysat to use for data\n",
    "    pysat.params['data_dirs'] = '~/shared/pysatDemo'\n",
    "else:\n",
    "    print('pysat directory has been set previously. Leaving unchanged.')"
   ]
  },
  {
   "cell_type": "code",
   "execution_count": null,
   "id": "6588311a",
   "metadata": {},
   "outputs": [],
   "source": [
    "# Normally pysat looks in `pysat.params['data_dirs']`, plus applies a directory naming scheme. \n",
    "# This file organization may be shortcut using `data_dir`.\n",
    "data_dir = ''\n",
    "\n",
    "# pysat normally stores different data sets with the following organization `{platform}/{name}/{tag}/{inst_id}`.\n",
    "# The default `directory_format` is stored in `pysat.params['directory_format']`.\n",
    "# It can be modified for individual Instrument objects.\n",
    "directory_format = None\n",
    "\n",
    "# Instrument data set developers will set a nominal `file_format` string for that particular data set.\n",
    "# For example, for ICON IVM \n",
    "# `file_format = 'icon_l2-7_ivm-{id:s}_{year:04d}{month:02d}{day:02d}_v{version:02d}r{revision:03d}.nc`.\n",
    "# is defined interally. A different format string may be supplied to individual Instrument objects.\n",
    "# Note to support year, day of year filenames do not include the `month` template keyword.\n",
    "file_format = None\n",
    "\n",
    "# pysat can be configured to update the list of data set files automatically upon instantiation.\n",
    "# The default value is stored in `pysat.params['update_files']` but can be modified on a per\n",
    "# Instrument object basis.\n",
    "update_files = False\n",
    "\n",
    "# pysat performs internal checks for loaded data sets to ensure time is monotonic and increasing.\n",
    "# This may be disabled by setting `strict_time_flag` to False.\n",
    "strict_time_flag = True\n",
    "\n",
    "# empty files may be automatically removed, if desired. Note all testing 'files' are empty.\n",
    "ignore_empty_files = False\n",
    "\n",
    "# The metadata labels (categories) tracked by the Instrument object. \n",
    "# This provides support for writing netCDF4 files with partial SPDF standards compliance.\n",
    "# Note pysat supports full compliance using additional features when writing files, such\n",
    "# as `meta_translation` to create redundantly named metadata.\n",
    "labels = {'units': ('Units', str), 'name': ('Long_Name', str),\n",
    "          'notes': ('Var_Notes', str), 'desc': ('CatDesc', str),\n",
    "          'plot': ('FieldNam', str), 'axis': ('LablAxis', str),\n",
    "          'scale': ('ScaleTyp', str),\n",
    "          'min_val': ('Valid_Min', np.float64),\n",
    "          'max_val': ('Valid_Max', np.float64),\n",
    "          'fill_val': ('_FillValue', np.float64)}\n",
    "\n",
    "kwargs = {'data_dir': data_dir, 'directory_format': directory_format, 'file_format': None,\n",
    "          'update_files': update_files, 'strict_time_flag': strict_time_flag,\n",
    "          'ignore_empty_files': ignore_empty_files, 'labels': labels}"
   ]
  },
  {
   "cell_type": "code",
   "execution_count": null,
   "id": "1881d7a3",
   "metadata": {},
   "outputs": [],
   "source": [
    "# Instantiate test instrument using user defined keywords above\n",
    "inst = pysat.Instrument('pysat', 'testing', **kwargs)"
   ]
  },
  {
   "cell_type": "code",
   "execution_count": null,
   "id": "482252d6",
   "metadata": {},
   "outputs": [],
   "source": [
    "# Check out files list\n",
    "inst.files.files"
   ]
  },
  {
   "cell_type": "code",
   "execution_count": null,
   "id": "89e412aa",
   "metadata": {},
   "outputs": [],
   "source": [
    "# Check out impact on where pysat looks for files\n",
    "inst.files.data_path"
   ]
  },
  {
   "cell_type": "code",
   "execution_count": null,
   "id": "ca11e53b",
   "metadata": {},
   "outputs": [],
   "source": [
    "# Check out impact on the directory format pysat uses\n",
    "inst.files.directory_format"
   ]
  },
  {
   "cell_type": "code",
   "execution_count": null,
   "id": "7d483cfb",
   "metadata": {},
   "outputs": [],
   "source": [
    "# Check out impact upon metadata labels\n",
    "inst.meta.data"
   ]
  },
  {
   "cell_type": "code",
   "execution_count": null,
   "id": "defcc3ee",
   "metadata": {},
   "outputs": [],
   "source": [
    "# Note that metadata access is case insensitive. Object itself is case preserving.\n",
    "inst.meta[:, 'var_notes']"
   ]
  },
  {
   "cell_type": "code",
   "execution_count": null,
   "id": "31617ff4",
   "metadata": {},
   "outputs": [],
   "source": [
    "# Check for impact to stored file_format. Default is None.\n",
    "inst.files.file_format"
   ]
  },
  {
   "cell_type": "markdown",
   "id": "3345ec0d",
   "metadata": {},
   "source": [
    "# pysat Stored Parameters"
   ]
  },
  {
   "cell_type": "code",
   "execution_count": null,
   "id": "4452df42",
   "metadata": {},
   "outputs": [],
   "source": [
    "# Current parameters overview\n",
    "print(pysat.params)"
   ]
  },
  {
   "cell_type": "code",
   "execution_count": null,
   "id": "8b56ff10",
   "metadata": {},
   "outputs": [],
   "source": [
    "# Set a 'standard' parameter\n",
    "pysat.params['update_files'] = False"
   ]
  },
  {
   "cell_type": "code",
   "execution_count": null,
   "id": "24500bfb",
   "metadata": {},
   "outputs": [],
   "source": [
    "# Reset standard parameters. Note that `data_dirs` is unaffected.\n",
    "pysat.params.restore_defaults()"
   ]
  },
  {
   "cell_type": "code",
   "execution_count": null,
   "id": "a43ee1d0",
   "metadata": {},
   "outputs": [],
   "source": [
    "# Assign custom user parameter. Automatically stored on disk.\n",
    "pysat.params['custom_user_parameter'] = True"
   ]
  },
  {
   "cell_type": "code",
   "execution_count": null,
   "id": "2ce8ba68",
   "metadata": {},
   "outputs": [],
   "source": [
    "# Check out updates\n",
    "print(pysat.params)"
   ]
  },
  {
   "cell_type": "code",
   "execution_count": null,
   "id": "e6805832",
   "metadata": {},
   "outputs": [],
   "source": []
  }
 ],
 "metadata": {
  "kernelspec": {
   "display_name": "Python 3 (ipykernel)",
   "language": "python",
   "name": "python3"
  },
  "language_info": {
   "codemirror_mode": {
    "name": "ipython",
    "version": 3
   },
   "file_extension": ".py",
   "mimetype": "text/x-python",
   "name": "python",
   "nbconvert_exporter": "python",
   "pygments_lexer": "ipython3",
   "version": "3.9.7"
  }
 },
 "nbformat": 4,
 "nbformat_minor": 5
}