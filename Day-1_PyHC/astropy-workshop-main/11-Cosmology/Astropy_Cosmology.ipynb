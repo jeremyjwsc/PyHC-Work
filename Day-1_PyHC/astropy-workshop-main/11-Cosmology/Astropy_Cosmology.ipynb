{
 "cells": [
  {
   "cell_type": "markdown",
   "metadata": {},
   "source": [
    "# Astropy Cosmologies"
   ]
  },
  {
   "cell_type": "markdown",
   "metadata": {},
   "source": [
    "Astropy includes a convenient framework for defining cosmologies and working with realizations thereof.  These realizations hold the cosmological parameters and enable computation of a variety of redshift-parameterized properties, e.g. the luminosity distance.\n",
    "\n",
    "For more information about the features presented below, please see the\n",
    "[astropy.cosmology](https://docs.astropy.org/en/stable/cosmology/index.html) docs.\n",
    "\n",
    "Also note that this tutorial assumes you have little or no knowledge of the astropy cosmology docs.  If you're familiar with them and have interest in extending this framework to more cosmologies, realizations, or methods, Astropy always welcomes contributions."
   ]
  },
  {
   "cell_type": "markdown",
   "metadata": {},
   "source": [
    "## Introduction"
   ]
  },
  {
   "cell_type": "markdown",
   "metadata": {},
   "source": [
    "The [``astropy.cosmology``](https://docs.astropy.org/en/stable/cosmology/index.html) package provides an object-oriented approach to cosmology that tightly integrates with the rest of the Astropy ecosystem, and units in particular.\n",
    "\n",
    "With that in mind, the following is the standard set of imports to begin working with the cosmology package."
   ]
  },
  {
   "cell_type": "code",
   "execution_count": 1,
   "metadata": {},
   "outputs": [],
   "source": [
    "from astropy import cosmology\n",
    "import astropy.units as u"
   ]
  },
  {
   "cell_type": "markdown",
   "metadata": {},
   "source": [
    "The first thing we will need is to select a cosmology, essentially the physics, in which to work. The most commonly used is a flat $\\Lambda$CDM cosmology with a Friedmann–Lemaître–Robertson–Walker (FLRW) metric. We will use it here as well.\n",
    "\n",
    "Concordant to OOP, in ``astropy.cosmology`` the cosmology types are classes and realizations of those cosmologies are instances of the classes. We can import the flat-$\\Lambda$CDM cosmology and examine its public methods and attributes:"
   ]
  },
  {
   "cell_type": "code",
   "execution_count": 2,
   "metadata": {},
   "outputs": [
    {
     "name": "stdout",
     "output_type": "stream",
     "text": [
      "Attributes:  {'Ok0', 'Ob0', 'm_nu', 'has_massive_nu', 'Om0', 'Onu0', 'meta', 'hubble_time', 'Tnu0', 'Tcmb0', 'Odm0', 'hubble_distance', 'Ogamma0', 'h', 'Neff', 'H0', 'Ode0', 'critical_density0', 'name'}\n",
      "\n",
      "Methods:  {'arcsec_per_kpc_comoving', 'angular_diameter_distance_z1z2', 'efunc', 'kpc_comoving_per_arcmin', 'w', 'differential_comoving_volume', 'Ogamma', 'Ok', 'de_density_scale', 'Tcmb', 'lookback_time', 'Onu', 'Ode', 'lookback_distance', 'age', 'absorption_distance', 'kpc_proper_per_arcmin', 'scale_factor', 'comoving_volume', 'angular_diameter_distance', 'critical_density', 'distmod', 'inv_efunc', 'H', 'Om', 'lookback_time_integrand', 'arcsec_per_kpc_proper', 'clone', 'Tnu', 'comoving_distance', 'nu_relative_density', 'luminosity_distance', 'Ob', 'abs_distance_integrand', 'Odm', 'comoving_transverse_distance'}\n"
     ]
    }
   ],
   "source": [
    "from astropy.cosmology import FlatLambdaCDM  # same as cosmology.FlatLambdaCDM\n",
    "\n",
    "pubdir = {x for x in dir(FlatLambdaCDM) if not x.startswith(\"_\")}\n",
    "print(\"Attributes: \", {x for x in pubdir if not callable(getattr(FlatLambdaCDM, x))})\n",
    "print(\"\\nMethods: \", {x for x in pubdir if callable(getattr(FlatLambdaCDM, x))})"
   ]
  },
  {
   "cell_type": "markdown",
   "metadata": {},
   "source": [
    "Many of the attributes are for components to the energy density (e.g. `.Onu0`) or derived quantities like the Hubble time (`.hubble_time`).\n",
    "\n",
    "The methods are for more involved calculations, like the comoving volume (``.comoving_volume()``)."
   ]
  },
  {
   "cell_type": "markdown",
   "metadata": {},
   "source": [
    "Before we dive into using the ``FlatLambdaCDM`` cosmology, it is worth noting that there are numerous other cosmologies, many offering alternative dark energy models."
   ]
  },
  {
   "cell_type": "code",
   "execution_count": 3,
   "metadata": {},
   "outputs": [
    {
     "name": "stdout",
     "output_type": "stream",
     "text": [
      "Other available cosmologies: Cosmology, FLRW, LambdaCDM, FlatLambdaCDM, wCDM, FlatwCDM, w0waCDM, Flatw0waCDM, wpwaCDM, w0wzCDM\n"
     ]
    }
   ],
   "source": [
    "from astropy.cosmology.core import Cosmology  # the base class\n",
    "\n",
    "def all_subclasses(cosmo):  # recursively find all subclasses\n",
    "    yield cosmo.__qualname__\n",
    "    for c in cosmo.__subclasses__(): yield from all_subclasses(c)\n",
    "\n",
    "print(\"Other available cosmologies:\", \", \".join(all_subclasses(Cosmology)))"
   ]
  },
  {
   "cell_type": "markdown",
   "metadata": {},
   "source": [
    "To work with a cosmology we must create an instance, a *realization*, of the cosmology class.\n",
    "A realization sets single values for the cosmological parameters and allows for numerical computation."
   ]
  },
  {
   "cell_type": "code",
   "execution_count": 4,
   "metadata": {},
   "outputs": [
    {
     "data": {
      "text/plain": [
       "FlatLambdaCDM(H0=70 km / (Mpc s), Om0=0.3, Tcmb0=2.7 K, Neff=3.04, m_nu=[0. 0. 0.] eV, Ob0=None)"
      ]
     },
     "execution_count": 4,
     "metadata": {},
     "output_type": "execute_result"
    }
   ],
   "source": [
    "# make a realization, setting the required H0 & Om0 and overriding the default Tcmb0\n",
    "cosmo = FlatLambdaCDM(H0=70*u.km/u.s/u.Mpc, Om0=0.3, Tcmb0=2.7*u.K)\n",
    "cosmo"
   ]
  },
  {
   "cell_type": "markdown",
   "metadata": {},
   "source": [
    "Now the attributes and methods shown above can be called."
   ]
  },
  {
   "cell_type": "code",
   "execution_count": 5,
   "metadata": {},
   "outputs": [
    {
     "data": {
      "text/latex": [
       "$70 \\; \\mathrm{\\frac{km}{Mpc\\,s}}$"
      ],
      "text/plain": [
       "<Quantity 70. km / (Mpc s)>"
      ]
     },
     "execution_count": 5,
     "metadata": {},
     "output_type": "execute_result"
    }
   ],
   "source": [
    "cosmo.H0"
   ]
  },
  {
   "cell_type": "code",
   "execution_count": 6,
   "metadata": {},
   "outputs": [
    {
     "data": {
      "text/latex": [
       "$13.96846 \\; \\mathrm{Gyr}$"
      ],
      "text/plain": [
       "<Quantity 13.96846031 Gyr>"
      ]
     },
     "execution_count": 6,
     "metadata": {},
     "output_type": "execute_result"
    }
   ],
   "source": [
    "cosmo.hubble_time"
   ]
  },
  {
   "cell_type": "code",
   "execution_count": 7,
   "metadata": {},
   "outputs": [
    {
     "data": {
      "text/latex": [
       "$397.8992 \\; \\mathrm{Mpc}$"
      ],
      "text/plain": [
       "<Quantity 397.89919802 Mpc>"
      ]
     },
     "execution_count": 7,
     "metadata": {},
     "output_type": "execute_result"
    }
   ],
   "source": [
    "cosmo.angular_diameter_distance_z1z2(2, 4)"
   ]
  },
  {
   "cell_type": "code",
   "execution_count": 8,
   "metadata": {},
   "outputs": [
    {
     "data": {
      "text/latex": [
       "$[3303.5374,~5179.0432,~6354.3427,~7168.5392,~7773.0968] \\; \\mathrm{Mpc}$"
      ],
      "text/plain": [
       "<Quantity [3303.53737457, 5179.04318219, 6354.34269871, 7168.53917228,\n",
       "           7773.09684295] Mpc>"
      ]
     },
     "execution_count": 8,
     "metadata": {},
     "output_type": "execute_result"
    }
   ],
   "source": [
    "# these also work on array input\n",
    "cosmo.comoving_distance([1, 2, 3, 4, 5])"
   ]
  },
  {
   "cell_type": "markdown",
   "metadata": {},
   "source": [
    "## Built-in Cosmology Realizations\n"
   ]
  },
  {
   "cell_type": "markdown",
   "metadata": {},
   "source": [
    "While the cosmology classes support arbitrary realizations, most often we are looking to work with a \"standard\" cosmology, such as the Planck 2018 best-fit values.\n",
    "\n",
    "Astropy provides a number of these built-in realizations:"
   ]
  },
  {
   "cell_type": "code",
   "execution_count": 9,
   "metadata": {},
   "outputs": [
    {
     "name": "stdout",
     "output_type": "stream",
     "text": [
      "['Planck18', 'Planck18_arXiv_v2', 'Planck15', 'Planck13', 'WMAP9', 'WMAP7', 'WMAP5']\n"
     ]
    }
   ],
   "source": [
    "print(cosmology.parameters.available)"
   ]
  },
  {
   "cell_type": "markdown",
   "metadata": {},
   "source": [
    "From hereon we will work with the ``Planck18`` realization."
   ]
  },
  {
   "cell_type": "code",
   "execution_count": 10,
   "metadata": {},
   "outputs": [
    {
     "data": {
      "text/plain": [
       "FlatLambdaCDM(name=\"Planck18\", H0=67.7 km / (Mpc s), Om0=0.31, Tcmb0=2.725 K, Neff=3.05, m_nu=[0.   0.   0.06] eV, Ob0=0.049)"
      ]
     },
     "execution_count": 10,
     "metadata": {},
     "output_type": "execute_result"
    }
   ],
   "source": [
    "from astropy.cosmology import Planck18; Planck18"
   ]
  },
  {
   "cell_type": "markdown",
   "metadata": {},
   "source": [
    "The Planck'18 realization sets the cosmology components, the temperature, and also has massive neutrinos."
   ]
  },
  {
   "cell_type": "markdown",
   "metadata": {},
   "source": [
    "Astropy ``cosmology`` and ``Quantity``s are built on NumPy, meaning that all methods are vectorized.\n",
    "We can see this in the following plot showing the Universe's age as a function of redshift."
   ]
  },
  {
   "cell_type": "code",
   "execution_count": 11,
   "metadata": {},
   "outputs": [
    {
     "data": {
      "image/png": "[encoded data removed]",
      "text/plain": [
       "<Figure size 640x480 with 1 Axes>"
      ]
     },
     "metadata": {},
     "output_type": "display_data"
    }
   ],
   "source": [
    "import numpy as np\n",
    "import matplotlib.pyplot as plt\n",
    "\n",
    "z = np.geomspace(0.1, 2e3, num=100)\n",
    "\n",
    "fig = plt.figure()\n",
    "ax = fig.add_subplot(xlabel=\"Redshift\", ylabel=\"Age [Gyr]\")\n",
    "ax.loglog(z, Planck18.age(z))\n",
    "ax.invert_xaxis()\n",
    "plt.show();"
   ]
  },
  {
   "cell_type": "markdown",
   "metadata": {},
   "source": [
    "### Modifying a Realization"
   ]
  },
  {
   "cell_type": "markdown",
   "metadata": {},
   "source": [
    "Cosmology realizations are immutable, but it's often useful to \"perturb\" about a cosmology. For this, cosmologies have a ``.clone()`` method that can also override any value, but keeps the remaining values the same. For example,"
   ]
  },
  {
   "cell_type": "code",
   "execution_count": 12,
   "metadata": {},
   "outputs": [
    {
     "data": {
      "text/plain": [
       "FlatLambdaCDM(name=\"perturbed\", H0=67.7 km / (Mpc s), Om0=0.4, Tcmb0=2.725 K, Neff=3.05, m_nu=[0.   0.   0.06] eV, Ob0=0.3)"
      ]
     },
     "execution_count": 12,
     "metadata": {},
     "output_type": "execute_result"
    }
   ],
   "source": [
    "newcosmo = Planck18.clone(Om0=0.4, Ob0=0.3, name=\"perturbed\")  # override \n",
    "newcosmo"
   ]
  },
  {
   "cell_type": "markdown",
   "metadata": {},
   "source": [
    "We can see the difference between ``Planck18`` and the new cosmology."
   ]
  },
  {
   "cell_type": "code",
   "execution_count": 13,
   "metadata": {},
   "outputs": [
    {
     "data": {
      "image/png": "[encoded data removed]",
      "text/plain": [
       "<Figure size 1400x500 with 2 Axes>"
      ]
     },
     "metadata": {},
     "output_type": "display_data"
    }
   ],
   "source": [
    "fig = plt.figure(figsize=(14, 5))\n",
    "ax = fig.add_subplot(121, title=\"Cosmology age\", xlabel=\"Redshift\", ylabel=r\"age  [Gyr]\")\n",
    "ax.semilogx(z, Planck18.age(z))\n",
    "ax.semilogx(z, newcosmo.age(z))\n",
    "ax.invert_xaxis()\n",
    "\n",
    "ax = fig.add_subplot(122, title=\"Cosmology age perturbation\", xlabel=\"Redshift\", ylabel=r\"$1 - \\frac{\\rm{perturbed}}{\\rm{Planck'18}}$\")\n",
    "ax.semilogx(z, np.abs(1 - newcosmo.age(z)/Planck18.age(z)))\n",
    "ax.invert_xaxis()\n",
    "plt.tight_layout()\n",
    "plt.show();"
   ]
  },
  {
   "cell_type": "markdown",
   "metadata": {},
   "source": [
    "## The Default Realization"
   ]
  },
  {
   "cell_type": "markdown",
   "metadata": {},
   "source": [
    "Consider the ``coordinates.Distance`` function. It is Astropy's flexible method to describe distances and understand the connection between distance, parallax, and other related distance measures."
   ]
  },
  {
   "cell_type": "code",
   "execution_count": 14,
   "metadata": {},
   "outputs": [],
   "source": [
    "from astropy.coordinates import Distance\n",
    "d = Distance(1 * u.Gpc)"
   ]
  },
  {
   "cell_type": "code",
   "execution_count": 15,
   "metadata": {},
   "outputs": [
    {
     "data": {
      "text/latex": [
       "$40 \\; \\mathrm{mag}$"
      ],
      "text/plain": [
       "<Quantity 40. mag>"
      ]
     },
     "execution_count": 15,
     "metadata": {},
     "output_type": "execute_result"
    }
   ],
   "source": [
    "d.distmod"
   ]
  },
  {
   "cell_type": "code",
   "execution_count": 16,
   "metadata": {},
   "outputs": [
    {
     "data": {
      "text/plain": [
       "0.19781979298501276"
      ]
     },
     "execution_count": 16,
     "metadata": {},
     "output_type": "execute_result"
    }
   ],
   "source": [
    "d.z  # the redshift"
   ]
  },
  {
   "cell_type": "markdown",
   "metadata": {},
   "source": [
    "The redshift calculation requires a Cosmology.\n",
    "When a ``Distance`` is initialized, it accepts the cosmology as a keyword argument, but if one is not provided, it will fall back to a default value. This default cosmology realization is controlled by the [``cosmology.default_cosmology``](https://docs.astropy.org/en/stable/api/astropy.cosmology.default_cosmology.html) global state (for more information see [``ScienceState``](https://docs.astropy.org/en/stable/api/astropy.utils.state.ScienceState.html)).\n",
    "\n",
    "Lets take a closer look."
   ]
  },
  {
   "cell_type": "code",
   "execution_count": 17,
   "metadata": {},
   "outputs": [],
   "source": [
    "from astropy.cosmology import default_cosmology"
   ]
  },
  {
   "cell_type": "code",
   "execution_count": 18,
   "metadata": {},
   "outputs": [
    {
     "data": {
      "text/plain": [
       "{'get', 'get_cosmology_from_string', 'set', 'validate'}"
      ]
     },
     "execution_count": 18,
     "metadata": {},
     "output_type": "execute_result"
    }
   ],
   "source": [
    "# the public methods\n",
    "{x for x in dir(default_cosmology) if not x.startswith(\"_\")}"
   ]
  },
  {
   "cell_type": "markdown",
   "metadata": {},
   "source": [
    "The ``get``/``set`` methods are the standard interface.\n",
    "\n",
    "``get`` will return the curent default cosmology realization,"
   ]
  },
  {
   "cell_type": "code",
   "execution_count": 19,
   "metadata": {},
   "outputs": [
    {
     "data": {
      "text/plain": [
       "FlatLambdaCDM(name=\"Planck18\", H0=67.7 km / (Mpc s), Om0=0.31, Tcmb0=2.725 K, Neff=3.05, m_nu=[0.   0.   0.06] eV, Ob0=0.049)"
      ]
     },
     "execution_count": 19,
     "metadata": {},
     "output_type": "execute_result"
    }
   ],
   "source": [
    "default_cosmology.get()  # to get the default Cosmology"
   ]
  },
  {
   "cell_type": "markdown",
   "metadata": {},
   "source": [
    "while ``set`` will set the default cosmology realization. If used as a [context-manager](https://docs.python.org/3/reference/compound_stmts.html#the-with-statement), the changed default cosmology realization\n",
    "will revert to the old default."
   ]
  },
  {
   "cell_type": "code",
   "execution_count": 20,
   "metadata": {},
   "outputs": [
    {
     "name": "stdout",
     "output_type": "stream",
     "text": [
      "New:  WMAP5\n",
      "Reverted:  Planck18\n"
     ]
    }
   ],
   "source": [
    "with default_cosmology.set(\"WMAP5\"):\n",
    "    cosmo = default_cosmology.get()\n",
    "    # do calculations here\n",
    "    print(\"New: \", cosmo.name)\n",
    "\n",
    "print(\"Reverted: \", default_cosmology.get().name)"
   ]
  },
  {
   "cell_type": "markdown",
   "metadata": {},
   "source": [
    "Returning to ``Distance``, we can see how changing the default cosmology realization will impact redshift calculations."
   ]
  },
  {
   "cell_type": "code",
   "execution_count": 21,
   "metadata": {},
   "outputs": [
    {
     "data": {
      "text/plain": [
       "0.19781979298501276"
      ]
     },
     "execution_count": 21,
     "metadata": {},
     "output_type": "execute_result"
    }
   ],
   "source": [
    "d = Distance(1 * u.Gpc)\n",
    "dz = d.z\n",
    "dz"
   ]
  },
  {
   "cell_type": "code",
   "execution_count": 22,
   "metadata": {},
   "outputs": [
    {
     "name": "stdout",
     "output_type": "stream",
     "text": [
      "WMAP5 - Planck18: 2.88% difference\n"
     ]
    }
   ],
   "source": [
    "with default_cosmology.set(\"WMAP5\"):\n",
    "    print(f\"WMAP5 - Planck18: {100 * (d.z / dz - 1):.3}% difference\")"
   ]
  },
  {
   "cell_type": "markdown",
   "metadata": {},
   "source": [
    "For a stable distance-to-redshift, do all calculations with a set cosmology."
   ]
  },
  {
   "cell_type": "code",
   "execution_count": 23,
   "metadata": {},
   "outputs": [
    {
     "name": "stdout",
     "output_type": "stream",
     "text": [
      "475.1400199368446 Mpc\n"
     ]
    }
   ],
   "source": [
    "with default_cosmology.set(\"Planck13\"):\n",
    "    print(Distance(z=0.1))"
   ]
  },
  {
   "cell_type": "markdown",
   "metadata": {},
   "source": [
    "## Equivalencies\n",
    "\n",
    "Equivalencies can be used to convert quantities that are not strictly the same physical type, but in a specific context are interchangable.  "
   ]
  },
  {
   "cell_type": "code",
   "execution_count": 24,
   "metadata": {},
   "outputs": [
    {
     "data": {
      "text/latex": [
       "$105 \\; \\mathrm{\\frac{Mpc}{h_{100}}}$"
      ],
      "text/plain": [
       "<Quantity 105. Mpc / littleh>"
      ]
     },
     "execution_count": 24,
     "metadata": {},
     "output_type": "execute_result"
    }
   ],
   "source": [
    "distance = 105 * (u.Mpc/u.littleh)\n",
    "distance"
   ]
  },
  {
   "cell_type": "code",
   "execution_count": 25,
   "metadata": {},
   "outputs": [
    {
     "name": "stdout",
     "output_type": "stream",
     "text": [
      "Cannot convert incompatible units.\n"
     ]
    }
   ],
   "source": [
    "# This raises an error because they are different units.\n",
    "try:\n",
    "    distance.to(u.Mpc)\n",
    "except u.UnitConversionError:\n",
    "    print(\"Cannot convert incompatible units.\")"
   ]
  },
  {
   "cell_type": "markdown",
   "metadata": {},
   "source": [
    "For cosmologies, Astropy offers a $h$ - $H_0$ equivalency for switching between the unitless and unit-ful Hubble constant. "
   ]
  },
  {
   "cell_type": "code",
   "execution_count": 26,
   "metadata": {},
   "outputs": [
    {
     "data": {
      "text/latex": [
       "$150 \\; \\mathrm{Mpc}$"
      ],
      "text/plain": [
       "<Quantity 150. Mpc>"
      ]
     },
     "execution_count": 26,
     "metadata": {},
     "output_type": "execute_result"
    }
   ],
   "source": [
    "# This succeeds using equivalencies.\n",
    "H0_70 = 70 * u.km / u.s / u.Mpc\n",
    "\n",
    "distance.to(u.Mpc, u.with_H0(H0_70))"
   ]
  },
  {
   "cell_type": "markdown",
   "metadata": {},
   "source": [
    "And vice versa"
   ]
  },
  {
   "cell_type": "code",
   "execution_count": 27,
   "metadata": {},
   "outputs": [
    {
     "data": {
      "text/latex": [
       "$105 \\; \\mathrm{\\frac{Mpc}{h_{100}}}$"
      ],
      "text/plain": [
       "<Quantity 105. Mpc / littleh>"
      ]
     },
     "execution_count": 27,
     "metadata": {},
     "output_type": "execute_result"
    }
   ],
   "source": [
    "(150 * u.Mpc).to(u.Mpc/u.littleh, u.with_H0(H0_70))"
   ]
  },
  {
   "cell_type": "markdown",
   "metadata": {},
   "source": [
    "This equivalency works for arbitrary Quantities."
   ]
  },
  {
   "cell_type": "code",
   "execution_count": 28,
   "metadata": {},
   "outputs": [
    {
     "data": {
      "text/latex": [
       "$1 \\; \\mathrm{L_{\\odot}}$"
      ],
      "text/plain": [
       "<Quantity 1. solLum>"
      ]
     },
     "execution_count": 28,
     "metadata": {},
     "output_type": "execute_result"
    }
   ],
   "source": [
    "luminosity = 0.49 * u.Lsun * u.littleh**-2\n",
    "luminosity.to(u.Lsun, u.with_H0(H0_70))"
   ]
  },
  {
   "cell_type": "markdown",
   "metadata": {},
   "source": [
    "Note that the equivalency is cosmology dependent."
   ]
  },
  {
   "cell_type": "code",
   "execution_count": 29,
   "metadata": {},
   "outputs": [
    {
     "name": "stdout",
     "output_type": "stream",
     "text": [
      "150.0 Mpc\n",
      "155.1877032219923 Mpc\n"
     ]
    }
   ],
   "source": [
    "print(distance.to(u.Mpc, u.with_H0(H0_70)),\n",
    "      distance.to(u.Mpc, u.with_H0(Planck18.H0)), sep=\"\\n\")"
   ]
  },
  {
   "cell_type": "markdown",
   "metadata": {},
   "source": [
    "To perform a number of computations with the same cosmology, use [astropy.units.add_enabled_equivalencies](https://docs.astropy.org/en/stable/api/astropy.units.add_enabled_equivalencies.html?highlight=add_enabled_equivalencies). When done as a ``with`` statement, this equivalency will only be enabled within the block and prevent mistakenly using the Planck18 equivalency when working with, e.g., WMAP data."
   ]
  },
  {
   "cell_type": "code",
   "execution_count": 30,
   "metadata": {},
   "outputs": [
    {
     "name": "stdout",
     "output_type": "stream",
     "text": [
      "distance: 155.1877032219923 Mpc\n",
      "luminosity: 1.0703654769474296 solLum\n"
     ]
    }
   ],
   "source": [
    "with u.add_enabled_equivalencies(u.with_H0(Planck18.H0)):\n",
    "    print(f\"distance: {distance.to(u.Mpc)}\",\n",
    "          f\"luminosity: {luminosity.to(u.Lsun)}\", sep=\"\\n\")"
   ]
  },
  {
   "cell_type": "markdown",
   "metadata": {},
   "source": [
    "There's a lot of flexibility with equivalencies, including a variety of other built-in equivalencies, useful in difference contexts.  So if you want to know more, you might want to check out the [equivalencies narrative documentation](https://docs.astropy.org/en/stable/units/equivalencies.html) or the [astropy.units.equivalencies reference docs](https://docs.astropy.org/en/stable/units/index.html#module-astropy.units.equivalencies)."
   ]
  },
  {
   "cell_type": "markdown",
   "metadata": {},
   "source": [
    "# Putting it all together:  a concise example\n"
   ]
  },
  {
   "cell_type": "markdown",
   "metadata": {},
   "source": [
    "Let's say we have a data set with an array of luminosity distances and we are interested in finding the corresponding redshift for an array of cosmologies.\n",
    "\n",
    "For this exercise we'll need a ``astropy.cosmology`` function to invert redshift-dependent function and find the redshift at a value."
   ]
  },
  {
   "cell_type": "code",
   "execution_count": 31,
   "metadata": {},
   "outputs": [],
   "source": [
    "from astropy.cosmology import z_at_value  # only works on scalar inputs"
   ]
  },
  {
   "cell_type": "code",
   "execution_count": 32,
   "metadata": {},
   "outputs": [
    {
     "data": {
      "text/plain": [
       "0.3277585104925771"
      ]
     },
     "execution_count": 32,
     "metadata": {},
     "output_type": "execute_result"
    }
   ],
   "source": [
    "z_at_value(Planck18.age, 10*u.Gyr)"
   ]
  },
  {
   "cell_type": "markdown",
   "metadata": {},
   "source": [
    "Our \"dataset\" will consist of a nice set of measurements"
   ]
  },
  {
   "cell_type": "code",
   "execution_count": 33,
   "metadata": {},
   "outputs": [],
   "source": [
    "distances = Distance(np.linspace(45, 2535, 100) * u.Mpc)"
   ]
  },
  {
   "cell_type": "markdown",
   "metadata": {},
   "source": [
    "Now we iterate over a number of cosmologies, perturbing the matter (and baryonic) parameters."
   ]
  },
  {
   "cell_type": "code",
   "execution_count": 34,
   "metadata": {},
   "outputs": [
    {
     "data": {
      "text/plain": [
       "(50, 100)"
      ]
     },
     "execution_count": 34,
     "metadata": {},
     "output_type": "execute_result"
    }
   ],
   "source": [
    "perturb_Om0 = np.linspace(-0.2, 0.2, num=50)  # the perturbation\n",
    "zs = np.empty((50, 100))  # preload derived redshift arrays\n",
    "\n",
    "for i, cosmo in enumerate(Planck18.clone(Om0=Planck18.Om0+dm, Ob0=Planck18.Om0+dm-0.001) for dm in perturb_Om0):\n",
    "    # compute the redshift at the luminosity distance\n",
    "    zs[i] = [z_at_value(cosmo.luminosity_distance, d) for d in distances]\n",
    "\n",
    "zs.shape"
   ]
  },
  {
   "cell_type": "code",
   "execution_count": 35,
   "metadata": {},
   "outputs": [
    {
     "data": {
      "image/png": "[encoded data removed]",
      "text/plain": [
       "<Figure size 640x480 with 1 Axes>"
      ]
     },
     "metadata": {},
     "output_type": "display_data"
    }
   ],
   "source": [
    "fig = plt.figure()\n",
    "ax = fig.add_subplot(title=\"Perturbed Matter Component\", xlabel=\"Distance [Mpc]\", ylabel=\"z\")\n",
    "ax.plot(distances, zs.T, c=\"gray\", alpha=0.1);\n",
    "for z, dm in zip(zs[::10, :], perturb_Om0[::10]):\n",
    "    ax.plot(distances, z, label=r\"$\\Delta\\Omega_{m0}=$\" + f\"{Planck18.Om0+dm:.3}\")\n",
    "ax.legend()\n",
    "plt.show();"
   ]
  },
  {
   "cell_type": "markdown",
   "metadata": {},
   "source": [
    "# Exercises\n",
    "\n",
    "## Exercise 1\n",
    "\n",
    "Compute the redshift of matter-radiation equality for the Planck 2018 flat-$\\Lambda$CDM realization.\n",
    "Convert this into a variety of distance measures: the scale factor, luminosity distance, distance modulus, etc."
   ]
  },
  {
   "cell_type": "markdown",
   "metadata": {},
   "source": [
    "*Hints*:\n",
    "\n",
    "- Check out ``z_at_value``\n",
    "- Astropy cosmology instances have defined methods for calculating the matter and radiation components as a function of redshift. See [the docs](https://docs.astropy.org/en/stable/api/astropy.cosmology.FLRW.html)."
   ]
  },
  {
   "cell_type": "code",
   "execution_count": 36,
   "metadata": {},
   "outputs": [
    {
     "data": {
      "text/plain": [
       "\u001b[0;31mSignature:\u001b[0m\n",
       "\u001b[0mz_at_value\u001b[0m\u001b[0;34m(\u001b[0m\u001b[0;34m\u001b[0m\n",
       "\u001b[0;34m\u001b[0m    \u001b[0mfunc\u001b[0m\u001b[0;34m,\u001b[0m\u001b[0;34m\u001b[0m\n",
       "\u001b[0;34m\u001b[0m    \u001b[0mfval\u001b[0m\u001b[0;34m,\u001b[0m\u001b[0;34m\u001b[0m\n",
       "\u001b[0;34m\u001b[0m    \u001b[0mzmin\u001b[0m\u001b[0;34m=\u001b[0m\u001b[0;36m1e-08\u001b[0m\u001b[0;34m,\u001b[0m\u001b[0;34m\u001b[0m\n",
       "\u001b[0;34m\u001b[0m    \u001b[0mzmax\u001b[0m\u001b[0;34m=\u001b[0m\u001b[0;36m1000\u001b[0m\u001b[0;34m,\u001b[0m\u001b[0;34m\u001b[0m\n",
       "\u001b[0;34m\u001b[0m    \u001b[0mztol\u001b[0m\u001b[0;34m=\u001b[0m\u001b[0;36m1e-08\u001b[0m\u001b[0;34m,\u001b[0m\u001b[0;34m\u001b[0m\n",
       "\u001b[0;34m\u001b[0m    \u001b[0mmaxfun\u001b[0m\u001b[0;34m=\u001b[0m\u001b[0;36m500\u001b[0m\u001b[0;34m,\u001b[0m\u001b[0;34m\u001b[0m\n",
       "\u001b[0;34m\u001b[0m    \u001b[0mmethod\u001b[0m\u001b[0;34m=\u001b[0m\u001b[0;34m'Brent'\u001b[0m\u001b[0;34m,\u001b[0m\u001b[0;34m\u001b[0m\n",
       "\u001b[0;34m\u001b[0m    \u001b[0mbracket\u001b[0m\u001b[0;34m=\u001b[0m\u001b[0;32mNone\u001b[0m\u001b[0;34m,\u001b[0m\u001b[0;34m\u001b[0m\n",
       "\u001b[0;34m\u001b[0m    \u001b[0mverbose\u001b[0m\u001b[0;34m=\u001b[0m\u001b[0;32mFalse\u001b[0m\u001b[0;34m,\u001b[0m\u001b[0;34m\u001b[0m\n",
       "\u001b[0;34m\u001b[0m\u001b[0;34m)\u001b[0m\u001b[0;34m\u001b[0m\u001b[0;34m\u001b[0m\u001b[0m\n",
       "\u001b[0;31mDocstring:\u001b[0m\n",
       "Find the redshift ``z`` at which ``func(z) = fval``.\n",
       "\n",
       "This finds the redshift at which one of the cosmology functions or\n",
       "methods (for example Planck13.distmod) is equal to a known value.\n",
       "\n",
       ".. warning::\n",
       "  Make sure you understand the behavior of the function that you\n",
       "  are trying to invert! Depending on the cosmology, there may not\n",
       "  be a unique solution. For example, in the standard Lambda CDM\n",
       "  cosmology, there are two redshifts which give an angular\n",
       "  diameter distance of 1500 Mpc, z ~ 0.7 and z ~ 3.8. To force\n",
       "  ``z_at_value`` to find the solution you are interested in, use the\n",
       "  ``zmin`` and ``zmax`` keywords to limit the search range (see the\n",
       "  example below).\n",
       "\n",
       "Parameters\n",
       "----------\n",
       "func : function or method\n",
       "   A function that takes a redshift as input.\n",
       "\n",
       "fval : `~astropy.units.Quantity` instance\n",
       "   The (scalar) value of ``func(z)`` to recover.\n",
       "\n",
       "zmin : float, optional\n",
       "   The lower search limit for ``z``.  Beware of divergences\n",
       "   in some cosmological functions, such as distance moduli,\n",
       "   at z=0 (default 1e-8).\n",
       "\n",
       "zmax : float, optional\n",
       "   The upper search limit for ``z`` (default 1000).\n",
       "\n",
       "ztol : float, optional\n",
       "   The relative error in ``z`` acceptable for convergence.\n",
       "\n",
       "maxfun : int, optional\n",
       "   The maximum number of function evaluations allowed in the\n",
       "   optimization routine (default 500).\n",
       "\n",
       "method : str or callable, optional\n",
       "   Type of solver to pass to the minimizer. The built-in options provided by\n",
       "   :func:`~scipy.optimize.minimize_scalar` are 'Brent' (default), 'Golden' and\n",
       "   'Bounded' with names case insensitive - see documentation there for details.\n",
       "   It also accepts a custom solver by passing any user-provided callable object\n",
       "   that meets the requirements listed therein under the Notes on\n",
       "   \"Custom minimizers\" - or in more detail in :doc:`scipy:tutorial/optimize` -\n",
       "   although their use is currently untested.\n",
       "\n",
       "   .. versionadded:: 4.3\n",
       "\n",
       "bracket : sequence, optional\n",
       "   For methods 'Brent' and 'Golden', ``bracket`` defines the bracketing\n",
       "   interval and can either have three items (z1, z2, z3) so that z1 < z2 < z3\n",
       "   and ``func(z2) < func(z1), func(z3)`` or two items z1 and z3 which are\n",
       "   assumed to be a starting interval for a downhill bracket search.\n",
       "   For non-monotone functions such as angular diameter distance this may be\n",
       "   used to start the search on the desired side of the maximum, but see\n",
       "   Examples below for usage notes.\n",
       "\n",
       "   .. versionadded:: 4.3\n",
       "\n",
       "verbose : bool, optional\n",
       "   Print diagnostic output from solver (default `False`).\n",
       "\n",
       "   .. versionadded:: 4.3\n",
       "\n",
       "\n",
       "Returns\n",
       "-------\n",
       "z : float\n",
       "  The redshift ``z`` satisfying ``zmin < z < zmax`` and ``func(z) =\n",
       "  fval`` within ``ztol``.\n",
       "\n",
       "Notes\n",
       "-----\n",
       "This works for any arbitrary input cosmology, but is inefficient\n",
       "if you want to invert a large number of values for the same\n",
       "cosmology. In this case, it is faster to instead generate an array\n",
       "of values at many closely-spaced redshifts that cover the relevant\n",
       "redshift range, and then use interpolation to find the redshift at\n",
       "each value you are interested in. For example, to efficiently find\n",
       "the redshifts corresponding to 10^6 values of the distance modulus\n",
       "in a Planck13 cosmology, you could do the following:\n",
       "\n",
       ">>> import astropy.units as u\n",
       ">>> from astropy.cosmology import Planck13, z_at_value\n",
       "\n",
       "Generate 10^6 distance moduli between 24 and 44 for which we\n",
       "want to find the corresponding redshifts:\n",
       "\n",
       ">>> Dvals = (24 + np.random.rand(1000000) * 20) * u.mag\n",
       "\n",
       "Make a grid of distance moduli covering the redshift range we\n",
       "need using 50 equally log-spaced values between zmin and\n",
       "zmax. We use log spacing to adequately sample the steep part of\n",
       "the curve at low distance moduli:\n",
       "\n",
       ">>> zmin = z_at_value(Planck13.distmod, Dvals.min())\n",
       ">>> zmax = z_at_value(Planck13.distmod, Dvals.max())\n",
       ">>> zgrid = np.logspace(np.log10(zmin), np.log10(zmax), 50)\n",
       ">>> Dgrid = Planck13.distmod(zgrid)\n",
       "\n",
       "Finally interpolate to find the redshift at each distance modulus:\n",
       "\n",
       ">>> zvals = np.interp(Dvals.value, Dgrid.value, zgrid)\n",
       "\n",
       "Examples\n",
       "--------\n",
       ">>> import astropy.units as u\n",
       ">>> from astropy.cosmology import Planck13, Planck18, z_at_value\n",
       "\n",
       "The age and lookback time are monotonic with redshift, and so a\n",
       "unique solution can be found:\n",
       "\n",
       ">>> z_at_value(Planck13.age, 2 * u.Gyr)                # doctest: +FLOAT_CMP\n",
       "3.19812268\n",
       "\n",
       "The angular diameter is not monotonic however, and there are two\n",
       "redshifts that give a value of 1500 Mpc. You can use the zmin and\n",
       "zmax keywords to find the one you are interested in:\n",
       "\n",
       ">>> z_at_value(Planck18.angular_diameter_distance,\n",
       "...            1500 * u.Mpc, zmax=1.5)                 # doctest: +FLOAT_CMP\n",
       "0.68044452\n",
       ">>> z_at_value(Planck18.angular_diameter_distance,\n",
       "...            1500 * u.Mpc, zmin=2.5)                 # doctest: +FLOAT_CMP\n",
       "3.7823268\n",
       "\n",
       "Alternatively the ``bracket`` option may be used to initialize the\n",
       "function solver on a desired region, but one should be aware that this\n",
       "does not guarantee it will remain close to this starting bracket.\n",
       "For the example of angular diameter distance, which has a maximum near\n",
       "a redshift of 1.6 in this cosmology, defining a bracket on either side\n",
       "of this maximum will often return a solution on the same side:\n",
       "\n",
       ">>> z_at_value(Planck18.angular_diameter_distance,\n",
       "...            1500 * u.Mpc, bracket=(1.0, 1.2))       # doctest: +FLOAT_CMP +IGNORE_WARNINGS\n",
       "0.68044452\n",
       "\n",
       "But this is not ascertained especially if the bracket is chosen too wide\n",
       "and/or too close to the turning point:\n",
       "\n",
       ">>> z_at_value(Planck18.angular_diameter_distance,\n",
       "...            1500 * u.Mpc, bracket=(0.1, 1.5))       # doctest: +SKIP\n",
       "3.7823268                                              # doctest: +SKIP\n",
       "\n",
       "Likewise, even for the same minimizer and same starting conditions different\n",
       "results can be found depending on architecture or library versions:\n",
       "\n",
       ">>> z_at_value(Planck18.angular_diameter_distance,\n",
       "...            1500 * u.Mpc, bracket=(2.0, 2.5))       # doctest: +SKIP\n",
       "3.7823268                                              # doctest: +SKIP\n",
       "\n",
       ">>> z_at_value(Planck18.angular_diameter_distance,\n",
       "...            1500 * u.Mpc, bracket=(2.0, 2.5))       # doctest: +SKIP\n",
       "0.68044452                                             # doctest: +SKIP\n",
       "\n",
       "It is therefore generally safer to use the 3-parameter variant to ensure\n",
       "the solution stays within the bracketing limits:\n",
       "\n",
       ">>> z_at_value(Planck18.angular_diameter_distance,\n",
       "...            1500 * u.Mpc, bracket=(0.1, 1.0, 1.5))  # doctest: +FLOAT_CMP\n",
       "0.68044452\n",
       "\n",
       "Also note that the luminosity distance and distance modulus (two\n",
       "other commonly inverted quantities) are monotonic in flat and open\n",
       "universes, but not in closed universes.\n",
       "\u001b[0;31mFile:\u001b[0m      ~/local/astropy/astropy/cosmology/funcs.py\n",
       "\u001b[0;31mType:\u001b[0m      function\n"
      ]
     },
     "metadata": {},
     "output_type": "display_data"
    }
   ],
   "source": [
    "z_at_value?"
   ]
  },
  {
   "cell_type": "code",
   "execution_count": 37,
   "metadata": {
    "slideshow": {
     "slide_type": "-"
    }
   },
   "outputs": [],
   "source": [
    "# Answer here (z)"
   ]
  },
  {
   "cell_type": "code",
   "execution_count": 38,
   "metadata": {},
   "outputs": [],
   "source": [
    "# Answer here (a, d, m-M)"
   ]
  }
 ],
 "metadata": {
  "anaconda-cloud": {},
  "kernelspec": {
   "display_name": "Python 3",
   "language": "python",
   "name": "python3"
  },
  "language_info": {
   "codemirror_mode": {
    "name": "ipython",
    "version": 3
   },
   "file_extension": ".py",
   "mimetype": "text/x-python",
   "name": "python",
   "nbconvert_exporter": "python",
   "pygments_lexer": "ipython3",
   "version": "3.9.5"
  },
  "nteract": {
   "version": "0.28.0"
  },
  "toc": {
   "base_numbering": 1,
   "nav_menu": {},
   "number_sections": true,
   "sideBar": true,
   "skip_h1_title": false,
   "title_cell": "Table of Contents",
   "title_sidebar": "Contents",
   "toc_cell": false,
   "toc_position": {},
   "toc_section_display": true,
   "toc_window_display": false
  }
 },
 "nbformat": 4,
 "nbformat_minor": 4
}
