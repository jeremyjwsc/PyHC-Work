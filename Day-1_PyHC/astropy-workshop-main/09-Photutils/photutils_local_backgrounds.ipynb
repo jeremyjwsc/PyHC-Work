{
 "cells": [
  {
   "cell_type": "markdown",
   "metadata": {},
   "source": [
    "<img src=\"data/photutils_banner.svg\" width=500 alt=\"Photutils logo\" style=\"margin-left: 0;\">"
   ]
  },
  {
   "cell_type": "markdown",
   "metadata": {},
   "source": [
    "# Photutils\n",
    "\n",
    "- Code: https://github.com/astropy/photutils\n",
    "- Documentation: https://photutils.readthedocs.io/en/stable/\n",
    "- Issue Tracker:  https://github.com/astropy/photutils/issues\n",
    "\n",
    "\n",
    "<div class=\"alert alert-block alert-info\">\n",
    "<h2 style=\"margin-top: 0\">In this notebook, we will cover:</h2>\n",
    "\n",
    "- Local background estimation\n",
    "- Aperture mask objects\n",
    "</div>\n",
    "\n",
    "---"
   ]
  },
  {
   "cell_type": "markdown",
   "metadata": {},
   "source": [
    "# Local Background Subtraction"
   ]
  },
  {
   "cell_type": "markdown",
   "metadata": {},
   "source": [
    "## Preliminaries"
   ]
  },
  {
   "cell_type": "code",
   "execution_count": null,
   "metadata": {
    "slideshow": {
     "slide_type": "slide"
    }
   },
   "outputs": [],
   "source": [
    "# initial imports\n",
    "import numpy as np\n",
    "import matplotlib.pyplot as plt\n",
    "\n",
    "# change some default plotting parameters\n",
    "import matplotlib as mpl\n",
    "mpl.rcParams['image.origin'] = 'lower'\n",
    "mpl.rcParams['image.interpolation'] = 'nearest'\n",
    "\n",
    "# Run the %matplotlib magic command to enable inline plotting\n",
    "# in the current notebook.  Choose one of these:\n",
    "%matplotlib inline\n",
    "# %matplotlib notebook"
   ]
  },
  {
   "cell_type": "markdown",
   "metadata": {},
   "source": [
    "### Load the data"
   ]
  },
  {
   "cell_type": "markdown",
   "metadata": {
    "slideshow": {
     "slide_type": "-"
    }
   },
   "source": [
    "We'll start by reading science data and error arrays from FITS files located in the [**data/**](data) subdirectory.  The FITS files contain 2D cutout images from the [Hubble Extreme-Deep Field (XDF)](https://archive.stsci.edu/prepds/xdf/) taken with the [Wide Field Camera 3 (WFC3)](https://www.stsci.edu/hst/instrumentation/wfc3) IR channel in the F160W filter (centered at ~1.6 $\\mu m$)."
   ]
  },
  {
   "cell_type": "code",
   "execution_count": null,
   "metadata": {
    "slideshow": {
     "slide_type": "-"
    }
   },
   "outputs": [],
   "source": [
    "from astropy.io import fits\n",
    "from astropy.wcs import WCS\n",
    "\n",
    "sci_fn = 'data/xdf_hst_wfc3ir_60mas_f160w_sci.fits'\n",
    "rms_fn = 'data/xdf_hst_wfc3ir_60mas_f160w_rms.fits'\n",
    "\n",
    "hdr = fits.getheader(sci_fn)\n",
    "data = fits.getdata(sci_fn)\n",
    "error = fits.getdata(rms_fn)\n",
    "wcs = WCS(hdr)"
   ]
  },
  {
   "cell_type": "code",
   "execution_count": null,
   "metadata": {},
   "outputs": [],
   "source": [
    "# calculate the total error:  background plus source Poisson error\n",
    "from photutils.utils import calc_total_error\n",
    "\n",
    "eff_gain = hdr['TEXPTIME']\n",
    "total_error = calc_total_error(data, error, eff_gain)"
   ]
  },
  {
   "cell_type": "markdown",
   "metadata": {},
   "source": [
    "The background in the XDF image has already been subtracted.  Let's add a background of 5 e-/s so we'll have something to subtract."
   ]
  },
  {
   "cell_type": "code",
   "execution_count": null,
   "metadata": {},
   "outputs": [],
   "source": [
    "data += 5."
   ]
  },
  {
   "cell_type": "code",
   "execution_count": null,
   "metadata": {
    "slideshow": {
     "slide_type": "fragment"
    }
   },
   "outputs": [],
   "source": [
    "# display the data\n",
    "from astropy.visualization import simple_norm\n",
    "\n",
    "plt.figure(figsize=(8, 8))\n",
    "norm = simple_norm(data, 'sqrt', percent=99.5)\n",
    "plt.imshow(data, norm=norm)\n",
    "plt.colorbar(shrink=0.8)"
   ]
  },
  {
   "cell_type": "markdown",
   "metadata": {
    "slideshow": {
     "slide_type": "slide"
    }
   },
   "source": [
    "## Perform aperture photometry at multiple positions"
   ]
  },
  {
   "cell_type": "code",
   "execution_count": null,
   "metadata": {
    "slideshow": {
     "slide_type": "-"
    }
   },
   "outputs": [],
   "source": [
    "# define three apertures\n",
    "from photutils.aperture import CircularAperture\n",
    "\n",
    "positions = [(90.73, 59.43), (73.63, 139.41), (43.62, 61.63)]\n",
    "radius = 5.  # pixels\n",
    "apertures = CircularAperture(positions, r=radius)"
   ]
  },
  {
   "cell_type": "code",
   "execution_count": null,
   "metadata": {},
   "outputs": [],
   "source": [
    "# plot the apertures\n",
    "plt.figure(figsize=(8, 8))\n",
    "plt.imshow(data, norm=norm)\n",
    "apertures.plot(color='red', lw=2);"
   ]
  },
  {
   "cell_type": "code",
   "execution_count": null,
   "metadata": {
    "slideshow": {
     "slide_type": "-"
    }
   },
   "outputs": [],
   "source": [
    "# perform aperture photometry for the three sources\n",
    "# data here includes background, so the aperture sums are *not* the source fluxes\n",
    "# ideally the data array should be background subtracted before running aperture_photometry\n",
    "import astropy.units as u\n",
    "from photutils.aperture import aperture_photometry\n",
    "\n",
    "unit = u.electron / u.s\n",
    "phot = aperture_photometry(data << unit, apertures, error=total_error << unit)\n",
    "phot"
   ]
  },
  {
   "cell_type": "markdown",
   "metadata": {},
   "source": [
    "## Local background estimation"
   ]
  },
  {
   "cell_type": "markdown",
   "metadata": {},
   "source": [
    "Let's start by creating circular-annulus apertures at the same positions.\n",
    "\n",
    "Here we're define each circular annulus to have an inner and outer radius of 10 and 15 pixels, respectively.\n",
    "\n",
    "The circular-annulus apertures will be used for local background estimation around the sources."
   ]
  },
  {
   "cell_type": "code",
   "execution_count": null,
   "metadata": {},
   "outputs": [],
   "source": [
    "from photutils.aperture import CircularAnnulus\n",
    "\n",
    "positions = [(90.73, 59.43), (73.63, 139.41), (43.62, 61.63)]\n",
    "aper = CircularAperture(positions, r=5)\n",
    "bkg_aper = CircularAnnulus(positions, r_in=10., r_out=15.)\n",
    "apers = [aper, bkg_aper]"
   ]
  },
  {
   "cell_type": "code",
   "execution_count": null,
   "metadata": {},
   "outputs": [],
   "source": [
    "# plot the apertures\n",
    "plt.figure(figsize=(8, 8))\n",
    "plt.imshow(data, norm=norm)\n",
    "aper_patches = aper.plot(color='white', lw=2, label='Photometry aperture')\n",
    "ann_patches = bkg_aper.plot(color='orange', lw=2, label='Background annulus', hatch='///')\n",
    "handles = (aper_patches[0], ann_patches[0])\n",
    "plt.legend(loc=(0.03, 0.90), facecolor='#458989', labelcolor='white',\n",
    "              handles=handles, prop={'weight': 'bold', 'size': 11});"
   ]
  },
  {
   "cell_type": "markdown",
   "metadata": {},
   "source": [
    "### Simple local background estimation"
   ]
  },
  {
   "cell_type": "markdown",
   "metadata": {},
   "source": [
    "This first example uses the mean value in circular annulus as the background value.  We'll use the `aperture_photometry` function to calculate the pixel sum in the circular annulus, from which we can calculate the mean background value."
   ]
  },
  {
   "cell_type": "code",
   "execution_count": null,
   "metadata": {},
   "outputs": [],
   "source": [
    "phot = aperture_photometry(data, apers)\n",
    "phot.rename_column('aperture_sum_0', 'aperture_sum')\n",
    "phot.rename_column('aperture_sum_1', 'annulus_sum')\n",
    "phot"
   ]
  },
  {
   "cell_type": "markdown",
   "metadata": {},
   "source": [
    "Note that the fluxes cannot be simply subtracted because the aperture areas are different.\n",
    "\n",
    "First, calculate the mean background level (per pixel) in the annuli."
   ]
  },
  {
   "cell_type": "code",
   "execution_count": null,
   "metadata": {},
   "outputs": [],
   "source": [
    "phot['annulus_mean'] = phot['annulus_sum'] / bkg_aper.area\n",
    "phot"
   ]
  },
  {
   "cell_type": "markdown",
   "metadata": {},
   "source": [
    "Then multiply it by the circular aperture area to get the total background in the apertures."
   ]
  },
  {
   "cell_type": "code",
   "execution_count": null,
   "metadata": {},
   "outputs": [],
   "source": [
    "phot['aperture_bkg'] = phot['annulus_mean'] * aper.area\n",
    "phot"
   ]
  },
  {
   "cell_type": "markdown",
   "metadata": {},
   "source": [
    "Now subtract the background."
   ]
  },
  {
   "cell_type": "code",
   "execution_count": null,
   "metadata": {},
   "outputs": [],
   "source": [
    "# subtract the background\n",
    "flux_bkgsub = phot['aperture_sum'] - phot['aperture_bkg']\n",
    "\n",
    "phot['aperture_sum_bkgsub'] = flux_bkgsub\n",
    "phot"
   ]
  },
  {
   "cell_type": "markdown",
   "metadata": {},
   "source": [
    "### Custom local background subtraction"
   ]
  },
  {
   "cell_type": "markdown",
   "metadata": {},
   "source": [
    "One can use aperture masks to directly access the pixel values in an aperture.  This allows for advanced local background subtraction including, for example, sigma clipping."
   ]
  },
  {
   "cell_type": "markdown",
   "metadata": {},
   "source": [
    "Aperture masks are created using the `to_mask()` method."
   ]
  },
  {
   "cell_type": "code",
   "execution_count": null,
   "metadata": {},
   "outputs": [],
   "source": [
    "bkg_mask = bkg_aper.to_mask()"
   ]
  },
  {
   "cell_type": "markdown",
   "metadata": {},
   "source": [
    "`bkg_mask` is a list of [ApertureMask](https://photutils.readthedocs.io/en/latest/api/photutils.aperture.ApertureMask.html#photutils.aperture.ApertureMask) objects, one for each aperture position."
   ]
  },
  {
   "cell_type": "code",
   "execution_count": null,
   "metadata": {},
   "outputs": [],
   "source": [
    "bkg_mask"
   ]
  },
  {
   "cell_type": "markdown",
   "metadata": {},
   "source": [
    "Let's plot the first aperture mask."
   ]
  },
  {
   "cell_type": "code",
   "execution_count": null,
   "metadata": {},
   "outputs": [],
   "source": [
    "plt.figure(figsize=(6, 6))\n",
    "plt.imshow(bkg_mask[0])  # index 0 means first mask\n",
    "plt.colorbar(shrink=0.8);"
   ]
  },
  {
   "cell_type": "markdown",
   "metadata": {},
   "source": [
    "The mask pixel values are between 0 and 1 (inclusive), indicating the fractional overlap of the aperture with the pixel grid.  The fractional values (between 0 and 1) on the edges are because the default overlap method is `'exact'`.  We can use other methods, e.g., `'center'`, where pixels are either completely in or out of the aperture depending on whether the pixel center is in or out of the aperture.  In that case, the mask pixel values will be either 0 or 1 (no fractional values)."
   ]
  },
  {
   "cell_type": "code",
   "execution_count": null,
   "metadata": {
    "scrolled": true
   },
   "outputs": [],
   "source": [
    "plt.figure(figsize=(6, 6))\n",
    "bkg_mask = bkg_aper.to_mask(method='center')\n",
    "plt.imshow(bkg_mask[0])\n",
    "plt.colorbar(shrink=0.8);"
   ]
  },
  {
   "cell_type": "markdown",
   "metadata": {},
   "source": [
    "The pixel values in the above mask are either 0 or 1.  **This type of mask (i.e., method='center') is strongly recommended for local background estimation.**\n",
    "\n",
    "One could use the `'exact'` mask, but it requires using statistical functions that can handle partial-pixel weights.  That introduces a lot of unnecessary complexity when the aperture is simply being used to estimate the local background -- whole pixels are fine, assuming you have a sufficient number of them."
   ]
  },
  {
   "cell_type": "markdown",
   "metadata": {},
   "source": [
    "We can now use the `ApertureMask` `get_values()` method to get the mask-weighted pixel values from the data as a 1D array.  Because the mask contains only 0 or 1 values, the result is simply the data pixel values located within the annulus aperture."
   ]
  },
  {
   "cell_type": "code",
   "execution_count": null,
   "metadata": {
    "scrolled": false
   },
   "outputs": [],
   "source": [
    "plt.figure(figsize=(6, 6))\n",
    "bmask = bkg_mask[0]  # first aperture mask\n",
    "aper_data = bmask.get_values(data)\n",
    "plt.plot(aper_data)\n",
    "plt.axhline(5.0, color='orange');"
   ]
  },
  {
   "cell_type": "code",
   "execution_count": null,
   "metadata": {},
   "outputs": [],
   "source": [
    "# distribution of data values in the annulus aperture\n",
    "plt.hist(aper_data, bins=20);\n",
    "plt.axvline(5.0, color='orange');"
   ]
  },
  {
   "cell_type": "markdown",
   "metadata": {},
   "source": [
    "You can then use your favorite statistical estimator on this data to estimate the background level."
   ]
  },
  {
   "cell_type": "code",
   "execution_count": null,
   "metadata": {},
   "outputs": [],
   "source": [
    "# simple mean and median\n",
    "np.mean(aper_data), np.median(aper_data)"
   ]
  },
  {
   "cell_type": "code",
   "execution_count": null,
   "metadata": {},
   "outputs": [],
   "source": [
    "# sigma-clipped mean and median\n",
    "from astropy.stats import sigma_clipped_stats\n",
    "\n",
    "mean_sigclip, median_sigclip, std_sigclip = sigma_clipped_stats(aper_data)\n",
    "mean_sigclip, median_sigclip"
   ]
  },
  {
   "cell_type": "code",
   "execution_count": null,
   "metadata": {},
   "outputs": [],
   "source": [
    "# biweight \"mean\"\n",
    "from astropy.stats import biweight_location\n",
    "\n",
    "biweight_location(aper_data)"
   ]
  },
  {
   "cell_type": "markdown",
   "metadata": {},
   "source": [
    "These background estimates represent the background *per pixel* for the first source only.  Like the first  local background example, be sure to calculate the total background within the circular aperture before subtracting.  The area of the `'exact'` circular aperture that we used for photometry is returned by its `area()` method."
   ]
  },
  {
   "cell_type": "code",
   "execution_count": null,
   "metadata": {},
   "outputs": [],
   "source": [
    "# total background in circular aperture of the first source\n",
    "# estimated using a sigma-clipped median in the circular annulus\n",
    "bkg_total = aper.area * median_sigclip\n",
    "bkg_total"
   ]
  },
  {
   "cell_type": "markdown",
   "metadata": {},
   "source": [
    "Now let's subtract the background from the first source."
   ]
  },
  {
   "cell_type": "code",
   "execution_count": null,
   "metadata": {},
   "outputs": [],
   "source": [
    "phot['aperture_sum'][0] - bkg_total"
   ]
  },
  {
   "cell_type": "markdown",
   "metadata": {},
   "source": [
    "Because there were not any outliers in the background annulus, the result is very close to our first local background estimate (based on a simple mean)."
   ]
  },
  {
   "cell_type": "code",
   "execution_count": null,
   "metadata": {},
   "outputs": [],
   "source": [
    "phot['aperture_sum_bkgsub'][0]"
   ]
  },
  {
   "cell_type": "markdown",
   "metadata": {},
   "source": [
    "## Putting it all together"
   ]
  },
  {
   "cell_type": "markdown",
   "metadata": {},
   "source": [
    "Above was a very pedagogical description of the underlying methods for local background subtraction for a single source.\n",
    "\n",
    "However, it's quite straightforward to do this for all of the sources in just a few lines of code.  For this example, we'll again use the sigma-clipped median of the pixels in the background annuli for the background estimates of each source."
   ]
  },
  {
   "cell_type": "markdown",
   "metadata": {},
   "source": [
    "First, let's calculate the sigma-clipped median values in each of the background annuli."
   ]
  },
  {
   "cell_type": "code",
   "execution_count": null,
   "metadata": {},
   "outputs": [],
   "source": [
    "bkg_median = []\n",
    "bkg_mask = bkg_aper.to_mask(method='center')\n",
    "for mask in bkg_mask:\n",
    "    aper_data = bmask.get_values(data)\n",
    "    \n",
    "    # perform a sigma-clipped median\n",
    "    _, median_sigclip, _ = sigma_clipped_stats(aper_data)\n",
    "    bkg_median.append(median_sigclip)\n",
    "    \n",
    "bkg_median = np.array(bkg_median)\n",
    "bkg_median"
   ]
  },
  {
   "cell_type": "markdown",
   "metadata": {},
   "source": [
    "Again, the above values are the background *per pixel*.  Let's correct for the circular aperture area, subtract the background, and add them as table columns (`annulus_median`, `aperture_bkg2`, and `aperture_sum_bksub2`).\n",
    "\n",
    "The simple mean columns are in the table for comparison."
   ]
  },
  {
   "cell_type": "code",
   "execution_count": null,
   "metadata": {},
   "outputs": [],
   "source": [
    "phot['annulus_median'] = bkg_median\n",
    "phot['aperture_bkg2'] = bkg_median * aper.area\n",
    "phot['aperture_sum_bkgsub2'] = phot['aperture_sum'] - phot['aperture_bkg2']\n",
    "phot"
   ]
  },
  {
   "cell_type": "markdown",
   "metadata": {},
   "source": [
    "## A few more things about `ApertureMask`"
   ]
  },
  {
   "cell_type": "markdown",
   "metadata": {},
   "source": [
    "Cutouts of each source using the minimal bounding box of each aperture can be obtained using its `cutout()` method."
   ]
  },
  {
   "cell_type": "code",
   "execution_count": null,
   "metadata": {},
   "outputs": [],
   "source": [
    "plt.figure(figsize=(5, 5))\n",
    "# bmask was defined above as the aperture mask of the first source\n",
    "plt.imshow(bmask.cutout(data))"
   ]
  },
  {
   "cell_type": "markdown",
   "metadata": {},
   "source": [
    "The `multiply()` method produces a 2D image of the aperture mask multiplied by the data cutout."
   ]
  },
  {
   "cell_type": "code",
   "execution_count": null,
   "metadata": {},
   "outputs": [],
   "source": [
    "plt.figure(figsize=(15, 10))\n",
    "\n",
    "plt.subplot(1, 3, 1)\n",
    "plt.imshow(bmask)\n",
    "plt.title('Aperture Mask')\n",
    "\n",
    "plt.subplot(1, 3, 2)\n",
    "plt.title('Data Cutout')\n",
    "plt.imshow(bmask.cutout(data))\n",
    "\n",
    "plt.subplot(1, 3, 3)\n",
    "plt.title('Aperture Mask * Data Cutout')\n",
    "plt.imshow(bmask.multiply(data), vmin=4.998, vmax=5.002);"
   ]
  },
  {
   "cell_type": "markdown",
   "metadata": {},
   "source": [
    "One can also plot the location of the mask on the original data using the `to_image()` method."
   ]
  },
  {
   "cell_type": "code",
   "execution_count": null,
   "metadata": {},
   "outputs": [],
   "source": [
    "plt.figure(figsize=(10, 10))\n",
    "\n",
    "plt.subplot(1, 2, 1)\n",
    "plt.title('Data')\n",
    "plt.imshow(data, norm=norm)\n",
    "\n",
    "plt.subplot(1, 2, 2)\n",
    "plt.title('Background Annulus Mask')\n",
    "plt.imshow(bmask.to_image(data.shape))"
   ]
  },
  {
   "cell_type": "markdown",
   "metadata": {},
   "source": [
    "We can also use the `bbox` attribute to plot the extent of the annulus mask in the image."
   ]
  },
  {
   "cell_type": "code",
   "execution_count": null,
   "metadata": {},
   "outputs": [],
   "source": [
    "plt.figure(figsize=(8, 8))\n",
    "plt.imshow(data, norm=norm)\n",
    "bkg_aper.plot(color='orange', lw=2)\n",
    "bmask.bbox.plot(color='white', lw=2)"
   ]
  }
 ],
 "metadata": {
  "anaconda-cloud": {},
  "kernelspec": {
   "display_name": "Python 3",
   "language": "python",
   "name": "python3"
  },
  "language_info": {
   "codemirror_mode": {
    "name": "ipython",
    "version": 3
   },
   "file_extension": ".py",
   "mimetype": "text/x-python",
   "name": "python",
   "nbconvert_exporter": "python",
   "pygments_lexer": "ipython3",
   "version": "3.9.4"
  }
 },
 "nbformat": 4,
 "nbformat_minor": 1
}
