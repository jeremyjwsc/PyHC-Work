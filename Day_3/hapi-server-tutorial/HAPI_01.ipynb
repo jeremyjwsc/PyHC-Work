{
 "cells": [
  {
   "cell_type": "markdown",
   "metadata": {
    "tags": [],
    "toc-hr-collapsed": true
   },
   "source": [
    "# Class Notebooks\n",
    "\n",
    "* [HAPI_00.ipynb](HAPI_00.ipynb) - Introduction\n",
    "* **[HAPI_01.ipynb](HAPI_01.ipynb) - Basics (this Notebook)**\n",
    "* [HAPI_02.ipynb](HAPI_02.ipynb) - Data structures\n",
    "* [HAPI_03.ipynb](HAPI_03.ipynb) - Plotting\n",
    "* [HAPI_04.ipynb](HAPI_04.ipynb) - Problems\n",
    "\n",
    "# Setup\n",
    "\n",
    "We'll be using data from the October 28, 2021 flare + CME event that started at 15:35 UTC.\n",
    "\n",
    "First, we will import the HAPI libraries.  We'll repeat these calls in each example so that you can try them in any order during this demo.  The basic import lines can be used in any Python code. "
   ]
  },
  {
   "cell_type": "code",
   "execution_count": null,
   "metadata": {
    "id": "Q5L4NSn4W6Dg"
   },
   "outputs": [],
   "source": [
    "from hapiclient import hapi\n",
    "from hapiplot import hapiplot"
   ]
  },
  {
   "cell_type": "markdown",
   "metadata": {},
   "source": [
    "The following are optional Jupyter Notebook-specific configuration options"
   ]
  },
  {
   "cell_type": "code",
   "execution_count": null,
   "metadata": {},
   "outputs": [],
   "source": [
    "# Show Matplotlib plots in page instead of opening a window\n",
    "%matplotlib inline \n",
    "# Have Matplotlib create vector (svg) instead of raster (png) images\n",
    "%config InlineBackend.figure_formats = ['svg']\n",
    "\n",
    "# Misc. configuration\n",
    "import warnings\n",
    "# See https://github.com/boto/boto3/issues/454 for an explanation of suppressed warning.\n",
    "warnings.simplefilter(\"ignore\", ResourceWarning)"
   ]
  },
  {
   "cell_type": "markdown",
   "metadata": {
    "id": "ALQ979SQW6Dh",
    "toc-hr-collapsed": true
   },
   "source": [
    "# Display documentation\n",
    "\n",
    "The function [`hapi`](https://github.com/hapi-server/client-python/blob/master/hapiclient/hapi.py#L144) is the primary function that you will use. Note that it does not follow common Python conventions for function calls because the number of non-keyword arguments is not fixed and the number of outputs varies depending on the input arguments."
   ]
  },
  {
   "cell_type": "code",
   "execution_count": null,
   "metadata": {
    "colab": {
     "base_uri": "https://localhost:8080/"
    },
    "id": "GqBguSXIW6Dh",
    "outputId": "72e2eb70-614e-4afe-dd8b-762f460e2d5a",
    "tags": []
   },
   "outputs": [],
   "source": [
    "from hapiclient import hapi\n",
    "help(hapi)"
   ]
  },
  {
   "cell_type": "markdown",
   "metadata": {
    "tags": []
   },
   "source": [
    "The other two functions that you will use are [`hapitime2datetime`](https://github.com/hapi-server/client-python/blob/master/hapiclient/hapitime.py#L158) and [`hapiplot`](https://github.com/hapi-server/plot-python/blob/main/hapiplot/hapiplot.py#L17)."
   ]
  },
  {
   "cell_type": "code",
   "execution_count": null,
   "metadata": {
    "tags": []
   },
   "outputs": [],
   "source": [
    "from hapiclient import hapitime2datetime\n",
    "help(hapitime2datetime)"
   ]
  },
  {
   "cell_type": "code",
   "execution_count": null,
   "metadata": {
    "tags": []
   },
   "outputs": [],
   "source": [
    "from hapiplot import hapiplot\n",
    "help(hapiplot)"
   ]
  },
  {
   "cell_type": "markdown",
   "metadata": {
    "tags": [],
    "toc-hr-collapsed": true
   },
   "source": [
    "# Get Data\n",
    "\n",
    "The event started at 15:35 UTC on Oct 28, 2021 with a [X1 Flare](https://www.spaceweatherlive.com/en/news/view/445/20211028-x1-solar-flare-with-a-major-cme.html) and an accompanying coronal mass ejection (CME). The CME was predicted to arrive [at Earth on Oct 30](https://www.swpc.noaa.gov/news/geomagnetic-storm-watch-effect-30-31-oct) and induce activity through Oct 31.  We will look at data fetched via HAPI for before, during, and after this event and see what patterns arise."
   ]
  },
  {
   "cell_type": "markdown",
   "metadata": {},
   "source": [
    "## Example 1: OMNIWeb Solar Wind via CDAWeb\n",
    "\n",
    "We will start by using HAPI to fetch the Dst index from the OMNIWeb (parameter name is `DST1800`) dataset and `Proton_AI1800` (Solar wind mag density/kinetic energy density), plus metadata, for Oct 25 through Dec 5.  \n",
    "\n",
    "For this first example, `logging=True` is used so that you can see the steps that `hapi` is (or is not) taking; for production use, or to de-clutter the screen, you likely will choose to turn this off with `logging=False` (the default).\n",
    "\n",
    "_Note: `hapi` returns `data` as a NumPy `ndarray` and `meta` as a Python dict_"
   ]
  },
  {
   "cell_type": "code",
   "execution_count": null,
   "metadata": {
    "id": "HpAQ7hfyW6Di",
    "tags": []
   },
   "outputs": [],
   "source": [
    "## OMNIWeb data\n",
    "from hapiclient import hapi\n",
    "\n",
    "# The data server\n",
    "server     = 'https://cdaweb.gsfc.nasa.gov/hapi'\n",
    "\n",
    "# The data set\n",
    "dataset    = 'OMNI2_H0_MRG1HR'\n",
    "\n",
    "# Start and stop times\n",
    "start      = '2021-10-25T00:00:00Z'\n",
    "stop       = '2021-12-01T00:00:00Z'\n",
    "\n",
    "# The HAPI convention is that parameters is a comma-separated list. Here we request two parameters.\n",
    "parameters = 'DST1800,Proton_QI1800'\n",
    "\n",
    "# Configuration options for the hapi function.\n",
    "opts = {'logging': True, 'usecache': True, 'cachedir': './hapicache' }\n",
    "\n",
    "# Get parameter data. See section 5 for for information on getting available datasets and parameters\n",
    "data, meta = hapi(server, dataset, parameters, start, stop, **opts)"
   ]
  },
  {
   "cell_type": "markdown",
   "metadata": {},
   "source": [
    "## Inspect metadata\n",
    "\n",
    "The metadata is essential to track and recall what we are actually looking at.  Let's see what that data structure looks like for HAPI. The `meta` dictionary contains the same metadata that would be returned as JSON from a URL request in a browser. For example, to obtain metadata when the above script was executed, the `hapi` function made a request to https://cdaweb.gsfc.nasa.gov/hapi/info?id=OMNI2_H0_MRG1HR, which returns metadata for all parameters in the dataset `OMNI2_H0_MRG1HR`."
   ]
  },
  {
   "cell_type": "code",
   "execution_count": null,
   "metadata": {},
   "outputs": [],
   "source": [
    "display(meta)"
   ]
  },
  {
   "cell_type": "markdown",
   "metadata": {},
   "source": [
    "## Plot the data\n",
    "\n",
    "We would expect to see some activity in the Oct 30-31 frame, as the CME reaches L1.\n",
    "\n",
    "Here we will use the `hapiplot` library. Configuration options and examples of plotting data using other packages are covered in [HAPI_03.ipynb](HAPI_03.ipynb)."
   ]
  },
  {
   "cell_type": "code",
   "execution_count": null,
   "metadata": {},
   "outputs": [],
   "source": [
    "# Plot all parameters in the NumPy ndarray `data`.\n",
    "from hapiplot import hapiplot\n",
    "hapiplot(data, meta);"
   ]
  },
  {
   "cell_type": "markdown",
   "metadata": {},
   "source": [
    "## Extract dates + one data item\n",
    "\n",
    "Additional details on working with the output of `hapi` are given in [HAPI_02.ipynb](HAPI_02.ipynb).\n",
    "\n",
    "The HAPI standard is that all time values [are represented as ISO 8601 ASCII strings](https://github.com/hapi-server/data-specification/blob/master/hapi-dev/HAPI-data-access-spec-dev.md#376-representation-of-time). The function `hapitime2datetime` can be used to convert these strings to Python `datetime` objects."
   ]
  },
  {
   "cell_type": "code",
   "execution_count": null,
   "metadata": {},
   "outputs": [],
   "source": [
    "# Extract time values as datetime objects. See section 3 for more details.\n",
    "from hapiclient import hapitime2datetime\n",
    "\n",
    "dateBytes = data['Time']\n",
    "print(\"\\nFirst 5 values of Time parameter as byte literals = \")\n",
    "display(dateBytes[0:5])\n",
    "\n",
    "dateTimes = hapitime2datetime(data['Time'])\n",
    "print(\"\\nFirst 5 values of Time as datetimes = \")\n",
    "display(dateTimes[0:5])\n",
    "\n",
    "# Extract one of the parameters from data, a NumPy ndarray with named fields\n",
    "BGSEc = data['DST1800']\n",
    "print(\"\\nDST1800 =\")\n",
    "display(BGSEc[0:5])"
   ]
  },
  {
   "cell_type": "markdown",
   "metadata": {
    "id": "k0Z6fVPQW6Di"
   },
   "source": [
    "## Example 2: DSCOVR satellite magnetic field measurement"
   ]
  },
  {
   "cell_type": "code",
   "execution_count": null,
   "metadata": {
    "colab": {
     "base_uri": "https://localhost:8080/",
     "height": 1000
    },
    "id": "rjXkzg6WW6Dj",
    "outputId": "99900b78-0c94-4601-8d36-6b33ba1c4d84"
   },
   "outputs": [],
   "source": [
    "from hapiclient import hapi\n",
    "from hapiplot import hapiplot\n",
    "\n",
    "server     = 'http://cdaweb.gsfc.nasa.gov/hapi'\n",
    "dataset    = 'DSCOVR_H0_MAG'\n",
    "start      = '2021-10-25T00:00:00Z'\n",
    "stop       = '2021-12-01T00:00:00Z'\n",
    "parameters = 'B1F1'\n",
    "\n",
    "opts       = {'logging': True, 'usecache': True, 'cachedir': './hapicache'}\n",
    "\n",
    "# Get parameters\n",
    "data, meta = hapi(server, dataset, parameters, start, stop, **opts)\n",
    "\n",
    "# Plot all parameters in `data`\n",
    "hapiplot(data, meta);"
   ]
  },
  {
   "cell_type": "markdown",
   "metadata": {
    "id": "-cTz3pY0W6Dj"
   },
   "source": [
    "## Where is DSCOVR?\n",
    "\n",
    "Often it is useful to know where a given spacecraft is. Coordinates are often available as a HAPI stream.  Here we get the DSCOVR position in GSE coordinates. And, for fun, the Moon's position as well. "
   ]
  },
  {
   "cell_type": "code",
   "execution_count": null,
   "metadata": {},
   "outputs": [],
   "source": [
    "# note we are using the same times etc from previous calls\n",
    "dataset    = 'DSCOVR_ORBIT_PRE'\n",
    "parameters = 'GSE_POS,MOON_GSE_POS'\n",
    "\n",
    "opts       = {'logging': False, 'usecache': True, 'cachedir': './hapicache' }\n",
    "\n",
    "data, meta = hapi(server, dataset, parameters, start, stop, **opts)\n",
    "hapiplot(data, meta);"
   ]
  },
  {
   "cell_type": "markdown",
   "metadata": {
    "tags": []
   },
   "source": [
    "### Parameter Order is Important!\n",
    "To ensure that every HAPI query is identical, parameters MUST be requested in the order that their HAPI server's JSON description specifies.  For example, we queried for \"GSE_POS, MOON_GSE_POS\". If we switch the query order, we get a HAPI warning to correct that, as shown below. "
   ]
  },
  {
   "cell_type": "code",
   "execution_count": null,
   "metadata": {
    "scrolled": true,
    "tags": []
   },
   "outputs": [],
   "source": [
    "#parameters = 'GSE_POS,MOON_GSE_POS'\n",
    "parameters = 'MOON_GSE_POS,GSE_POS'\n",
    "opts       = {'logging': False, 'usecache': True, 'cachedir': './hapicache' }\n",
    "data, meta = hapi(server, dataset, parameters, start, stop, **opts)"
   ]
  },
  {
   "cell_type": "markdown",
   "metadata": {
    "toc-hr-collapsed": true
   },
   "source": [
    "----\n",
    "\n",
    "# A Note on Syntax\n",
    "\n",
    "In the examples in this notebook, we typically use the syntax\n",
    "\n",
    "```Python\n",
    "server     = 'http://cdaweb.gsfc.nasa.gov/hapi'\n",
    "dataset    = 'DSCOVR_H0_MAG'\n",
    "start      = '2021-11-25T00:00:00Z'\n",
    "stop       = '2021-12-05T00:00:00Z'\n",
    "parameters = 'B1F1'\n",
    "opts       = {'logging': False, 'usecache': True, 'cachedir': './hapicache'}\n",
    "\n",
    "data, meta = hapi(server, dataset, parameters, start, stop, **opts)\n",
    "```\n",
    "\n",
    "Most linters will flag the extra spaces before an `=`; however, for code examples, we find listing the input parameters in the form of a table improves readablility.\n",
    "\n",
    "An alternative is to use `*` to unpack the regular arguments stored in a list. (We already use the `**` to unpack the keyword arguments stored in `opts`.).\n",
    "\n",
    "```Python\n",
    "args = [\n",
    "            'https://cdaweb.gsfc.nasa.gov/hapi',\n",
    "            'OMNI2_H0_MRG1HR',\n",
    "            'DST1800,Proton_QI1800',\n",
    "            '2021-11-25T00:00:00Z',\n",
    "            '2021-12-05T00:00:00Z'\n",
    "        ]\n",
    "kwargs = {'logging': False}\n",
    "\n",
    "data, meta = hapi(*args, **kwargs)\n",
    "\n",
    "# or, store arguments in a dictionary:\n",
    "\n",
    "args = {\n",
    "        'server': 'https://cdaweb.gsfc.nasa.gov/hapi',\n",
    "        'dataset': 'OMNI2_H0_MRG1HR',\n",
    "        'parameters': 'DST1800,Proton_QI1800',\n",
    "        'start': '2021-11-25T00:00:00Z',\n",
    "        'stop': '2021-12-05T00:00:00Z'\n",
    "}\n",
    "\n",
    "data, meta = hapi(*list(args.values()), **kwargs)\n",
    "\n",
    "```\n",
    "\n",
    "----"
   ]
  },
  {
   "cell_type": "markdown",
   "metadata": {},
   "source": [
    "## <span style='background-color:yellow'>Problem 01a</span>\n",
    "<br/>\n",
    "<div style=\"background-color:yellow\">\n",
    "    <p>The data service <a href=\"https://sscweb.gsfc.nasa.gov/\">SSCWeb</a> provides ephemeris (position) data for most satellites.</p>\n",
    "\n",
    "<p>\n",
    "1. Plot the position of DISCOVR reported in data from the SSCWeb HAPI server in your notebook by adding code to the following script. Find the required dataset and parameter information at <a href=\"https://hapi-server.org/servers/\">https://hapi-server.org/servers/</a>.\n",
    "</p>\n",
    "\n",
    "<p>\n",
    "2. Compare the position values in the <code>DSCOVR_H0_MAG</code> dataset from CDAWeb with that from SSCWeb (by using, for example, a plot or console listing).\n",
    "</p>\n",
    "\n",
    "</div>"
   ]
  },
  {
   "cell_type": "code",
   "execution_count": null,
   "metadata": {},
   "outputs": [],
   "source": [
    "from hapiclient import hapi\n",
    "from hapiplot import hapiplot\n",
    "\n",
    "start      = '2021-10-25T00:00:00Z'\n",
    "stop       = '2021-12-01T00:00:00Z'\n",
    "opts       = {'logging': True, 'usecache': True, 'cachedir': './hapicache'}\n",
    "\n",
    "# Enter code here to obtain and plot position of DISCOVR during the following time given by start an stop."
   ]
  },
  {
   "cell_type": "markdown",
   "metadata": {},
   "source": [
    "## <span style='background-color:yellow'>Problem 01b</span>\n",
    "\n",
    "<br/>\n",
    "<div style=\"background-color:yellow\">\n",
    "<p>\n",
    "The following script has code for getting and plotting data from four spacecraft during the time interval considered above.\n",
    "</p>    \n",
    "\n",
    "<p>\n",
    "<ol>\n",
    "    <li>Modify the code so that the timestamps of the first and last elements in <code>data</code> are printed to the console.</li>\n",
    "    <li>Modify the code so that the the first and last values in <code>data</code> for each parameter are printed to the console.</li>\n",
    "</p>"
   ]
  },
  {
   "cell_type": "code",
   "execution_count": null,
   "metadata": {},
   "outputs": [],
   "source": [
    "from hapiclient import hapi\n",
    "from hapiplot import hapiplot\n",
    "\n",
    "server     = 'https://cdaweb.gsfc.nasa.gov/hapi'\n",
    "start      = '2021-10-25T00:00:00Z'\n",
    "stop       = '2021-12-01T00:00:00Z'\n",
    "opts       = {'logging': False, 'usecache': True, 'cachedir': './hapicache'}\n",
    "\n",
    "# ACE Electron, Proton, and Alpha Monitor\n",
    "# https://cdaweb.gsfc.nasa.gov/registry/hdp/hapi/hapiHtml.html#url=https://cdaweb.gsfc.nasa.gov/hapi&id=AC_K0_EPM\n",
    "if True:\n",
    "    dataset    = 'AC_K0_EPM'\n",
    "    parameters = 'H_lo,Electron_lo,Electron_hi'\n",
    "    data, meta = hapi(server, dataset, parameters, start, stop, **opts)\n",
    "    hapiplot(data, meta);\n",
    "\n",
    "# POES N19 data: POES/MetOp: Particle Precipitation Data \n",
    "# https://cdaweb.gsfc.nasa.gov/registry/hdp/hapi/hapiHtml.html#url=https://cdaweb.gsfc.nasa.gov/hapi&id=NOAA15_POES-SEM2_FLUXES-2SEC\n",
    "if False:\n",
    "    dataset    = 'THB_L2_SST@1'\n",
    "    parameters = 'thb_psef_densityQ'\n",
    "    data, meta = hapi(server, dataset, parameters, start, stop, **opts)\n",
    "    hapiplot(data, meta);\n",
    "\n",
    "# IMPACT (In-situ Measurements of Particles and CME Transients)/SIT data from the STEREO Ahead spacecraft.\n",
    "# https://cdaweb.gsfc.nasa.gov/registry/hdp/hapi/hapiHtml.html#url=https://cdaweb.gsfc.nasa.gov/hapi&id=STA_L1_SIT\n",
    "if False:\n",
    "    dataset    = 'STA_L1_SIT'\n",
    "    parameters = 'H_Intensity'\n",
    "    data, meta = hapi(server, dataset, parameters, start, stop, **opts)\n",
    "    # Show png in notebook because many data points\n",
    "    %config InlineBackend.figure_formats = ['png'] \n",
    "    hapiplot(data, meta);\n",
    "    %config InlineBackend.figure_formats = ['svg'] \n",
    "\n",
    "# Wind 3dp, EESA HIGH electron omni directional energy spectra\n",
    "# https://cdaweb.gsfc.nasa.gov/registry/hdp/hapi/hapiHtml.html#url=https://cdaweb.gsfc.nasa.gov/hapi&id=WI_EHSP_3DP\n",
    "if False:\n",
    "    dataset    = 'WI_EHSP_3DP'\n",
    "    parameters = 'FLUX'\n",
    "    data, meta = hapi(server, dataset, parameters, start, stop, **opts)\n",
    "    # Show png in notebook because many data points\n",
    "    %config InlineBackend.figure_formats = ['png'] \n",
    "    hapiplot(data, meta);\n",
    "    %config InlineBackend.figure_formats = ['svg'] "
   ]
  },
  {
   "cell_type": "markdown",
   "metadata": {
    "tags": []
   },
   "source": [
    "Next up, a look into the underlying data structures in [HAPI_02.ipynb](HAPI_02.ipynb)\n",
    "----"
   ]
  }
 ],
 "metadata": {
  "colab": {
   "name": "hapi_demo.ipynb",
   "provenance": [],
   "toc_visible": true
  },
  "git": {
   "suppress_output": true
  },
  "kernelspec": {
   "display_name": "Python 3 (ipykernel)",
   "language": "python",
   "name": "python3"
  },
  "language_info": {
   "codemirror_mode": {
    "name": "ipython",
    "version": 3
   },
   "file_extension": ".py",
   "mimetype": "text/x-python",
   "name": "python",
   "nbconvert_exporter": "python",
   "pygments_lexer": "ipython3",
   "version": "3.9.12"
  },
  "toc-autonumbering": true,
  "toc-showtags": false
 },
 "nbformat": 4,
 "nbformat_minor": 4
}
