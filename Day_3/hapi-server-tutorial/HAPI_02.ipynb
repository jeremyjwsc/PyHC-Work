{
 "cells": [
  {
   "cell_type": "markdown",
   "metadata": {
    "id": "nPrfD4g5W6Dh"
   },
   "source": [
    "# Overview of Notebooks\n",
    "\n",
    "* [HAPI_00.ipynb](HAPI_00.ipynb) - Introduction\n",
    "* [HAPI_01.ipynb](HAPI_01.ipynb) - Basics\n",
    "* **[HAPI_02.ipynb](HAPI_02.ipynb) - Data structures (this Notebook)**\n",
    "* [HAPI_03.ipynb](HAPI_03.ipynb) - Plotting\n",
    "* [HAPI_04.ipynb](HAPI_04.ipynb) - Problems"
   ]
  },
  {
   "cell_type": "markdown",
   "metadata": {},
   "source": [
    "# Setup"
   ]
  },
  {
   "cell_type": "code",
   "execution_count": null,
   "metadata": {},
   "outputs": [],
   "source": [
    "# Show Matplotlib plots in page instead of opening a window\n",
    "%matplotlib inline \n",
    "# Have Matplotlib create vector (svg) instead of raster (png) images\n",
    "%config InlineBackend.figure_formats = ['svg'] \n",
    "\n",
    "# Misc. configuration\n",
    "import warnings\n",
    "# See https://github.com/boto/boto3/issues/454 for an explanation of the following warning\n",
    "warnings.simplefilter(\"ignore\", ResourceWarning)"
   ]
  },
  {
   "cell_type": "markdown",
   "metadata": {
    "id": "p8QD-RQXW6Dk",
    "toc-hr-collapsed": true
   },
   "source": [
    "# Data Model\n",
    "\n",
    "A request for data using\n",
    "\n",
    "```python\n",
    "data, meta = hapi(server, dataset, parameters, start, stop)\n",
    "```\n",
    "\n",
    "returns the [NumPy `ndarray` with named fields](https://docs.scipy.org/doc/numpy-1.15.1/user/quickstart.html) `data` and a Python dictionary `meta` by making requests to a HAPI-compliant data server `server`. The structure of `meta` mirrors the structure of the JSON metadata response from a HAPI server.\n",
    "\n",
    "Internally, `hapi()` makes a request to a HAPI server, which returns a CSV stream in which the first column is a timestamp, and subsequent columns are data measured or associated with that timestamp. The columns are mapped to one or more parameters (that may be multi-dimensional arrays) using the metadata associated with the request for CSV data. Note that `hapi()` requests a much faster HAPI Binary stream from a server if possible. For more information on the HAPI server specification, see https://github.com/hapi-server/data-specification. "
   ]
  },
  {
   "cell_type": "markdown",
   "metadata": {
    "id": "XI4fUVj5W6Dl",
    "toc-hr-collapsed": true
   },
   "source": [
    "# Extracting Data"
   ]
  },
  {
   "cell_type": "code",
   "execution_count": null,
   "metadata": {
    "id": "ZFRo76fzW6Dl"
   },
   "outputs": [],
   "source": [
    "from hapiclient import hapi\n",
    "\n",
    "server     = 'http://hapi-server.org/servers/TestData2.0/hapi'\n",
    "dataset    = 'dataset1'\n",
    "parameters = 'scalar,vector'\n",
    "start      = '1970-01-01T00:00:00Z'\n",
    "stop       = '1970-01-01T00:00:10Z'\n",
    "opts       = {'logging': False, 'usecache': True, 'cachedir': './hapicache'}\n",
    "\n",
    "data,meta = hapi(server,dataset,parameters,start,stop,**opts)"
   ]
  },
  {
   "cell_type": "markdown",
   "metadata": {
    "id": "GITbtWjmW6Dl"
   },
   "source": [
    "`data` is a NumPy `ndarray` with named fields of `Time`, `scalar`, and `vector`. The array has 10 elements (one for each time value) and each element is a list."
   ]
  },
  {
   "cell_type": "code",
   "execution_count": null,
   "metadata": {
    "colab": {
     "base_uri": "https://localhost:8080/"
    },
    "id": "Satv6Bj1W6Dl",
    "outputId": "f80e3b72-675f-4bd5-e4e0-cc7de530d74e"
   },
   "outputs": [],
   "source": [
    "data"
   ]
  },
  {
   "cell_type": "markdown",
   "metadata": {
    "id": "Iqlq3FVKW6Dl"
   },
   "source": [
    "Access all values for parameter `Time`"
   ]
  },
  {
   "cell_type": "code",
   "execution_count": null,
   "metadata": {
    "colab": {
     "base_uri": "https://localhost:8080/"
    },
    "id": "pU6_iEQlW6Dm",
    "outputId": "b118e3c4-890a-4684-b33f-7194d998bcf3"
   },
   "outputs": [],
   "source": [
    "data['Time']"
   ]
  },
  {
   "cell_type": "markdown",
   "metadata": {
    "id": "x8PS0mefW6Dm"
   },
   "source": [
    "Convert elements of `data['Time']` to Python `datetime` objects"
   ]
  },
  {
   "cell_type": "code",
   "execution_count": null,
   "metadata": {
    "colab": {
     "base_uri": "https://localhost:8080/"
    },
    "id": "qUtza4Y_W6Dm",
    "outputId": "f0d274d5-1720-4990-8339-47e6ab12307d"
   },
   "outputs": [],
   "source": [
    "from hapiclient import hapitime2datetime\n",
    "dateTimes = hapitime2datetime(data['Time'])\n",
    "dateTimes"
   ]
  },
  {
   "cell_type": "markdown",
   "metadata": {},
   "source": [
    "Convert elements in `data['Time']` to Unicode strings "
   ]
  },
  {
   "cell_type": "code",
   "execution_count": null,
   "metadata": {},
   "outputs": [],
   "source": [
    "TimeStamps = data['Time'].astype('U')\n",
    "TimeStamps"
   ]
  },
  {
   "cell_type": "markdown",
   "metadata": {
    "id": "BiFuvnNYW6Dm"
   },
   "source": [
    "Access all values for parameter `vector`"
   ]
  },
  {
   "cell_type": "code",
   "execution_count": null,
   "metadata": {
    "colab": {
     "base_uri": "https://localhost:8080/"
    },
    "id": "xd8v95D1W6Dm",
    "outputId": "c61913f4-a725-4c6e-d5ec-9b9459742bfd"
   },
   "outputs": [],
   "source": [
    "data['vector']"
   ]
  },
  {
   "cell_type": "markdown",
   "metadata": {
    "id": "gpUxr1edW6Dn"
   },
   "source": [
    "Access all parameters at first timestamp."
   ]
  },
  {
   "cell_type": "code",
   "execution_count": null,
   "metadata": {
    "colab": {
     "base_uri": "https://localhost:8080/"
    },
    "id": "c5V4f-x3W6Dn",
    "outputId": "a39503f4-bf7a-4e11-daa8-18aaaa01be0a"
   },
   "outputs": [],
   "source": [
    "data[0]"
   ]
  },
  {
   "cell_type": "markdown",
   "metadata": {
    "id": "i3u2x6OXW6Dn"
   },
   "source": [
    "Access value of `vector` at second timestep."
   ]
  },
  {
   "cell_type": "code",
   "execution_count": null,
   "metadata": {
    "colab": {
     "base_uri": "https://localhost:8080/"
    },
    "id": "SfRuSHmBW6Dn",
    "outputId": "86da4033-7813-4678-d20c-c59eacd80ecb"
   },
   "outputs": [],
   "source": [
    "data['vector'][1] "
   ]
  },
  {
   "cell_type": "markdown",
   "metadata": {
    "id": "CKoRfY20W6Dn"
   },
   "source": [
    "Access value of second component of `vector` at second timestep"
   ]
  },
  {
   "cell_type": "code",
   "execution_count": null,
   "metadata": {
    "colab": {
     "base_uri": "https://localhost:8080/"
    },
    "id": "piVwAegDW6Do",
    "outputId": "82faf274-c8d4-4211-bac8-e3a10ee770df"
   },
   "outputs": [],
   "source": [
    "data['vector'][1,1]"
   ]
  },
  {
   "cell_type": "markdown",
   "metadata": {},
   "source": [
    "<div style=\"background-color:yellow\">\n",
    "<h3>Problem 02a</h3>\n",
    "\n",
    "<p>Starting with the following script, find the average radial distance of the moon on the first 9 days of January of 2022. (To avoid 100+ users requesting data from the same data server, do not modify <code>start</code> and <code>stop</code>; the data required to solve this problem is locally cached and <code>hapi()</code> will use this cached data by default.)</p>\n",
    "</h3>"
   ]
  },
  {
   "cell_type": "code",
   "execution_count": null,
   "metadata": {},
   "outputs": [],
   "source": [
    "from hapiclient import hapi\n",
    "\n",
    "server     = 'https://hapi-server.org/servers/SSCWeb/hapi'\n",
    "dataset    = 'moon'\n",
    "parameters = 'X_GEO'\n",
    "# Do not modify start/stop. See note above.\n",
    "# HAPI stop dates/times are inclusive, so first returned timestamp could be on start.\n",
    "start      = '2022-01-01T00:00:00.000Z'\n",
    "# HAPI stop dates/times are exclusive, so last returned timestamp will be before stop.\n",
    "stop       = '2022-01-10T00:00:00.000Z' \n",
    "opts       = {'logging': False, 'usecache': True, 'cachedir': './hapicache'}\n",
    "\n",
    "data, meta = hapi(server, dataset, parameters, start, stop, **opts);\n",
    "\n",
    "data\n",
    "\n",
    "# Your code here"
   ]
  },
  {
   "cell_type": "markdown",
   "metadata": {
    "id": "og71yLWGW6Do",
    "toc-hr-collapsed": true
   },
   "source": [
    "# Time Representation\n",
    "\n",
    "A HAPI-compliant server represents time as an ISO 8601 string (with several constraints - see the [HAPI specification](https://github.com/hapi-server/data-specification/blob/master/hapi-dev/HAPI-data-access-spec-dev.md#representation-of-time)). `hapi()` reads these into a NumPy array of [Python byte literals](https://stackoverflow.com/a/6273618). To convert byte literals to Python `datetime` objects, the function [`hapitime2datetime`](https://github.com/hapi-server/client-python/blob/master/hapiclient/hapi.py) can be used. Internally, this function uses `pandas.to_datetime` for parsing if possible. Otherwise it falls back to a manual method for parsing."
   ]
  },
  {
   "cell_type": "code",
   "execution_count": null,
   "metadata": {
    "id": "bYIrxLUOW6Do"
   },
   "outputs": [],
   "source": [
    "from hapiclient import hapi\n",
    "from hapiclient import hapitime2datetime\n",
    "\n",
    "server     = 'http://hapi-server.org/servers/TestData2.0/hapi'\n",
    "dataset    = 'dataset1'\n",
    "parameters = 'scalar,vector'\n",
    "start      = '1970-01-01T00:00:00Z'\n",
    "stop       = '1970-01-01T00:00:10Z'\n",
    "opts       = {'logging': False, 'usecache': True, 'cachedir': './hapicache'}\n",
    "\n",
    "data, meta = hapi(server, dataset, parameters, start, stop, **opts)"
   ]
  },
  {
   "cell_type": "code",
   "execution_count": null,
   "metadata": {
    "colab": {
     "base_uri": "https://localhost:8080/"
    },
    "id": "zqLUxv8XW6Do",
    "outputId": "a6577144-29c1-4c2e-d56d-986b707cea54"
   },
   "outputs": [],
   "source": [
    "print(data['Time'])\n",
    "\n",
    "# In the above, we assumed the time parameter name is 'Time'.\n",
    "# In general, use the fact that the first parameter in the meta['parameters']\n",
    "# lis is always the key time parameter:\n",
    "time_name = meta['parameters'][0]['name']\n",
    "print(f'\\nDataset time parameter name: \"{time_name}\"\\n') \n",
    "print(data[time_name])\n",
    "\n",
    "# A fast way to compare times is to use byte comparison (and fact that ISO 8601 strings sort\n",
    "# in order of increasing time).\n",
    "print('\\nTime value less than next?')\n",
    "print(data[time_name][0:-1] < data[time_name][1:])"
   ]
  },
  {
   "cell_type": "code",
   "execution_count": null,
   "metadata": {
    "colab": {
     "base_uri": "https://localhost:8080/"
    },
    "id": "3W6cMLu1W6Do",
    "outputId": "c5991f3d-7c85-4872-dcd7-bcbac82209ee"
   },
   "outputs": [],
   "source": [
    "date_times = hapitime2datetime(data['Time'])\n",
    "date_times"
   ]
  },
  {
   "cell_type": "code",
   "execution_count": null,
   "metadata": {},
   "outputs": [],
   "source": [
    "# Convert from Python bytes to UTF-8 (regular Python 3 strings)\n",
    "time_strings = data['Time'].astype('U')\n",
    "print(time_strings)\n",
    "print('\\nFirst time value: ' + time_strings[0])"
   ]
  },
  {
   "cell_type": "code",
   "execution_count": null,
   "metadata": {},
   "outputs": [],
   "source": [
    "# Create a custom formatted time string\n",
    "# See https://docs.python.org/3/library/datetime.html for more on datetime object manipulation\n",
    "print(date_times[0].strftime('%Y-%j at %H hours, %M minues, %S seconds, and %f microseconds'))"
   ]
  },
  {
   "cell_type": "markdown",
   "metadata": {
    "id": "crdhE76LW6Dr",
    "tags": [],
    "toc-hr-collapsed": true
   },
   "source": [
    "# Convert to Pandas DataFrame\n",
    "\n",
    "Conversion of a NumPy `ndarray` to a Pandas DataFrame can be made using [the `pandas.DataFrame` function.]((https://pandas.pydata.org/docs/reference/api/pandas.DataFrame.html)"
   ]
  },
  {
   "cell_type": "code",
   "execution_count": null,
   "metadata": {
    "colab": {
     "base_uri": "https://localhost:8080/",
     "height": 390
    },
    "id": "sZdqFSvCW6Dr",
    "outputId": "c0825261-f7d8-4b6c-c104-e6aa38fe25e4"
   },
   "outputs": [],
   "source": [
    "from hapiclient import hapi\n",
    "from hapiclient import hapitime2datetime\n",
    "\n",
    "server     = 'http://hapi-server.org/servers/TestData2.0/hapi'\n",
    "dataset    = 'dataset1'\n",
    "parameters = 'scalar,vector'\n",
    "start      = '1970-01-01T00:00:00Z'\n",
    "stop       = '1970-01-01T00:00:10Z'\n",
    "opts       = {'logging': False, 'usecache': True, 'cachedir': './hapicache'}\n",
    "\n",
    "data, meta = hapi(server,dataset,parameters,start,stop, **opts)\n",
    "\n",
    "import pandas\n",
    "\n",
    "# Put each parameter into a DataFrame\n",
    "df_Time   = pandas.DataFrame(hapitime2datetime(data['Time']))\n",
    "df_scalar = pandas.DataFrame(data['scalar'])\n",
    "df_vector = pandas.DataFrame(data['vector'])\n",
    "\n",
    "# Create DataFrame to hold all parameters\n",
    "df = pandas.DataFrame()\n",
    "\n",
    "# Place parameter DataFrames into single DataFrame\n",
    "df = pandas.concat([df_Time, df_scalar, df_vector], axis=1)\n",
    "\n",
    "# Name columns (more generally, one would want to obtaine the column labels from meta, if available)\n",
    "df.columns = ['Time', 'scalar','vector_x', 'vector_y', 'vector_z']\n",
    "\n",
    "# Set Time to be index\n",
    "df.set_index('Time', inplace=True)\n",
    "\n",
    "df"
   ]
  },
  {
   "cell_type": "markdown",
   "metadata": {},
   "source": [
    "<div style=\"background-color:yellow\">\n",
    "<h3>Problem 02b</h3>\n",
    "\n",
    "<a href=\"https://pandas.pydata.org/docs/reference/api/pandas.DataFrame.html\">Using <code>DataFrame</code> methods</a>, modify the code above to\n",
    " \n",
    "<p>1. find the mean and standard deviation of each column and</p>\n",
    "<p>2. find the time that <code>scalar</code> is a maximum.</p>\n",
    "</h3>"
   ]
  },
  {
   "cell_type": "markdown",
   "metadata": {
    "id": "s4odZYcPW6Dr",
    "toc-hr-collapsed": true
   },
   "source": [
    "# Convert to NDCube\n",
    "\n",
    "HAPI's data arrays can be converted to [SunPy NDCubes](https://docs.sunpy.org/projects/ndcube/en/stable/introduction.html) using [the `ndcube.NDCube` function](https://docs.sunpy.org/projects/ndcube/en/stable/api/ndcube.NDCube.html#ndcube.NDCube).\n",
    "\n",
    "We also set a WCS array, and create appropriate timestamps."
   ]
  },
  {
   "cell_type": "code",
   "execution_count": null,
   "metadata": {
    "id": "UGU9nYBQW6Ds"
   },
   "outputs": [],
   "source": [
    "from hapiclient import hapi\n",
    "from hapiclient import hapitime2datetime\n",
    "\n",
    "server     = 'http://hapi-server.org/servers/TestData2.0/hapi'\n",
    "dataset    = 'dataset1'\n",
    "parameters = 'scalar,vector'\n",
    "start      = '1970-01-01T00:00:00Z'\n",
    "stop       = '1970-01-01T00:00:10Z'\n",
    "opts       = {'logging': False, 'usecache': True, 'cachedir': './hapicache'}\n",
    "\n",
    "data, meta = hapi(server, dataset, parameters, start, stop, **opts)\n",
    "\n",
    "dateTimes = hapitime2datetime(data['Time'])\n",
    "\n",
    "import astropy.wcs\n",
    "\n",
    "my_wcs = astropy.wcs.WCS({\"CTYPE1\": \"TIME\", \n",
    "                          \"CUNIT1\": \"s\", \n",
    "                          \"CDELT1\": 1, \n",
    "                          \"CRPIX1\": 0, \n",
    "                          \"CRVAL1\": 0, \n",
    "                          \"NAXIS1\": 10})\n",
    "\n",
    "import ndcube\n",
    "cube = ndcube.NDCube(data['scalar'], my_wcs)\n",
    "\n",
    "from astropy.time import Time\n",
    "t = Time(dateTimes)\n",
    "cube.extra_coords.add('time', 0, t)\n",
    "\n",
    "print(cube)"
   ]
  },
  {
   "cell_type": "markdown",
   "metadata": {
    "id": "ZVSBi11IW6Dp",
    "tags": [],
    "toc-hr-collapsed": true
   },
   "source": [
    "# Generating Data (optional)"
   ]
  },
  {
   "cell_type": "markdown",
   "metadata": {
    "id": "djw-QZiBW6Dq",
    "jupyter": {
     "source_hidden": true
    },
    "tags": []
   },
   "source": [
    "For testing, it may be useful to create a simulated HAPI data respsonse in Python. A HAPI response of\n",
    "\n",
    "```\n",
    "1970-01-01T00:00:00.000Z, 1.,2.,3.\n",
    "1970-01-01T00:00:02.000Z, 4.,5.,6.\n",
    "```\n",
    "\n",
    "where the metadata indicates there is one parameter named `vector` with `size=[3]` and `type=double` could be created by"
   ]
  },
  {
   "cell_type": "code",
   "execution_count": null,
   "metadata": {
    "colab": {
     "base_uri": "https://localhost:8080/"
    },
    "id": "Re-c-cZWW6Dq",
    "jupyter": {
     "source_hidden": true
    },
    "outputId": "cadd684f-ba0b-41f7-bec5-63cdbae9b09d",
    "tags": []
   },
   "outputs": [],
   "source": [
    "import numpy as np\n",
    "data = np.ndarray(shape=(2), dtype=[('Time', 'S24'), ('vector', '<f8', (3,))])\n",
    "\n",
    "# Populate: method 1\n",
    "data['Time'] = np.array([b'1970-01-01T00:00:00.000Z', b'1970-01-01T00:00:01.000Z'])\n",
    "data['vector'] = np.array([[1.0,2.0,3.0],[4.0,5.0,6.0]])\n",
    "\n",
    "# Populate: method 2\n",
    "data[0] = (b'1970-01-01T00:00:00.000Z', [1.0,2.0,3.0])\n",
    "data[1] = (b'1970-01-01T00:00:01.000Z', [4.0,5.0,6.0])\n",
    "\n",
    "data"
   ]
  },
  {
   "cell_type": "markdown",
   "metadata": {
    "id": "Hc5GS_qgW6Dq",
    "jupyter": {
     "source_hidden": true
    },
    "tags": []
   },
   "source": [
    "A HAPI response of\n",
    "\n",
    "```\n",
    "1970-01-01T00:00:00.000Z, 1.,2.,3.,4.,5.,6.,7.,8.,9.\n",
    "1970-01-01T00:00:02.000Z, 11.,12.,13.,14.,15.,16.,17.,18.,19.\n",
    "```\n",
    "where the metadata indicates there is one parameter named `matrix` with `size=[3,3]` and `type=double` could be created by"
   ]
  },
  {
   "cell_type": "code",
   "execution_count": null,
   "metadata": {
    "colab": {
     "base_uri": "https://localhost:8080/"
    },
    "id": "FtE0FYUtW6Dq",
    "jupyter": {
     "source_hidden": true
    },
    "outputId": "c53329fb-e6bc-4280-a17a-4cb08929e17a",
    "tags": []
   },
   "outputs": [],
   "source": [
    "import numpy as np\n",
    "\n",
    "# Allocate\n",
    "data = np.ndarray(shape=(2), dtype=[('Time', 'S24'), ('matrix', '<f8', (3,3,))])\n",
    "\n",
    "# Populate\n",
    "data['Time'] = np.array([b'1970-01-01T00:00:00.000Z', b'1970-01-01T00:00:01.000Z'])\n",
    "data['matrix'] = np.array( [ [[1.0,2.0,3.0],[4.0,5.0,6.0],[7.0,8.0,9.0]], [[11.0,12.0,13.0],[14.0,15.0,16.0],[17.0,18.0,19.0]]] )\n",
    "\n",
    "data"
   ]
  },
  {
   "cell_type": "markdown",
   "metadata": {
    "id": "vARSr3WEW6Dq",
    "jupyter": {
     "source_hidden": true
    },
    "tags": []
   },
   "source": [
    "Multiple parameters, e.g. a response with both the vector and matrix parameters considered above\n",
    "\n",
    "```\n",
    "1970-01-01T00:00:00.000Z, 1.,2.,3.,  1.,2.,3.,4.,5.,6.,7.,8.,9.\n",
    "1970-01-01T00:00:02.000Z, 4.,5.,6., 11.,12.,13.,14.,15.,16.,17.,18.,19.\n",
    "```\n",
    "\n",
    "can be created by populating"
   ]
  },
  {
   "cell_type": "code",
   "execution_count": null,
   "metadata": {
    "colab": {
     "base_uri": "https://localhost:8080/"
    },
    "id": "q_i_qXFcW6Dr",
    "jupyter": {
     "source_hidden": true
    },
    "outputId": "51c6ef08-eaaf-4cc1-c5ec-cf3fdaec1607",
    "tags": []
   },
   "outputs": [],
   "source": [
    "data = np.ndarray(shape=(2), dtype=[('Time', 'S24'), ('vector', '<f8', (3,)), ('matrix', '<f8', (3,3,))])\n",
    "data['Time'] = np.array([b'1970-01-01T00:00:00.000Z', b'1970-01-01T00:00:01.000Z'])\n",
    "data['vector'] = np.array([[1.0,2.0,3.0],[4.0,5.0,6.0]])\n",
    "data['matrix'] = np.array( [ [[1.0,2.0,3.0],[4.0,5.0,6.0],[7.0,8.0,9.0]], [[11.0,12.0,13.0],[14.0,15.0,16.0],[17.0,18.0,19.0]]] )\n",
    "data"
   ]
  },
  {
   "cell_type": "markdown",
   "metadata": {
    "toc-hr-collapsed": true
   },
   "source": [
    "\n",
    "# Metadata\n",
    "\n",
    "The metadata returned by `hapi()` is a straightforward mapping of the JSON metadata from a HAPI server.  Earlier we showed the metadata for a dataset; now we look at (a) creating a list of all HAPI servers and (b) asking any specific HAPI server which datasets it has available."
   ]
  },
  {
   "cell_type": "markdown",
   "metadata": {},
   "source": [
    "## Listing all Servers\n",
    "\n",
    "HAPI has a query function to return all current HAPI servers, which is identical to the \n",
    "[Equivalent URL](https://github.com/hapi-server/data-specification/blob/master/servers.txt)."
   ]
  },
  {
   "cell_type": "code",
   "execution_count": null,
   "metadata": {},
   "outputs": [],
   "source": [
    "from hapiclient import hapi\n",
    "\n",
    "servers = hapi() # servers is an array of URLs\n",
    "display(servers)"
   ]
  },
  {
   "cell_type": "markdown",
   "metadata": {},
   "source": [
    "## Listing all Datasets from a Server"
   ]
  },
  {
   "cell_type": "markdown",
   "metadata": {},
   "source": [
    "For a given server - in this example, CDAWeb - you can fetch the full list of dataset ids it serves. For this example, `hapi()` internally makes a request to [https://cdaweb.gsfc.nasa.gov/hapi/catalog](https://cdaweb.gsfc.nasa.gov/hapi/catalog)."
   ]
  },
  {
   "cell_type": "code",
   "execution_count": null,
   "metadata": {},
   "outputs": [],
   "source": [
    "from hapiclient import hapi\n",
    "\n",
    "server = 'https://cdaweb.gsfc.nasa.gov/hapi'\n",
    "meta = hapi(server)\n",
    "\n",
    "# Display first 5 entries\n",
    "display(meta['catalog'][0:5])"
   ]
  },
  {
   "cell_type": "markdown",
   "metadata": {},
   "source": [
    "## Listing all Parameters in a Dataset"
   ]
  },
  {
   "cell_type": "markdown",
   "metadata": {},
   "source": [
    "Each dataset's metadata is available from a query, without needing to fetch the actual data. For this example, `hapi()` internally makes a request to [https://cdaweb.gsfc.nasa.gov/hapi/info?id=AC_H0_MFI](https://cdaweb.gsfc.nasa.gov/hapi/info?id=AC_H0_MFI)."
   ]
  },
  {
   "cell_type": "code",
   "execution_count": null,
   "metadata": {
    "tags": []
   },
   "outputs": [],
   "source": [
    "from hapiclient import hapi\n",
    "\n",
    "server  = 'https://cdaweb.gsfc.nasa.gov/hapi'\n",
    "dataset = 'AC_H0_MFI'\n",
    "meta = hapi(server, dataset)\n",
    "display(meta)"
   ]
  },
  {
   "cell_type": "markdown",
   "metadata": {},
   "source": [
    "## Listing Parameter Metadata"
   ]
  },
  {
   "cell_type": "markdown",
   "metadata": {},
   "source": [
    "One can request a subset of metadata for dataset (rather than all parameters as in the last example) by adding `parameters` to the call. For this example, `hapi()` internally makes a request to [https://cdaweb.gsfc.nasa.gov/hapi/info?id=AC_H0_MFI&parameters=Magnitude,BGSEc](https://cdaweb.gsfc.nasa.gov/hapi/info?id=AC_H0_MFI&parameters=Magnitude,BGSEc).\n",
    "\n",
    "(Note that HAPI allows non-standard server-specific keys in `meta`, which are prefixed by `x_`.  This is similar to the Python convention where variables and methods prefixed with an underscore indicate that they are for internal use only and may change.)\n",
    "\n",
    "Here we fetch metadata for the `Magnitude` and `BGSEc` parameters in the `AC_H0_MFI` dataset from `CDAWeb`."
   ]
  },
  {
   "cell_type": "code",
   "execution_count": null,
   "metadata": {},
   "outputs": [],
   "source": [
    "from hapiclient import hapi\n",
    "\n",
    "server     = 'https://cdaweb.gsfc.nasa.gov/hapi'\n",
    "dataset    = 'AC_H0_MFI'\n",
    "parameters = 'Magnitude,BGSEc'\n",
    "\n",
    "meta = hapi(server,dataset,parameters)\n",
    "\n",
    "display(meta)"
   ]
  },
  {
   "cell_type": "markdown",
   "metadata": {},
   "source": [
    "----\n",
    "Next up, [plotting data](HAPI_03.ipynb)\n",
    "----"
   ]
  }
 ],
 "metadata": {
  "colab": {
   "name": "hapi_demo.ipynb",
   "provenance": [],
   "toc_visible": true
  },
  "git": {
   "suppress_output": true
  },
  "kernelspec": {
   "display_name": "Python 3 (ipykernel)",
   "language": "python",
   "name": "python3"
  },
  "language_info": {
   "codemirror_mode": {
    "name": "ipython",
    "version": 3
   },
   "file_extension": ".py",
   "mimetype": "text/x-python",
   "name": "python",
   "nbconvert_exporter": "python",
   "pygments_lexer": "ipython3",
   "version": "3.9.12"
  }
 },
 "nbformat": 4,
 "nbformat_minor": 4
}
