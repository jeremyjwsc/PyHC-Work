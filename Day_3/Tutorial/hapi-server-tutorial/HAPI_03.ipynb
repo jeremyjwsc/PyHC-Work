{
 "cells": [
  {
   "cell_type": "markdown",
   "metadata": {
    "id": "nPrfD4g5W6Dh"
   },
   "source": [
    "# Class Notebooks\n",
    "\n",
    "* [HAPI_00.ipynb](HAPI_00.ipynb) - Introduction\n",
    "* [HAPI_01.ipynb](HAPI_01.ipynb) - Basics\n",
    "* [HAPI_02.ipynb](HAPI_02.ipynb) - Data structures\n",
    "* **[HAPI_03.ipynb](HAPI_03.ipynb) - Plotting (this Notebook)**\n",
    "* [HAPI_04.ipynb](HAPI_04.ipynb) - Problems"
   ]
  },
  {
   "cell_type": "markdown",
   "metadata": {
    "tags": [],
    "toc-hr-collapsed": true
   },
   "source": [
    "# Overview"
   ]
  },
  {
   "cell_type": "markdown",
   "metadata": {},
   "source": [
    "* The package `hapiplot` can be used to plot of data returned by the `hapi` function. It was developed primarily for testing the output of HAPI servers and the `hapi` function.\n",
    "\n",
    "* In this section, we show some of the basic features of `hapiplot` and also demonstrate the use of other plotting libraries."
   ]
  },
  {
   "cell_type": "markdown",
   "metadata": {},
   "source": [
    "# Setup"
   ]
  },
  {
   "cell_type": "code",
   "execution_count": null,
   "metadata": {},
   "outputs": [],
   "source": [
    "# Show Matplotlib plots in page instead of opening a window\n",
    "%matplotlib inline \n",
    "# Have Matplotlib create vector (svg) instead of raster (png) images\n",
    "%config InlineBackend.figure_formats = ['svg'] \n",
    "\n",
    "# Misc. configuration\n",
    "import warnings\n",
    "# See https://github.com/boto/boto3/issues/454 for an explanation.\n",
    "warnings.simplefilter(\"ignore\", ResourceWarning) # removes spurious Notebook warns\n",
    "warnings.simplefilter(\"ignore\", DeprecationWarning) # removes spurious Notebook warns\n",
    "warnings.simplefilter(\"ignore\", UserWarning) # removes spurious Notebook warns\n",
    "warnings.filterwarnings(action=\"ignore\", message=\"unclosed\", category=ResourceWarning)"
   ]
  },
  {
   "cell_type": "markdown",
   "metadata": {
    "id": "ZhPaevuXW6Du",
    "toc-hr-collapsed": true
   },
   "source": [
    "# `hapiplot` - Basic\n",
    "\n",
    "[`hapiplot()`](https://github.com/hapi-server/client-python/tree/master/hapiclient/) computes plot labels from  `meta` and passes `meta` and `data` to the functions `timeseries.py` and `heatmap.py`, which use Matplotlib to create a basic plot.\n",
    "\n",
    "There are two ways to create a plot using `hapiplot()`\n",
    "1. Using the return values of the `hapi()` function\n",
    "\n",
    "    ```Python\n",
    "    data, meta = hapi(server, dataset, parameters, start, stop)\n",
    "    meta = hapiplot(data, meta)\n",
    "    ```\n",
    "\n",
    "\n",
    "2. By bypassing the call to `hapi()` and using only\n",
    "\n",
    "    ```Python\n",
    "    data, meta = hapiplot(server, dataset, parameters, start, stop)\n",
    "    ```"
   ]
  },
  {
   "cell_type": "code",
   "execution_count": null,
   "metadata": {},
   "outputs": [],
   "source": [
    "from hapiclient import hapi\n",
    "from hapiplot import hapiplot\n",
    "\n",
    "server     = 'https://vires.services/hapi'\n",
    "dataset    = 'SW_OPER_MAGA_LR_1B'\n",
    "parameters = 'B_NEC'\n",
    "start      = '2013-11-25T11:02:52Z'\n",
    "stop       = '2013-11-25T15:02:52.000Z'\n",
    "opts       = {'logging': False, 'usecache': True, 'cachedir': './cachedir'}\n",
    "\n",
    "data, meta = hapi(server, dataset, parameters, start, stop, **opts)\n",
    "\n",
    "# Method 1.\n",
    "hapiplot(data, meta);\n",
    "\n",
    "if False:\n",
    "    # Method 2.\n",
    "    from hapiplot import hapiplot\n",
    "    meta = hapiplot(server, dataset, parameters, start, stop)\n"
   ]
  },
  {
   "cell_type": "markdown",
   "metadata": {},
   "source": [
    "## Modify Matplotlib style and labels\n",
    "\n",
    "List all styles."
   ]
  },
  {
   "cell_type": "code",
   "execution_count": null,
   "metadata": {},
   "outputs": [],
   "source": [
    "# See also\n",
    "# https://matplotlib.org/gallery/style_sheets/style_sheets_reference.html\n",
    "# https://tonysyu.github.io/raw_content/matplotlib-style-gallery/gallery.html\n",
    "import matplotlib\n",
    "rclib =  matplotlib.style.library\n",
    "print('Style options available:')\n",
    "for key in rclib:\n",
    "    print(key)"
   ]
  },
  {
   "cell_type": "markdown",
   "metadata": {},
   "source": [
    "### Timeseries"
   ]
  },
  {
   "cell_type": "markdown",
   "metadata": {},
   "source": [
    "The metadata provided by the VirES HAPI server does not include labels for the components of the parameter `B_NEC`, so the defaults of `col #0`, etc. were used by `hapiplot()`. Here we modify the labels by setting them as options (`tsopts`) that are passed through to the back-end `timeseries` plotting function."
   ]
  },
  {
   "cell_type": "code",
   "execution_count": null,
   "metadata": {},
   "outputs": [],
   "source": [
    "# Basic default options\n",
    "popts = {\n",
    "            'logging': False,\n",
    "            'cachedir': './hapicache',\n",
    "            'style': 'seaborn-dark',\n",
    "\n",
    "            'title': 'Manually modified labels and style',\n",
    "            'xlabel': 'UTC',\n",
    "            'ylabel': '$B_{NEC}$ [nT]',\n",
    "        \n",
    "            'tsopts': {'legendlabels': ['N','E','C']}\n",
    "}\n",
    "\n",
    "hapiplot(data, meta, **popts);"
   ]
  },
  {
   "cell_type": "markdown",
   "metadata": {},
   "source": [
    "### Heatmap (spectra)"
   ]
  },
  {
   "cell_type": "code",
   "execution_count": null,
   "metadata": {},
   "outputs": [],
   "source": [
    "from hapiclient import hapi\n",
    "from hapiplot import hapiplot\n",
    "\n",
    "server     = 'http://datashop.elasticbeanstalk.com/hapi'\n",
    "dataset    = 'CHEMS_PHA_BOX_FLUXES_FULL_TIME_RES'\n",
    "parameters = 'HPlus_BEST_T1'\n",
    "start      = '2004-07-01T04:00:00Z'\n",
    "stop       = '2004-07-01T06:00:00Z'\n",
    "opts       = {'logging': False, 'usecache': True, 'cachedir': './hapicache'}\n",
    "\n",
    "data, meta = hapi(server, dataset, parameters, start, stop, **opts)\n",
    "\n",
    "popts = {\n",
    "            'logging': False,\n",
    "            'logy': True,\n",
    "            'ylabel': 'Energy [keV]',\n",
    "            'logz': True,\n",
    "            'title': 'y and z scales changed to log'\n",
    "}\n",
    "hapiplot(data, meta, **popts);"
   ]
  },
  {
   "cell_type": "markdown",
   "metadata": {
    "tags": [],
    "toc-hr-collapsed": true
   },
   "source": [
    "# `hapiplot` - Advanced\n",
    "\n",
    "\n",
    "## Pass Matplotlib `rcParams` to `hapiplot`"
   ]
  },
  {
   "cell_type": "markdown",
   "metadata": {},
   "source": [
    "List all rcParams"
   ]
  },
  {
   "cell_type": "code",
   "execution_count": null,
   "metadata": {},
   "outputs": [],
   "source": [
    "import matplotlib as mpl\n",
    "mpl.rcParams"
   ]
  },
  {
   "cell_type": "code",
   "execution_count": null,
   "metadata": {
    "scrolled": true
   },
   "outputs": [],
   "source": [
    "server     = 'http://hapi-server.org/servers/TestData2.0/hapi'\n",
    "dataset    = 'dataset1'\n",
    "start      = '1970-01-01T00:00:00Z'\n",
    "stop       = '1970-01-01T00:59:59Z'\n",
    "parameters = 'scalar'\n",
    "opts       = {'logging': False, 'usecache': True, 'cachedir': './hapicache'}\n",
    "data, meta = hapi(server, dataset, parameters, start, stop, **opts)\n",
    "\n",
    "popts = {\n",
    "            'usecache': True,\n",
    "            'useimagecache': False,\n",
    "            'logging': False,\n",
    "            'saveimage': True,\n",
    "            'returnimage': False,\n",
    "            'title': 'black background and yellow text',\n",
    "            'rcParams': {\n",
    "                'savefig.transparent': False,\n",
    "                'figure.facecolor': 'black',\n",
    "                'savefig.facecolor': 'black',\n",
    "                'font.family': 'DejaVu Sans',\n",
    "                'text.color': 'yellow',\n",
    "                'xtick.color': 'yellow',\n",
    "                'ytick.color': 'yellow',\n",
    "                'axes.labelcolor': 'yellow'\n",
    "            }\n",
    "         }\n",
    "\n",
    "hapiplot(data, meta, **popts);\n",
    "\n",
    "if False:\n",
    "    # Open window with image\n",
    "    import io\n",
    "    from PIL import Image\n",
    "\n",
    "    popts['returnimage'] = True\n",
    "    # hapiplot adds the image data to meta if returnimage=True\n",
    "    meta = hapiplot(data, meta, **popts)\n",
    "    img = meta['parameters'][1]['hapiplot']['image']\n",
    "    Image.open(io.BytesIO(img)).show()\n",
    "    "
   ]
  },
  {
   "cell_type": "markdown",
   "metadata": {},
   "source": [
    "## Modify figure after creation\n",
    "\n",
    "See [`hapiplot` tests](https://github.com/hapi-server/plot-python/blob/main/test/test_hapiplot_visual.py#L122) for an example of modifying a figure after a call to `hapiplot` (this will not work in a notebook)."
   ]
  },
  {
   "cell_type": "markdown",
   "metadata": {
    "tags": [],
    "toc-hr-collapsed": true
   },
   "source": [
    "\n",
    "# Matplotlib\n",
    "\n",
    "The standard package for plotting in Python is Matplotlib. The plotting features of this package are low-level, meaning that a significant amount of configuration is needed to create a presentable plot."
   ]
  },
  {
   "cell_type": "code",
   "execution_count": null,
   "metadata": {
    "colab": {
     "base_uri": "https://localhost:8080/",
     "height": 297
    },
    "id": "3VTEAEZdW6Du",
    "outputId": "35050b61-3543-42d5-a953-b60ddbce45ec"
   },
   "outputs": [],
   "source": [
    "from hapiclient import hapi\n",
    "\n",
    "server     = 'https://vires.services/hapi'\n",
    "dataset    = 'SW_OPER_MAGA_LR_1B'\n",
    "parameters = 'B_NEC'\n",
    "start      = '2013-11-25T11:02:52Z'\n",
    "stop       = '2013-11-25T15:02:52.000Z'\n",
    "opts       = {'usecache': True, 'logging': False, 'cachedir': './hapicache'}\n",
    "\n",
    "data, meta = hapi(server, dataset, parameters, start, stop, **opts)\n",
    "\n",
    "from matplotlib import pyplot as plt\n",
    "from hapiclient import hapitime2datetime\n",
    "\n",
    "time_name = meta['parameters'][0]['name']\n",
    "parameter1_name = meta['parameters'][1]['name']\n",
    "# Convert data['Time'] elements to Python datetime objects\n",
    "# Note the difference in tick labels when datetimes are used\n",
    "plt.figure()\n",
    "plt.plot(hapitime2datetime(data[time_name]),data[parameter1_name])\n",
    "plt.gcf().autofmt_xdate()\n",
    "plt.title('scalar with Time as datetimes')"
   ]
  },
  {
   "cell_type": "markdown",
   "metadata": {},
   "source": [
    "<div style=\"background-color:yellow\">\n",
    "<h3>Problem 03a</h3>\n",
    "\n",
    "<p>Use the metadata in <code>meta</code> and <a href=\"https://matplotlib.org/stable/api/matplotlib_configuration_api.html\">Matplotlib</a> commands and modify the above code to<p>\n",
    "    \n",
    "<ol>\n",
    "    <li>label the y-axis in the figure above with the name of the parameter and its units and</li>\n",
    "    <li>add a legend with elements of N, E, and C.</li>\n",
    "</h3>"
   ]
  },
  {
   "cell_type": "markdown",
   "metadata": {
    "id": "YzQfizuTW6Du",
    "toc-hr-collapsed": true
   },
   "source": [
    "# Pandas\n",
    "\n",
    "We can convert the HAPI `ndarray` to a Pandas DataFrame [as done in the previous notebook](HAPI_02.ipynb#Convert-to-Pandas-DataFrame) and then use the `plot` method of a DataFrame."
   ]
  },
  {
   "cell_type": "code",
   "execution_count": null,
   "metadata": {
    "colab": {
     "base_uri": "https://localhost:8080/",
     "height": 693
    },
    "id": "gDgJkTSIW6Du",
    "outputId": "a54289db-3762-41cc-c4ca-47ef73be45e4"
   },
   "outputs": [],
   "source": [
    "# Get data for use below\n",
    "from hapiclient import hapi\n",
    "from hapiclient import hapitime2datetime\n",
    "\n",
    "server     = 'http://hapi-server.org/servers/TestData2.0/hapi'\n",
    "dataset    = 'dataset1'\n",
    "parameters = 'scalar,vector'\n",
    "start      = '1970-01-01T00:00:00Z'\n",
    "stop       = '1970-01-01T00:00:10Z'\n",
    "opts       = {'logging': False, 'usecache': True, 'cachedir': './hapicache'}\n",
    "\n",
    "data, meta = hapi(server, dataset, parameters, start, stop, **opts)\n",
    "\n",
    "import pandas\n",
    "\n",
    "# Create DataFrame\n",
    "df = pandas.DataFrame(data['vector'])\n",
    "\n",
    "# Add column to DataFrame\n",
    "df['Time'] = hapitime2datetime(data['Time'])\n",
    "\n",
    "# Set index\n",
    "df.set_index('Time', inplace=True)\n",
    "\n",
    "# Rename columns\n",
    "df.columns = ['N', 'E', 'C']\n",
    "\n",
    "display(df)\n",
    "\n",
    "%matplotlib inline\n",
    "p = df.plot(ylabel=f\"{meta['parameters'][1]['name']} in {meta['parameters'][1]['units']}\");\n"
   ]
  },
  {
   "cell_type": "markdown",
   "metadata": {},
   "source": [
    "<div style=\"background-color:yellow\">\n",
    "<h3>Problem 03b</h3>\n",
    "\n",
    "<p>Use the metadata in <code>meta</code> and <a href=\"https://pandas.pydata.org/docs/user_guide/visualization.html\">Pandas commands</a> to<p>\n",
    "    \n",
    "<ol>\n",
    "    <li>label the y-axis in the figure above with the name of the parameter and its units and</li>\n",
    "    <li>add a legend with elements of N, E, and C.</li>\n",
    "</h3>"
   ]
  },
  {
   "cell_type": "markdown",
   "metadata": {},
   "source": [
    "## PySPEDAS/PyTplot\n",
    "\n",
    "[PySPEDAS and PyTplot](https://github.com/heliophysicsPy/summer-school/blob/main/pyspedas-tutorial/PySPEDAS_Summer_School_2022.ipynb) users can access and plot data from HAPI servers without needing to install either the `hapiclient` or `hapiplot` packages.\n",
    "\n",
    "In the following, data from a HAPI server is obtained using the `pyhapi` function in the `pyspedas` package and plotted using the `tplot` function in the `pytplot` package.\n",
    "\n",
    "PySpedas and PyTPlot will be covered [on Day 4 of the summer school](https://github.com/heliophysicsPy/summer-school/blob/main/pyspedas-tutorial/PySPEDAS_Summer_School_2022.ipynb)."
   ]
  },
  {
   "cell_type": "code",
   "execution_count": null,
   "metadata": {},
   "outputs": [],
   "source": [
    "from pyspedas.hapi.hapi import hapi as pyhapi\n",
    "\n",
    "server     = 'https://cdaweb.gsfc.nasa.gov/hapi'\n",
    "dataset    = 'GE_K0_CPI'\n",
    "parameters = 'SW_P_Den,SW_V'\n",
    "start      = '1992-09-09T12:00:40Z'\n",
    "stop       = '1992-09-10T00:00:00.000Z'\n",
    "\n",
    "x = pyhapi(trange=[start, stop], server=server, dataset=dataset, parameters=parameters)\n",
    "\n",
    "from pytplot import tplot\n",
    "tplot(x)"
   ]
  },
  {
   "cell_type": "markdown",
   "metadata": {},
   "source": [
    "----\n",
    "Next up, [Problems](HAPI_04.ipynb)\n",
    "----"
   ]
  }
 ],
 "metadata": {
  "colab": {
   "name": "hapi_demo.ipynb",
   "provenance": [],
   "toc_visible": true
  },
  "git": {
   "suppress_output": true
  },
  "kernelspec": {
   "display_name": "Python 3 (ipykernel)",
   "language": "python",
   "name": "python3"
  },
  "language_info": {
   "codemirror_mode": {
    "name": "ipython",
    "version": 3
   },
   "file_extension": ".py",
   "mimetype": "text/x-python",
   "name": "python",
   "nbconvert_exporter": "python",
   "pygments_lexer": "ipython3",
   "version": "3.9.12"
  }
 },
 "nbformat": 4,
 "nbformat_minor": 4
}
