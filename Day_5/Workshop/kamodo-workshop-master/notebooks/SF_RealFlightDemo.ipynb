{
 "cells": [
  {
   "cell_type": "markdown",
   "id": "e9980461",
   "metadata": {},
   "source": [
    "# Demo notebook for Kamodo Flythrough \"RealFlight\" function\n",
    "The RealFlight function flies a real satellite trajectory through the chosen model data.\n",
    "You may run the notebook as is if you have the sample data file, but you must\n",
    "change the 'file_dir', 'output_name', and 'plot_output' variables in block 3 to have the correct file path."
   ]
  },
  {
   "cell_type": "code",
   "execution_count": 1,
   "id": "statewide-animation",
   "metadata": {},
   "outputs": [
    {
     "name": "stderr",
     "output_type": "stream",
     "text": [
      "C:\\Users\\rringuet\\.conda\\envs\\Kamodo_env\\lib\\site-packages\\spacepy\\time.py:2365: UserWarning: Leapseconds may be out of date. Use spacepy.toolbox.update(leapsecs=True)\n",
      "  warnings.warn('Leapseconds may be out of date.'\n"
     ]
    }
   ],
   "source": [
    "#import satellite flythrough code\n",
    "from kamodo_ccmc.flythrough import SatelliteFlythrough as SF\n",
    "import kamodo_ccmc.flythrough.model_wrapper as MW\n",
    "#The testing data file is available at https://drive.google.com/file/d/1pHx9Q8v4vO59_RUMX-SJqYv_-dE3h-st/view?usp=sharing"
   ]
  },
  {
   "cell_type": "code",
   "execution_count": 2,
   "id": "9f2b28b9",
   "metadata": {
    "scrolled": true
   },
   "outputs": [
    {
     "name": "stdout",
     "output_type": "stream",
     "text": [
      "Help on function RealFlight in module kamodo_ccmc.flythrough.SatelliteFlythrough:\n",
      "\n",
      "RealFlight(dataset, start, stop, model, file_dir, variable_list, coord_type='GEO', output_name='', plot_coord='GEO', high_res=20.0, verbose=False)\n",
      "    Retrieves the trajectory for the satellite requested and then flies that\n",
      "    trajectory through the model data requested.\n",
      "    \n",
      "    dataset: name of the satellite data set to pull trajectory from\n",
      "    start: utc timestamp for start of desired time interval\n",
      "    stop: utc timestamp for end of desired time interval\n",
      "    model: 'CTIPe','IRI', ...\n",
      "    file_dir: complete path to where model data files are stored\n",
      "    variable_list: List of standardized variable names. Corresponding integers \n",
      "        are allowed. See model variable output for details.\n",
      "    coord_type: Pick from GEO, GSM, GSE, or SM for the satellite trajectory.\n",
      "    high_res: the accuracy of the conversion from radius or altitude to pressure\n",
      "        level. Ignore if no conversion is needed for the variable(s) selected.\n",
      "        Default is 20.\n",
      "    output_name: complete path with filename (with the extension) for the file to\n",
      "        write the results to. Plotting filenames are determined by \n",
      "        output_name - extension + variable names + plot type (1D or 3D).\n",
      "        Extensions must be one of 'nc' for netCDF4 files, 'csv' for comma\n",
      "        separated data, or 'txt' for tab separated data files.\n",
      "    high_res: the accuracy of the conversion from radius or altitude to pressure\n",
      "        level. Ignore if no conversion is needed for the variable(s) selected. Default is 20.\n",
      "    plot_coord: one of 'GDZ', 'GEO', 'GSM', 'GSE', 'SM', 'GEI', 'MAG'\n",
      "        integers also allowed with 'GDZ'=0 and so on. Indicates the coordinate\n",
      "        system the plot will be generated in. Only plots in cartesian coordinates\n",
      "        systems are supported, so 'SPH' and 'RLL' are not accepted. Default is \n",
      "        'GEO'.        \n",
      "    verbose: Set to true to be overwhelmed with information.\n",
      "    \n",
      "    Returns a dictionary with keys: 'utc_time', 'c1', 'c2', 'c3', and 'net_idx'\n",
      "        - utc_time is an array in UTC seconds since 1970-01-01 of the satellite\n",
      "            timestamps with any occuring outside of the model data removed.\n",
      "        - 'c1', 'c2', and 'c3' are arrays of the given coordinate values for each \n",
      "            surviving timestamp\n",
      "        - 'net_idx' is the original index value of the surviving timestamps. \n",
      "            This is kept for easier comparison with the original dataset.\n",
      "        - additional keys are included for each variable and label an array of the\n",
      "            values of the indicated variable for each time+spatial coordinate given\n",
      "        - The units of each array in the returned dictionary are printed to \n",
      "            the screen.\n",
      "            \n",
      "    See kamodo_ccmc.flythrough.utils.ConvertCoord for info on the coordinate systems.\n",
      "\n"
     ]
    }
   ],
   "source": [
    "help(SF.RealFlight)"
   ]
  },
  {
   "cell_type": "code",
   "execution_count": 3,
   "id": "reflected-aggregate",
   "metadata": {},
   "outputs": [],
   "source": [
    "#Choosing input values for RealFlight function call\n",
    "#----------------------------  \n",
    "model = 'TIEGCM'  #Choose which model to view the example for\n",
    "file_dir = 'C:/Users/rringuet/Kamodo_Data/TIEGCM/Data/'  #full file path to where the model output data is stored\n",
    "dataset = 'grace1'\n",
    "start_utcts, end_utcts = 1506039600, 1506124800\n",
    "#Use https://sscweb.gsfc.nasa.gov/ to find the satellite name and time range desired\n",
    "#The chosen time range should match the length of time in the model data files.\n",
    "#Time values found not to be contained in the model data are automatically discarded (see output of next block).\n",
    "\n",
    "variable_list = ['rho','u_n','T_e']  #list of desired variable names from above list.\n",
    "#not all variables in the list will be available in the file(s) found.\n",
    "coord_type = 'GEO'  #GEO cartesian coordinates as the sample coordinate system for trajectory.\n",
    "#Choose from any option available in SpacePy.\n",
    "#See https://sscweb.gsfc.nasa.gov/users_guide/Appendix_C.shtml for a description of coordinate types\n",
    "\n",
    "#choose naming convention for output files\n",
    "output_name = 'C:/Users/rringuet/Kamodo_env/RealFlightExample_TIEGCM.txt' #filename for DATA output\n",
    "plot_coord = 'GSE'  #coordinate system chosen for output plots"
   ]
  },
  {
   "cell_type": "code",
   "execution_count": 4,
   "id": "affecting-electronics",
   "metadata": {
    "scrolled": true
   },
   "outputs": [
    {
     "name": "stdout",
     "output_type": "stream",
     "text": [
      "Attribute/Key names of return dictionary: dict_keys(['sat_time', 'c1', 'c2', 'c3'])\n",
      "Please remove all pxxx.nc files if present.\n",
      "Please remove all pxxx.nc files if present.\n"
     ]
    },
    {
     "name": "stderr",
     "output_type": "stream",
     "text": [
      "C:\\Users\\rringuet\\.conda\\envs\\Kamodo_env\\lib\\site-packages\\spacepy\\coordinates.py:242: DeprecationWarning: No coordinate backend specified; using IRBEM. This default will change in the future.\n",
      "  DeprecationWarning)\n",
      "c:\\users\\rringuet\\kamodo_env\\kamodo\\kamodo_ccmc\\readers\\tiegcm_4D.py:370: UserWarning: WARNING: missing_value not used since it\n",
      "cannot be safely cast to variable data type\n",
      "  for key in gvar_list}\n"
     ]
    },
    {
     "name": "stdout",
     "output_type": "stream",
     "text": [
      "\n",
      "Best height resolution achieved: 0.00703 m\n",
      "Worst height resolution achieved: 19.05081 m\n",
      "\n",
      "\n",
      "Best height resolution achieved: 0.00518 m\n",
      "Worst height resolution achieved: 18.82040 m\n",
      "\n",
      "\n",
      "Best height resolution achieved: 0.00964 m\n",
      "Worst height resolution achieved: 18.98666 m\n",
      "\n",
      "\n",
      "Best height resolution achieved: 0.00217 m\n",
      "Worst height resolution achieved: 19.96706 m\n",
      "\n",
      "\n",
      "Best height resolution achieved: 0.04543 m\n",
      "Worst height resolution achieved: 18.93544 m\n",
      "\n",
      "\n",
      "Best height resolution achieved: 0.01719 m\n",
      "Worst height resolution achieved: 19.76419 m\n",
      "\n",
      "{'T_e': 'K', 'rho': 'g/cm**3', 'utc_time': 's', 'net_idx': '', 'c1': 'R_E', 'c2': 'R_E', 'c3': 'R_E'}\n",
      "Please remove all pxxx.nc files if present.\n",
      "Output saved in C:/Users/rringuet/Kamodo_env/RealFlightExample_TIEGCM.txt.\n",
      "Generating interactive plots...\n"
     ]
    },
    {
     "name": "stderr",
     "output_type": "stream",
     "text": [
      "C:\\Users\\rringuet\\.conda\\envs\\Kamodo_env\\lib\\site-packages\\spacepy\\coordinates.py:242: DeprecationWarning:\n",
      "\n",
      "No coordinate backend specified; using IRBEM. This default will change in the future.\n",
      "\n"
     ]
    },
    {
     "name": "stdout",
     "output_type": "stream",
     "text": [
      "-saving html div file:  C:/Users/rringuet/Kamodo_env/RealFlightExample_TIEGCM_T_e_3D.html\n",
      "-saving html div file:  C:/Users/rringuet/Kamodo_env/RealFlightExample_TIEGCM_T_e_1D.html\n",
      "-saving html div file:  C:/Users/rringuet/Kamodo_env/RealFlightExample_TIEGCM_rho_3D.html\n",
      "-saving html div file:  C:/Users/rringuet/Kamodo_env/RealFlightExample_TIEGCM_rho_1D.html\n"
     ]
    }
   ],
   "source": [
    "#run RealFlight with champ satellite trajectory\n",
    "results = SF.RealFlight(dataset, start_utcts, end_utcts, model, file_dir, variable_list, coord_type=coord_type, \n",
    "                        output_name=output_name, plot_coord=plot_coord)\n",
    "#open plots in separate internet browser window for interactivity. Nothing will open here."
   ]
  },
  {
   "cell_type": "code",
   "execution_count": null,
   "id": "informed-biology",
   "metadata": {},
   "outputs": [],
   "source": []
  }
 ],
 "metadata": {
  "kernelspec": {
   "display_name": "Python 3 (ipykernel)",
   "language": "python",
   "name": "python3"
  },
  "language_info": {
   "codemirror_mode": {
    "name": "ipython",
    "version": 3
   },
   "file_extension": ".py",
   "mimetype": "text/x-python",
   "name": "python",
   "nbconvert_exporter": "python",
   "pygments_lexer": "ipython3",
   "version": "3.7.12"
  }
 },
 "nbformat": 4,
 "nbformat_minor": 5
}
