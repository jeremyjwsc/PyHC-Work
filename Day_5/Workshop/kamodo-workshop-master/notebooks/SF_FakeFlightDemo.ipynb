{
 "cells": [
  {
   "cell_type": "markdown",
   "id": "44a27d0f",
   "metadata": {},
   "source": [
    "# Demo notebook for Kamodo Flythrough \"FakeFlight\" function\n",
    "The FakeFlight function flies a user-designed trajectory through the chosen model data. The sample trajectory is created using a few input parameters as described in the output of block 2.\n",
    "You may run the notebook as is if you have the sample data file, but you must\n",
    "change the 'file_dir', 'output_name', and 'plot_output' variables in block 3 to have the correct file path. The output file must be deleted before rerunning the notebook."
   ]
  },
  {
   "cell_type": "code",
   "execution_count": 1,
   "id": "statewide-animation",
   "metadata": {},
   "outputs": [
    {
     "name": "stderr",
     "output_type": "stream",
     "text": [
      "C:\\Users\\rringuet\\.conda\\envs\\Kamodo_env\\lib\\site-packages\\spacepy\\time.py:2365: UserWarning: Leapseconds may be out of date. Use spacepy.toolbox.update(leapsecs=True)\n",
      "  warnings.warn('Leapseconds may be out of date.'\n"
     ]
    }
   ],
   "source": [
    "#import satellite flythrough code\n",
    "from kamodo_ccmc.flythrough import SatelliteFlythrough as SF\n",
    "import kamodo_ccmc.flythrough.model_wrapper as MW\n",
    "#The testing data file is available at https://drive.google.com/file/d/1pHx9Q8v4vO59_RUMX-SJqYv_-dE3h-st/view?usp=sharing"
   ]
  },
  {
   "cell_type": "code",
   "execution_count": 2,
   "id": "9f2b28b9",
   "metadata": {
    "scrolled": true
   },
   "outputs": [
    {
     "name": "stdout",
     "output_type": "stream",
     "text": [
      "Help on function FakeFlight in module kamodo_ccmc.flythrough.SatelliteFlythrough:\n",
      "\n",
      "FakeFlight(start_time, stop_time, model, file_dir, variable_list, max_lat=65.0, min_lat=-65.0, lon_perorbit=363.0, max_height=450.0, min_height=400.0, p=0.01, n=2.0, high_res=20.0, verbose=False, output_name='', plot_coord='GEO')\n",
      "    Generates a sample trajectory and then flies that trajectory through the \n",
      "    model data chosen.\n",
      "     \n",
      "    Parameters: \n",
      "        start_time: utc timestamp in seconds for start\n",
      "        stop_time: utc timestamp in seconds for stop\n",
      "        model: CTIPe, IRI, .... (integers allowed)\n",
      "        file_dir: complete path to where model data is stored\n",
      "        variable_list: list of standardized variable names desired. Integers allowed.\n",
      "        max_lat: maximum latitude for sample trajectory, in degrees (default=65.)\n",
      "        min_lat: minimum latitude for sample trajectory, in degrees (default=-65.)\n",
      "        lon_perorbit: the degrees of longitude per about 90 minute orbit \n",
      "            (set less than 360 for precession forward in longitude, set less \n",
      "            than 360 for precession backwards) (default=363.)\n",
      "        max_height: maximum starting height of orbit in km (default=450.)\n",
      "        min_height: minimum starting height of orbit in km (default=400.)\n",
      "        p: a rough precession variable, applied as an overall height decrease \n",
      "            as a percentage of the min_height value: p =  (default=0.01).  \n",
      "        n: the time cadence of the sample trajectory generated (default = 2 seconds)\n",
      "        high_res: the accuracy of the conversion from radius or altitude to pressure\n",
      "            level. Ignore if no conversion is needed for the variable(s) selected.\n",
      "            Default is 20.\n",
      "        output_name: complete path with filename (with the extension) for the file to\n",
      "            write the results to. Plotting filenames are determined by \n",
      "            output_name - extension + variable names + plot type (1D or 3D).\n",
      "            Extensions must be one of 'nc' for netCDF4 files, 'csv' for comma\n",
      "            separated data, or 'txt' for tab separated data files.\n",
      "        plot_coord: one of 'GDZ', 'GEO', 'GSM', 'GSE', 'SM', 'GEI', 'MAG'\n",
      "            integers also allowed with 'GDZ'=0 and so on. Indicates the coordinate\n",
      "            system the plot will be generated in. Only plots in cartesian coordinates\n",
      "            systems are supported, so 'SPH' and 'RLL' are not accepted. Default is \n",
      "            'GEO'.\n",
      "            \n",
      "    Returns a dictionary with keys: 'utc_time', 'c1', 'c2', 'c3', and 'net_idx'\n",
      "    - utc_time is an array in UTC seconds since 1970-01-01 of the generated\n",
      "        timestamps with any occuring outside of the model data removed.\n",
      "    - 'c1', 'c2', and 'c3' are arrays of the given coordinate values for each \n",
      "        surviving timestamp\n",
      "    - 'net_idx' is the original index value of the surviving timestamps. \n",
      "        This is kept for easier comparison with the original dataset.\n",
      "    - additional keys are included for each variable and label an array of the\n",
      "        values of the indicated variable for each time+spatial coordinate given\n",
      "    - The units of each array in the returned dictionary are printed to \n",
      "        the screen.\n",
      "    \n",
      "    See kamodo_ccmc.flythrough.utils.ConvertCoord for info on the coordinate systems.\n",
      "\n"
     ]
    }
   ],
   "source": [
    "help(SF.FakeFlight)"
   ]
  },
  {
   "cell_type": "code",
   "execution_count": 3,
   "id": "reflected-aggregate",
   "metadata": {},
   "outputs": [],
   "source": [
    "#Choosing input values for FakeFlight function call\n",
    "#----------------------------  \n",
    "model = 'TIEGCM'  #Choose which model and data to view the example for\n",
    "file_dir = 'C:/Users/rringuet/Kamodo_Data/TIEGCM/Data/'  #full file path to where the model output data is stored\n",
    "\n",
    "#Choose time range and cadence of fake trajectory\n",
    "start_utcts, end_utcts, n = 1068771600, 1069632000, 100.\n",
    "#The chosen time range should match the length of time in the model data files.\n",
    "#See the times.csv file in the directory where the model data is stored for the available time ranges\n",
    "#The file will appear after attempting to execute a flythrough function.\n",
    "#Time values found not to be contained in the model data are automatically discarded (see output of next block).\n",
    "\n",
    "variable_list = ['rho','u_n','T_e']  #list of desired variable names from above list \n",
    "#not all variables in the list will be available in the file(s) found.\n",
    "\n",
    "#choose naming convention for output files\n",
    "output_name = 'C:/Users/rringuet/Kamodo_env/FakeFlightExample_TIEGCM.csv' #filename for DATA output with extension\n",
    "plot_coord = 'GSE'  #coordinate system chosen for output plots\n",
    "#See https://sscweb.gsfc.nasa.gov/users_guide/Appendix_C.shtml for a description of coordinate types\n",
    "#Choose from any option available in SpacePy."
   ]
  },
  {
   "cell_type": "code",
   "execution_count": 4,
   "id": "affecting-electronics",
   "metadata": {
    "scrolled": true
   },
   "outputs": [
    {
     "name": "stdout",
     "output_type": "stream",
     "text": [
      "Attribute/Key names of return dictionary: dict_keys(['sat_time', 'c1', 'c2', 'c3'])\n",
      "(c1,c2,c3) = (lon, lat, alt) in (deg,deg,km) in the GDZ, sph coordinate system.\n",
      "sat_time contains the utc timestamps.\n",
      "Please remove all pxxx.nc files if present.\n",
      "Please remove all pxxx.nc files if present.\n",
      "Variable name(s) not recognized: ['u_n']\n",
      "Some requested variables are not available: ['T_e']\n"
     ]
    },
    {
     "name": "stderr",
     "output_type": "stream",
     "text": [
      "c:\\users\\rringuet\\kamodo_env\\kamodo\\kamodo_ccmc\\readers\\tiegcm_4D.py:370: UserWarning: WARNING: missing_value not used since it\n",
      "cannot be safely cast to variable data type\n",
      "  for key in gvar_list}\n"
     ]
    },
    {
     "name": "stdout",
     "output_type": "stream",
     "text": [
      "\n",
      "Best height resolution achieved: 0.00399 m\n",
      "Worst height resolution achieved: 18.93321 m\n",
      "\n",
      "Some requested variables are not available: ['T_e']\n",
      "Variable name(s) not recognized: ['u_n']\n",
      "Some requested variables are not available: ['T_e']\n",
      "\n",
      "Best height resolution achieved: 0.00196 m\n",
      "Worst height resolution achieved: 19.94272 m\n",
      "\n",
      "Some requested variables are not available: ['T_e']\n",
      "Variable name(s) not recognized: ['u_n']\n",
      "Some requested variables are not available: ['T_e']\n",
      "\n",
      "Best height resolution achieved: 0.00045 m\n",
      "Worst height resolution achieved: 19.39043 m\n",
      "\n",
      "Some requested variables are not available: ['T_e']\n",
      "Variable name(s) not recognized: ['u_n']\n",
      "Some requested variables are not available: ['T_e']\n",
      "\n",
      "Best height resolution achieved: 0.00052 m\n",
      "Worst height resolution achieved: 19.98670 m\n",
      "\n",
      "Some requested variables are not available: ['T_e']\n",
      "Variable name(s) not recognized: ['u_n']\n",
      "Some requested variables are not available: ['T_e']\n",
      "\n",
      "Best height resolution achieved: 0.00372 m\n",
      "Worst height resolution achieved: 19.99227 m\n",
      "\n",
      "Some requested variables are not available: ['T_e']\n",
      "Variable name(s) not recognized: ['u_n']\n",
      "Some requested variables are not available: ['T_e']\n",
      "\n",
      "Best height resolution achieved: 0.00333 m\n",
      "Worst height resolution achieved: 19.86485 m\n",
      "\n",
      "Some requested variables are not available: ['T_e']\n",
      "Variable name(s) not recognized: ['u_n']\n",
      "Some requested variables are not available: ['T_e']\n",
      "\n",
      "Best height resolution achieved: 0.01056 m\n",
      "Worst height resolution achieved: 19.68453 m\n",
      "\n",
      "Some requested variables are not available: ['T_e']\n",
      "Variable name(s) not recognized: ['u_n']\n",
      "Some requested variables are not available: ['T_e']\n",
      "\n",
      "Best height resolution achieved: 0.02303 m\n",
      "Worst height resolution achieved: 19.22374 m\n",
      "\n",
      "Some requested variables are not available: ['T_e']\n",
      "Variable name(s) not recognized: ['u_n']\n",
      "Some requested variables are not available: ['T_e']\n",
      "\n",
      "Best height resolution achieved: 0.00797 m\n",
      "Worst height resolution achieved: 19.94044 m\n",
      "\n",
      "Some requested variables are not available: ['T_e']\n",
      "Variable name(s) not recognized: ['u_n']\n",
      "Some requested variables are not available: ['T_e']\n",
      "\n",
      "Best height resolution achieved: 0.00248 m\n",
      "Worst height resolution achieved: 19.92555 m\n",
      "\n",
      "{'rho': 'g/cm**3', 'utc_time': 's', 'net_idx': '', 'c1': 'deg', 'c2': 'deg', 'c3': 'km'}\n",
      "Please remove all pxxx.nc files if present.\n",
      "Output saved in C:/Users/rringuet/Kamodo_env/FakeFlightExample_TIEGCM.csv.\n",
      "Generating interactive plots...\n"
     ]
    },
    {
     "name": "stderr",
     "output_type": "stream",
     "text": [
      "C:\\Users\\rringuet\\.conda\\envs\\Kamodo_env\\lib\\site-packages\\spacepy\\coordinates.py:242: DeprecationWarning:\n",
      "\n",
      "No coordinate backend specified; using IRBEM. This default will change in the future.\n",
      "\n"
     ]
    },
    {
     "name": "stdout",
     "output_type": "stream",
     "text": [
      "-saving html div file:  C:/Users/rringuet/Kamodo_env/FakeFlightExample_TIEGCM_rho_3D.html\n",
      "-saving html div file:  C:/Users/rringuet/Kamodo_env/FakeFlightExample_TIEGCM_rho_1D.html\n"
     ]
    }
   ],
   "source": [
    "#run FakeFlight with sample trajectory\n",
    "results = SF.FakeFlight(start_utcts, end_utcts, model, file_dir, variable_list, n=n, \n",
    "                        output_name=output_name, plot_coord=plot_coord)\n",
    "#open plots in separate internet browser window for interactivity. Nothing will open here."
   ]
  },
  {
   "cell_type": "code",
   "execution_count": null,
   "id": "informed-biology",
   "metadata": {},
   "outputs": [],
   "source": []
  }
 ],
 "metadata": {
  "kernelspec": {
   "display_name": "Python 3 (ipykernel)",
   "language": "python",
   "name": "python3"
  },
  "language_info": {
   "codemirror_mode": {
    "name": "ipython",
    "version": 3
   },
   "file_extension": ".py",
   "mimetype": "text/x-python",
   "name": "python",
   "nbconvert_exporter": "python",
   "pygments_lexer": "ipython3",
   "version": "3.7.12"
  }
 },
 "nbformat": 4,
 "nbformat_minor": 5
}
