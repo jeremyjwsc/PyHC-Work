{
 "cells": [
  {
   "cell_type": "markdown",
   "id": "cadfb350",
   "metadata": {},
   "source": [
    "# Demo notebook for Kamodo Flythrough \"ModelFlythrough\" function\n",
    "The ModelFlythough function flies a user-supplied trajectory through the chosen model data. This is the function the other flythrough functions call once a trajectory is acquired.\n",
    "You may run the notebook as is if you have the sample data file, but you must\n",
    "change the 'file_dir', 'output_name', and 'plot_output' variables in block 3 to have the correct file path."
   ]
  },
  {
   "cell_type": "code",
   "execution_count": 1,
   "id": "statewide-animation",
   "metadata": {},
   "outputs": [
    {
     "name": "stderr",
     "output_type": "stream",
     "text": [
      "C:\\Users\\rringuet\\.conda\\envs\\Kamodo_env\\lib\\site-packages\\spacepy\\time.py:2365: UserWarning: Leapseconds may be out of date. Use spacepy.toolbox.update(leapsecs=True)\n",
      "  warnings.warn('Leapseconds may be out of date.'\n"
     ]
    }
   ],
   "source": [
    "#import satellite flythrough code\n",
    "from kamodo_ccmc.flythrough import SatelliteFlythrough as SF\n",
    "import kamodo_ccmc.flythrough.model_wrapper as MW\n",
    "#The testing data file is available at https://drive.google.com/file/d/1pHx9Q8v4vO59_RUMX-SJqYv_-dE3h-st/view?usp=sharing"
   ]
  },
  {
   "cell_type": "code",
   "execution_count": 2,
   "id": "9f2b28b9",
   "metadata": {
    "scrolled": true
   },
   "outputs": [
    {
     "name": "stdout",
     "output_type": "stream",
     "text": [
      "Help on function ModelFlythrough in module kamodo_ccmc.flythrough.SatelliteFlythrough:\n",
      "\n",
      "ModelFlythrough(model, file_dir, variable_list, sat_time, c1, c2, c3, coord_sys, high_res=20.0, output_name='', plot_coord='GEO', verbose=False, _print_units=True)\n",
      "    Call satellite flythrough wrapper specific to the model chosen.\n",
      "    Parameters:   \n",
      "    ------------\n",
      "    model: 'CTIPe','IRI', ...\n",
      "    file_dir: complete path to where model data files are stored\n",
      "    variable_list: List of standardized variable names. Corresponding integers \n",
      "        are allowed. See model variable output for details.\n",
      "    sat_time: a numpy array of the utc timestamps\n",
      "    c1, c2, c3: numpy arrays of the positions correlating to the utc timestamps\n",
      "        (c1, c2, c3) should be (x,y,z) in R_E for cartesian coordinates, and (lon, lat, \n",
      "        radius (R_E) or altitude (km)) for spherical coordinates. \n",
      "    coord_sys: one of 'GDZ', 'GEO', 'GSM', 'GSE', 'SM', 'GEI', 'MAG', 'SPH', 'RLL'\n",
      "        combined with '-sph' or '-car'. E.g. 'SM-car' or 'GDZ-sph'.\n",
      "    high_res: the accuracy of the conversion from radius or altitude to pressure\n",
      "        level. Ignore if no conversion is needed for the variable(s) selected.\n",
      "        Default is 20.\n",
      "    output_name: complete path with filename (with the extension) for the file to\n",
      "        write the results to. Plotting filenames are determined by \n",
      "        output_name - extension + variable names + plot type (1D or 3D).\n",
      "        Extensions must be one of 'nc' for netCDF4 files, 'csv' for comma\n",
      "        separated data, or 'txt' for tab separated data files.\n",
      "    plot_coord: one of 'GDZ', 'GEO', 'GSM', 'GSE', 'SM', 'GEI', 'MAG'.\n",
      "        Indicates the coordinate system the plot will be generated in. Only\n",
      "        plots in cartesian coordinates systems are supported, so 'SPH' and 'RLL'\n",
      "        are not accepted. Default is 'GEO'.\n",
      "    verbose: Set to true to be overwhelmed with information.     \n",
      "    \n",
      "    Returns a dictionary with keys: 'utc_time', 'c1', 'c2', 'c3', and 'net_idx'\n",
      "        - utc_time is an array in UTC seconds since 1970-01-01 of the given\n",
      "            timestamps with any occuring outside of the model data removed.\n",
      "        - 'c1', 'c2', and 'c3' are arrays of the given coordinate values for each \n",
      "            surviving timestamp\n",
      "        - 'net_idx' is the original index value of the surviving timestamps. \n",
      "            This is kept for easier comparison with the original dataset.\n",
      "        - additional keys are included for each variable and label an array of the\n",
      "            values of the indicated variable for each time+spatial coordinate given\n",
      "        - The units of each array in the returned dictionary are printed to \n",
      "            the screen.\n",
      "            \n",
      "    See kamodo_ccmc.flythrough.utils.ConvertCoord for info on the coordinate systems.\n",
      "\n"
     ]
    }
   ],
   "source": [
    "help(SF.ModelFlythrough)"
   ]
  },
  {
   "cell_type": "code",
   "execution_count": 3,
   "id": "reflected-aggregate",
   "metadata": {},
   "outputs": [],
   "source": [
    "#Choosing input values for ModelFlythrough function call\n",
    "#----------------------------  \n",
    "model = 'TIEGCM'  #Choose which model to view the example for\n",
    "file_dir = 'C:/Users/rringuet/Kamodo_Data/TIEGCM/Data/'  #full file path to where the model output data is stored\n",
    "variable_list = ['T_n','rho','TEC','W_Joule','HmF2']  #list of desired variable names from above list, must be in list form \n",
    "#not all variables in the list will be available in the file(s) found.\n",
    "coord_sys = 'GEO-sph'  #GEO spherical coordinates as the sample coordinate system for trajectory\n",
    "#See https://sscweb.gsfc.nasa.gov/users_guide/Appendix_C.shtml for a description of coordinate types\n",
    "#Choose from any option available in SpacePy.\n",
    "\n",
    "#choose naming convention for output files\n",
    "output_name = 'C:/Users/rringuet/Kamodo_env/ModelFlythroughExample_TIEGCM.nc' #filename for DATA output with extension\n",
    "plot_coord = 'GSE'  #coordinate system chosen for output plots"
   ]
  },
  {
   "cell_type": "code",
   "execution_count": 4,
   "id": "4b4ff268",
   "metadata": {},
   "outputs": [
    {
     "name": "stdout",
     "output_type": "stream",
     "text": [
      "20161 20161 20161 20161\n",
      "510.248 km\n"
     ]
    }
   ],
   "source": [
    "#Option 1 for creating input trajectory coordinate arrays:\n",
    "#create sample coordinate input arrays, geostationary-like orbit for simplicity (but much lower altitude)\n",
    "import numpy as np\n",
    "sat_time = np.linspace(1506039600,1506124800+86400*7,int(86400*7/30+1), dtype=int)  \n",
    "#selected time range available in data @ 30 sec intervals\n",
    "#The chosen time range should match the length of time in the model data files.\n",
    "#See the times.csv file in the directory where the model data is stored for the available time ranges\n",
    "#The file will appear after attempting to execute a flythrough function.\n",
    "#Time values found not to be contained in the model data are automatically discarded (see output of block 10).\n",
    "\n",
    "sat_lon = np.repeat(0., int(86400*7/30+1))  #in degrees\n",
    "sat_lat = np.repeat(0., int(86400*7/30+1))  #in degrees\n",
    "sat_radius = np.repeat(1.08, int(86400*7/30+1))  #in R_earth (~500 km altitude)\n",
    "#if coord_grid is chosen to be cartesian ('car'), then lon, lat, radius -> x, y, z in the chosen coordinate system\n",
    "#coordinate arrays must all be the same length\n",
    "print(len(sat_time), len(sat_lon), len(sat_lat), len(sat_radius))\n",
    "\n",
    "#convert sat_radius to km and print for sanity check\n",
    "from astropy.constants import R_earth\n",
    "sat_alt = sat_radius[0]*R_earth.value-R_earth.value  #in meters\n",
    "print(sat_alt/1000., 'km')  #Rough altitude printed in km"
   ]
  },
  {
   "cell_type": "code",
   "execution_count": 5,
   "id": "2fb1d67a",
   "metadata": {},
   "outputs": [
    {
     "name": "stdout",
     "output_type": "stream",
     "text": [
      "Help on function SatelliteTrajectory in module kamodo_ccmc.flythrough.SatelliteFlythrough:\n",
      "\n",
      "SatelliteTrajectory(dataset, start_ts, stop_ts, coord_type='GEO', verbose=False)\n",
      "    Retrieve and return satellite trajectory from HAPI/CDAWeb\n",
      "    Parameters:\n",
      "    ----------\n",
      "    dataset: name of the satellite data set to pull trajectory from\n",
      "    start_ts: utc timestamp for start of desired time interval\n",
      "    stop_ts: utc timestamp for end of desired time interval    \n",
      "    coord_type: Pick from GEO, GSM, GSE, or SM\n",
      "    verbose: Set to true to be overwhelmed with information.\n",
      "    \n",
      "    Coordinates are retrieved on a cartesian grid.\n",
      "    See kamodo_ccmc.flythrough.utils.ConvertCoord for info on the coordinate systems.\n",
      "\n"
     ]
    }
   ],
   "source": [
    "#Option 2 for creating input trajectory coordinate arrays:\n",
    "#pull a real satellite trajectory and just change the time values to match the model data.\n",
    "help(SF.SatelliteTrajectory)"
   ]
  },
  {
   "cell_type": "code",
   "execution_count": 6,
   "id": "eb7b0ab4",
   "metadata": {},
   "outputs": [
    {
     "name": "stdout",
     "output_type": "stream",
     "text": [
      "Attribute/Key names of return dictionary: dict_keys(['sat_time', 'c1', 'c2', 'c3'])\n"
     ]
    }
   ],
   "source": [
    "#Demonstrate how to use the flythrough function to alter a real satellite trajectory\n",
    "#---------------------------------------------------------------------------\n",
    "#The time series for each coordinate is returned in a dictionary\n",
    "#Use https://sscweb.gsfc.nasa.gov/ to find the satellite name and time range desired\n",
    "#The chosen time range should match the length of time in the model data files.\n",
    "#See the times.csv file in the directory where the model data is stored for the available time ranges\n",
    "#The file will appear after attempting to execute a flythrough function.\n",
    "#Time values found not to be contained in the model data are automatically discarded (see output of next block).\n",
    "traj_dict, new_coord_sys = SF.SatelliteTrajectory('grace1', 1426660000.0, 1426880700.0, coord_type='GSE')\n",
    "\n",
    "#change the time range by subtracting the appropriate value (the diff between the first in each)\n",
    "start1, start2 = min(sat_time), min(traj_dict['sat_time'])  #start1 can equal the minimum UTC timestamp from the csv file\n",
    "if start1>start2: \n",
    "    diff = start1-start2\n",
    "    new_time = traj_dict['sat_time']+diff\n",
    "if start1<start2: \n",
    "    diff = start2-start1\n",
    "    new_time = traj_dict['sat_time']-diff\n",
    "#The cartesian spatial coordinate time arrays are x=traj_dict['c1'], y=traj_dic['c2'], and z=traj_dict['c3']"
   ]
  },
  {
   "cell_type": "code",
   "execution_count": 7,
   "id": "affecting-electronics",
   "metadata": {
    "scrolled": true
   },
   "outputs": [
    {
     "name": "stdout",
     "output_type": "stream",
     "text": [
      "Please remove all pxxx.nc files if present.\n",
      "Please remove all pxxx.nc files if present.\n",
      "2237 times are not in model output files and are excluded from the flythrough.\n"
     ]
    },
    {
     "name": "stderr",
     "output_type": "stream",
     "text": [
      "C:\\Users\\rringuet\\.conda\\envs\\Kamodo_env\\lib\\site-packages\\spacepy\\coordinates.py:242: DeprecationWarning: No coordinate backend specified; using IRBEM. This default will change in the future.\n",
      "  DeprecationWarning)\n",
      "c:\\users\\rringuet\\kamodo_env\\kamodo\\kamodo_ccmc\\readers\\tiegcm_4D.py:370: UserWarning: WARNING: missing_value not used since it\n",
      "cannot be safely cast to variable data type\n",
      "  for key in gvar_list}\n"
     ]
    },
    {
     "name": "stdout",
     "output_type": "stream",
     "text": [
      "\n",
      "Best height resolution achieved: 0.00575 m\n",
      "Worst height resolution achieved: 19.59163 m\n",
      "\n",
      "\n",
      "Best height resolution achieved: 0.02743 m\n",
      "Worst height resolution achieved: 19.71656 m\n",
      "\n",
      "\n",
      "Best height resolution achieved: 0.00116 m\n",
      "Worst height resolution achieved: 19.68833 m\n",
      "\n",
      "\n",
      "Best height resolution achieved: 0.00216 m\n",
      "Worst height resolution achieved: 19.62668 m\n",
      "\n"
     ]
    },
    {
     "name": "stderr",
     "output_type": "stream",
     "text": [
      "c:\\users\\rringuet\\kamodo_env\\kamodo\\kamodo_ccmc\\flythrough\\SF_utilities.py:296: RuntimeWarning: All-NaN slice encountered\n",
      "  max_height, min_height = nanmax(rough_height), nanmin(rough_height)  #save for output, ignore NaNs if possible\n"
     ]
    },
    {
     "name": "stdout",
     "output_type": "stream",
     "text": [
      "\n",
      "Best height resolution achieved: 0.00173 m\n",
      "Worst height resolution achieved: 19.21641 m\n",
      "\n",
      "\n",
      "Best height resolution achieved: 0.00283 m\n",
      "Worst height resolution achieved: 19.93211 m\n",
      "\n",
      "{'T_n': 'K', 'rho': 'g/cm**3', 'TEC': '1/cm**2', 'HmF2': 'km', 'utc_time': 's', 'net_idx': '', 'c1': 'R_E', 'c2': 'R_E', 'c3': 'R_E'}\n",
      "Please remove all pxxx.nc files if present.\n",
      "Output saved in C:/Users/rringuet/Kamodo_env/ModelFlythroughExample_TIEGCM.nc.\n",
      "Generating interactive plots...\n",
      "-saving html div file:  C:/Users/rringuet/Kamodo_env/ModelFlythroughExample_TIEGCM_T_n_3D.html\n",
      "-saving html div file:  C:/Users/rringuet/Kamodo_env/ModelFlythroughExample_TIEGCM_T_n_1D.html\n",
      "-saving html div file:  C:/Users/rringuet/Kamodo_env/ModelFlythroughExample_TIEGCM_rho_3D.html\n",
      "-saving html div file:  C:/Users/rringuet/Kamodo_env/ModelFlythroughExample_TIEGCM_rho_1D.html\n",
      "-saving html div file:  C:/Users/rringuet/Kamodo_env/ModelFlythroughExample_TIEGCM_TEC_3D.html\n",
      "-saving html div file:  C:/Users/rringuet/Kamodo_env/ModelFlythroughExample_TIEGCM_TEC_1D.html\n",
      "-saving html div file:  C:/Users/rringuet/Kamodo_env/ModelFlythroughExample_TIEGCM_HmF2_3D.html\n",
      "-saving html div file:  C:/Users/rringuet/Kamodo_env/ModelFlythroughExample_TIEGCM_HmF2_1D.html\n"
     ]
    }
   ],
   "source": [
    "#run ModelFlythrough with user-created trajectory\n",
    "#results = SF.ModelFlythrough(model, file_dir, variable_list, sat_time, sat_lon, \n",
    "#                            sat_lat, sat_radius, coord_sys,\n",
    "#                           output_name=output_name, plot_coord=plot_coord)\n",
    "\n",
    "#run ModelFlythrough with altered grace1 trajectory from SSCWeb\n",
    "results = SF.ModelFlythrough(model, file_dir, variable_list, new_time, traj_dict['c1'], \n",
    "                            traj_dict['c2'], traj_dict['c3'], new_coord_sys,\n",
    "                           output_name=output_name, plot_coord=plot_coord)\n",
    "#open plots in separate internet browser window for interactivity. Nothing will open here."
   ]
  },
  {
   "cell_type": "code",
   "execution_count": null,
   "id": "informed-biology",
   "metadata": {},
   "outputs": [],
   "source": []
  }
 ],
 "metadata": {
  "kernelspec": {
   "display_name": "Python 3 (ipykernel)",
   "language": "python",
   "name": "python3"
  },
  "language_info": {
   "codemirror_mode": {
    "name": "ipython",
    "version": 3
   },
   "file_extension": ".py",
   "mimetype": "text/x-python",
   "name": "python",
   "nbconvert_exporter": "python",
   "pygments_lexer": "ipython3",
   "version": "3.7.12"
  }
 },
 "nbformat": 4,
 "nbformat_minor": 5
}
