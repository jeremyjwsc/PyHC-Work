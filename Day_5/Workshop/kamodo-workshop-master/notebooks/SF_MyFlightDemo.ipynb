{
 "cells": [
  {
   "cell_type": "markdown",
   "id": "96b62478",
   "metadata": {},
   "source": [
    "# Demo notebook for Kamodo Flythrough \"MyFlight\" function\n",
    "The MyFlight function flies a trajectory from a file through the chosen model data. The file must be formatted to match the csv/nc/txt file examples given.\n",
    "You may run the notebook as is if you have the sample data file, but you must\n",
    "change the 'file_dir', 'output_name', and 'plot_output' variables in block 3 to have the correct file path. The output file must be deleted before rerunning the notebook."
   ]
  },
  {
   "cell_type": "code",
   "execution_count": 1,
   "id": "statewide-animation",
   "metadata": {},
   "outputs": [
    {
     "name": "stderr",
     "output_type": "stream",
     "text": [
      "C:\\Users\\rringuet\\.conda\\envs\\Kamodo_env\\lib\\site-packages\\spacepy\\time.py:2365: UserWarning: Leapseconds may be out of date. Use spacepy.toolbox.update(leapsecs=True)\n",
      "  warnings.warn('Leapseconds may be out of date.'\n"
     ]
    }
   ],
   "source": [
    "#import satellite flythrough code\n",
    "from kamodo_ccmc.flythrough import SatelliteFlythrough as SF\n",
    "import kamodo_ccmc.flythrough.model_wrapper as MW\n",
    "#The testing data file is available at https://drive.google.com/file/d/1pHx9Q8v4vO59_RUMX-SJqYv_-dE3h-st/view?usp=sharing"
   ]
  },
  {
   "cell_type": "code",
   "execution_count": 2,
   "id": "9f2b28b9",
   "metadata": {
    "scrolled": true
   },
   "outputs": [
    {
     "name": "stdout",
     "output_type": "stream",
     "text": [
      "Help on function MyFlight in module kamodo_ccmc.flythrough.SatelliteFlythrough:\n",
      "\n",
      "MyFlight(traj_file, model, file_dir, variable_list, output_name='', plot_coord='GEO', high_res=20.0, verbose=False)\n",
      "    Read in a trajectory from a file, then fly through the model data selected.\n",
      "    \n",
      "    traj_file: complete path and filename for file containing trajectory data.\n",
      "    file_type: one of 'cdf4' for netCDF4 files, 'csv' for comma-separated files, \n",
      "        or 'txt' for a tab-separated text file. Indicates the format of the input\n",
      "        trajectory file. \n",
      "    coord_sys: one of 'GDZ', 'GEO', 'GSM', 'GSE', 'SM', 'GEI', 'MAG', 'SPH', 'RLL'\n",
      "        combined with '-sph' or '-car'. E.g. 'SM-car' or 'GDZ-sph'.\n",
      "    model: 'CTIPe', 'IRI', ...  \n",
      "    file_dir: complete path to model data files\n",
      "    variable_list: List of standardized variable names. Corresponding integers \n",
      "        are allowed. See model variable output for details.\n",
      "    output_name: complete path with filename (with the extension) for the file to\n",
      "        write the results to. Plotting filenames are determined by \n",
      "        output_name - extension + variable names + plot type (1D or 3D).\n",
      "        Extensions must be one of 'nc' for netCDF4 files, 'csv' for comma\n",
      "        separated data, or 'txt' for tab separated data files.\n",
      "    high_res: the accuracy of the conversion from radius or altitude to pressure\n",
      "        level. Ignore if no conversion is needed for the variable(s) selected.\n",
      "        Default is 20.\n",
      "    plot_coord: one of 'GDZ', 'GEO', 'GSM', 'GSE', 'SM', 'GEI', 'MAG'\n",
      "        integers also allowed with 'GDZ'=0 and so on. Indicates the coordinate\n",
      "        system the plot will be generated in. Only plots in cartesian coordinates\n",
      "        systems are supported, so 'SPH' and 'RLL' are not accepted. Default is \n",
      "        'GEO'.        \n",
      "    verbose: Set to true to be overwhelmed with information.\n",
      "    \n",
      "    Returns a dictionary with keys: 'utc_time', 'c1', 'c2', 'c3', and 'net_idx'\n",
      "        - utc_time is an array in UTC seconds since 1970-01-01 of the given\n",
      "            timestamps with any occuring outside of the model data removed.\n",
      "        - 'c1', 'c2', and 'c3' are arrays of the given coordinate values for each \n",
      "            surviving timestamp\n",
      "        - 'net_idx' is the original index value of the surviving timestamps. \n",
      "            This is kept for easier comparison with the original dataset.\n",
      "        - additional keys are included for each variable and label an array of the\n",
      "            values of the indicated variable for each time+spatial coordinate given\n",
      "        - The units of each array in the returned dictionary are printed to \n",
      "            the screen.\n",
      "            \n",
      "    See kamodo_ccmc.flythrough.utils.ConvertCoord for info on the coordinate systems.\n",
      "\n"
     ]
    }
   ],
   "source": [
    "help(SF.MyFlight)"
   ]
  },
  {
   "cell_type": "code",
   "execution_count": 3,
   "id": "reflected-aggregate",
   "metadata": {},
   "outputs": [],
   "source": [
    "#Choosing input values for MyFlight function call\n",
    "#----------------------------  \n",
    "model = 'TIEGCM'  #Choose which model to view the example for\n",
    "file_dir = 'C:/Users/rringuet/Kamodo_Data/TIEGCM/Data/'  #full file path to where the model output data is stored\n",
    "traj_file = 'C:/Users/rringuet/Kamodo_env/FakeFlightExample_TIEGCM.csv'\n",
    "#change the traj_file name and path to match your system\n",
    "variable_list = ['rho','T_n','Sigma_H']  #list of desired variable names from above list \n",
    "#not all variables in the list will be available in the file(s) found.\n",
    "\n",
    "#choose naming convention for output files\n",
    "output_name = 'C:/Users/rringuet/Kamodo_env/MyFlightExample_TIEGCM.txt' #filename for DATA output with extension\n",
    "plot_coord = 'GSE'  #coordinate system chosen for output plots\n",
    "#See https://sscweb.gsfc.nasa.gov/users_guide/Appendix_C.shtml for a description of coordinate types"
   ]
  },
  {
   "cell_type": "code",
   "execution_count": 4,
   "id": "affecting-electronics",
   "metadata": {
    "scrolled": true
   },
   "outputs": [
    {
     "name": "stdout",
     "output_type": "stream",
     "text": [
      "Please remove all pxxx.nc files if present.\n",
      "Please remove all pxxx.nc files if present.\n",
      "Variable name(s) not recognized: ['Sigma_H']\n"
     ]
    },
    {
     "name": "stderr",
     "output_type": "stream",
     "text": [
      "c:\\users\\rringuet\\kamodo_env\\kamodo\\kamodo_ccmc\\readers\\tiegcm_4D.py:370: UserWarning: WARNING: missing_value not used since it\n",
      "cannot be safely cast to variable data type\n",
      "  for key in gvar_list}\n"
     ]
    },
    {
     "name": "stdout",
     "output_type": "stream",
     "text": [
      "\n",
      "Best height resolution achieved: 0.00690 m\n",
      "Worst height resolution achieved: 19.78308 m\n",
      "\n",
      "\n",
      "Best height resolution achieved: 0.00399 m\n",
      "Worst height resolution achieved: 18.93321 m\n",
      "\n",
      "Variable name(s) not recognized: ['Sigma_H']\n",
      "\n",
      "Best height resolution achieved: 0.00419 m\n",
      "Worst height resolution achieved: 19.66640 m\n",
      "\n",
      "\n",
      "Best height resolution achieved: 0.00196 m\n",
      "Worst height resolution achieved: 19.94272 m\n",
      "\n",
      "Variable name(s) not recognized: ['Sigma_H']\n",
      "\n",
      "Best height resolution achieved: 0.00221 m\n",
      "Worst height resolution achieved: 19.82773 m\n",
      "\n",
      "\n",
      "Best height resolution achieved: 0.00045 m\n",
      "Worst height resolution achieved: 19.39043 m\n",
      "\n",
      "Variable name(s) not recognized: ['Sigma_H']\n",
      "\n",
      "Best height resolution achieved: 0.00251 m\n",
      "Worst height resolution achieved: 19.82069 m\n",
      "\n",
      "\n",
      "Best height resolution achieved: 0.00052 m\n",
      "Worst height resolution achieved: 19.98670 m\n",
      "\n",
      "Variable name(s) not recognized: ['Sigma_H']\n",
      "\n",
      "Best height resolution achieved: 0.02121 m\n",
      "Worst height resolution achieved: 19.49106 m\n",
      "\n",
      "\n",
      "Best height resolution achieved: 0.00372 m\n",
      "Worst height resolution achieved: 19.99227 m\n",
      "\n",
      "Variable name(s) not recognized: ['Sigma_H']\n",
      "\n",
      "Best height resolution achieved: 0.00110 m\n",
      "Worst height resolution achieved: 19.28926 m\n",
      "\n",
      "\n",
      "Best height resolution achieved: 0.00333 m\n",
      "Worst height resolution achieved: 19.86485 m\n",
      "\n",
      "Variable name(s) not recognized: ['Sigma_H']\n",
      "\n",
      "Best height resolution achieved: 0.00411 m\n",
      "Worst height resolution achieved: 19.65604 m\n",
      "\n",
      "\n",
      "Best height resolution achieved: 0.01056 m\n",
      "Worst height resolution achieved: 19.68453 m\n",
      "\n",
      "Variable name(s) not recognized: ['Sigma_H']\n",
      "\n",
      "Best height resolution achieved: 0.00674 m\n",
      "Worst height resolution achieved: 19.77615 m\n",
      "\n",
      "\n",
      "Best height resolution achieved: 0.02303 m\n",
      "Worst height resolution achieved: 19.22374 m\n",
      "\n",
      "Variable name(s) not recognized: ['Sigma_H']\n",
      "\n",
      "Best height resolution achieved: 0.00149 m\n",
      "Worst height resolution achieved: 19.76346 m\n",
      "\n",
      "\n",
      "Best height resolution achieved: 0.00797 m\n",
      "Worst height resolution achieved: 19.94044 m\n",
      "\n",
      "Variable name(s) not recognized: ['Sigma_H']\n",
      "\n",
      "Best height resolution achieved: 0.00233 m\n",
      "Worst height resolution achieved: 19.79982 m\n",
      "\n",
      "\n",
      "Best height resolution achieved: 0.00248 m\n",
      "Worst height resolution achieved: 19.92555 m\n",
      "\n",
      "{'T_n': 'K', 'rho': 'g/cm**3', 'utc_time': 's', 'net_idx': '', 'c1': 'deg', 'c2': 'deg', 'c3': 'km'}\n",
      "Please remove all pxxx.nc files if present.\n",
      "Output saved in C:/Users/rringuet/Kamodo_env/MyFlightExample_TIEGCM.txt.\n",
      "Generating interactive plots...\n"
     ]
    },
    {
     "name": "stderr",
     "output_type": "stream",
     "text": [
      "C:\\Users\\rringuet\\.conda\\envs\\Kamodo_env\\lib\\site-packages\\spacepy\\coordinates.py:242: DeprecationWarning:\n",
      "\n",
      "No coordinate backend specified; using IRBEM. This default will change in the future.\n",
      "\n"
     ]
    },
    {
     "name": "stdout",
     "output_type": "stream",
     "text": [
      "-saving html div file:  C:/Users/rringuet/Kamodo_env/MyFlightExample_TIEGCM_rho_3D.html\n",
      "-saving html div file:  C:/Users/rringuet/Kamodo_env/MyFlightExample_TIEGCM_rho_1D.html\n",
      "-saving html div file:  C:/Users/rringuet/Kamodo_env/MyFlightExample_TIEGCM_T_n_3D.html\n",
      "-saving html div file:  C:/Users/rringuet/Kamodo_env/MyFlightExample_TIEGCM_T_n_1D.html\n"
     ]
    }
   ],
   "source": [
    "#run MyFlight with user-supplied trajectory\n",
    "results = SF.MyFlight(traj_file, model, file_dir, variable_list,\n",
    "                      output_name=output_name, plot_coord=plot_coord)\n",
    "#open plots in separate internet browser window for interactivity. Nothing will open here."
   ]
  },
  {
   "cell_type": "code",
   "execution_count": null,
   "id": "informed-biology",
   "metadata": {},
   "outputs": [],
   "source": []
  }
 ],
 "metadata": {
  "kernelspec": {
   "display_name": "Python 3 (ipykernel)",
   "language": "python",
   "name": "python3"
  },
  "language_info": {
   "codemirror_mode": {
    "name": "ipython",
    "version": 3
   },
   "file_extension": ".py",
   "mimetype": "text/x-python",
   "name": "python",
   "nbconvert_exporter": "python",
   "pygments_lexer": "ipython3",
   "version": "3.7.12"
  }
 },
 "nbformat": 4,
 "nbformat_minor": 5
}
