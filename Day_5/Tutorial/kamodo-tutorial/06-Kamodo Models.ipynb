{
 "cells": [
  {
   "cell_type": "markdown",
   "id": "ff7235f1",
   "metadata": {},
   "source": [
    "# Kamodo Models\n",
    "\n",
    "We saw how to turn raw data into functions. While this is a straight-forward process, we do not want the end user of a scientific resource to do this. Instead, we wish to provide \"Kamodofied\" scientific resources, which collect pre-package kamodofied data into a Kamodo subclass.\n",
    "\n",
    "This tutorial focuses on building such a Kamodofied model from scratch. To see the full implementation, skip down to the [Final-Implementation](#Final-Implementation)."
   ]
  },
  {
   "cell_type": "markdown",
   "id": "306be8d8",
   "metadata": {},
   "source": [
    "## Kamodofication requirements\n",
    "\n",
    "To Kamodofy models and data representing physical quantities, we need to define a set of functions representing the interpolation of each physical variable having the following properties:\n",
    "\n",
    "* A function name and arguments that follows kamodo's [Syntax](../Syntax/) conventions \n",
    "* Default arrays for input arguments\n",
    "* A meta attribute containing:\n",
    "    * 'units' - physical units of the values returned by the function\n",
    "    * 'citation' - How the model or data source should be cited\n",
    "    * 'equation' - LaTeX representation of this model/data source (if available)\n",
    "    * 'hidden_args' - A list of function arguments that should not be rendered\n",
    "* A data attribute - The array holding the variable (if available)\n",
    "* Any docstrings that provide further context"
   ]
  },
  {
   "cell_type": "markdown",
   "id": "885d7c08",
   "metadata": {},
   "source": [
    "## Model Reader Tutorial\n",
    "\n",
    "Model Readers load data from disk (or server) and provide methods for interpolation. We require that for each variable of interest, the model reader should provide at least one interpolation method that satisfies all of the above requirements. Each model reader will:\n",
    "\n",
    "1. Open/close files\n",
    "2. Manage state variables\n",
    "3. Initialize interpolators\n",
    "4. Kamodofy interpolators\n",
    "5. Register functions"
   ]
  },
  {
   "cell_type": "markdown",
   "id": "097e65bc",
   "metadata": {},
   "source": [
    "### Minimal Example: one variable"
   ]
  },
  {
   "cell_type": "code",
   "execution_count": null,
   "id": "31058266",
   "metadata": {},
   "outputs": [],
   "source": [
    "from kamodo import Kamodo, kamodofy, gridify\n",
    "from scipy.interpolate import RegularGridInterpolator\n",
    "import numpy as np\n",
    "import plotly.io as pio"
   ]
  },
  {
   "cell_type": "code",
   "execution_count": null,
   "id": "a46bc5bb",
   "metadata": {},
   "outputs": [],
   "source": [
    "class MyModel(Kamodo): \n",
    "    def __init__(self, filename, **kwargs):\n",
    "        # mock any necessary I/O\n",
    "        print('opening {}'.format(filename))\n",
    "        self.filename = filename\n",
    "        self.missing_value = np.NAN\n",
    "        \n",
    "        # store any data needed for interpolation\n",
    "        self.x = np.linspace(1, 4, 11)\n",
    "        self.y = np.linspace(4, 7, 22)\n",
    "        self.z = np.linspace(7, 9, 33) \n",
    "        \n",
    "        xx, yy, zz = np.meshgrid(self.x, self.y, self.z, indexing='ij', sparse=True)\n",
    "        density_data = 2 * xx**3 + 3 * yy**2 - zz\n",
    "        \n",
    "        self.interpolator = RegularGridInterpolator((self.x, self.y, self.z), density_data, \n",
    "                                                    bounds_error = False,\n",
    "                                                   fill_value = self.missing_value)\n",
    "\n",
    "\n",
    "        \n",
    "        # Prepare model for function registration for the input argument\n",
    "        super(MyModel, self).__init__(**kwargs) \n",
    "        \n",
    "        # Wrap the interpolator with a nicer function signature\n",
    "        @kamodofy(units = 'kg*m**-3')\n",
    "        def interpolator(xvec):\n",
    "            return self.interpolator(xvec)\n",
    "        \n",
    "        self['rho'] = interpolator\n",
    "\n",
    "\n",
    "model = MyModel('myfile.dat')\n",
    "model"
   ]
  },
  {
   "cell_type": "markdown",
   "id": "57f2b0f5",
   "metadata": {},
   "source": [
    "we can call the registered function with multiple values, getting `nan` if out of bounds:"
   ]
  },
  {
   "cell_type": "code",
   "execution_count": null,
   "id": "b2c0b8ee",
   "metadata": {},
   "outputs": [],
   "source": [
    "model.rho([[2,5,8],\n",
    "           [0,0,0]])"
   ]
  },
  {
   "cell_type": "markdown",
   "id": "0ee05510",
   "metadata": {},
   "source": [
    "However, the registered function has no default parameters, so an error will be raised if we do not provide an argument."
   ]
  },
  {
   "cell_type": "code",
   "execution_count": null,
   "id": "b2d99b35",
   "metadata": {},
   "outputs": [],
   "source": [
    "try:\n",
    "    model.rho()\n",
    "except TypeError as m:\n",
    "    print(m)"
   ]
  },
  {
   "cell_type": "markdown",
   "id": "6ce5dd49",
   "metadata": {},
   "source": [
    "At this point, the end-user of the model cannot generate quick-look graphics:"
   ]
  },
  {
   "cell_type": "code",
   "execution_count": null,
   "id": "b60e228a",
   "metadata": {},
   "outputs": [],
   "source": [
    "try:\n",
    "    model.plot('rho')\n",
    "except TypeError as m:\n",
    "    print(m)"
   ]
  },
  {
   "cell_type": "markdown",
   "id": "85cafb33",
   "metadata": {},
   "source": [
    "In order to generate any plots, the user must already know where they can place resolution. For example, they could inspect some of the attributes of the model and guess the size of the domain, then choose points from that space."
   ]
  },
  {
   "cell_type": "code",
   "execution_count": null,
   "id": "80b37b0a",
   "metadata": {},
   "outputs": [],
   "source": [
    "xx,yy,zz = np.meshgrid(model.x, model.y, model.z)\n",
    "points = np.column_stack([xx.ravel(),yy.ravel(),zz.ravel()])\n",
    "randints = np.random.randint(0,len(points), 1000)"
   ]
  },
  {
   "cell_type": "code",
   "execution_count": null,
   "id": "826a85de",
   "metadata": {},
   "outputs": [],
   "source": [
    "fig = model.plot(rho = dict(xvec = points[randints] ))\n",
    "fig"
   ]
  },
  {
   "cell_type": "code",
   "execution_count": null,
   "id": "40361ee0",
   "metadata": {},
   "outputs": [],
   "source": [
    "# pio.write_image(fig, 'images/kamodofied1.svg')"
   ]
  },
  {
   "cell_type": "markdown",
   "id": "6dc1a3b9",
   "metadata": {},
   "source": [
    "![kamodofied1](images/kamodofied1.svg)"
   ]
  },
  {
   "cell_type": "markdown",
   "id": "0f7018c6",
   "metadata": {},
   "source": [
    "Hopefully, the user doesn't choose points where the solution may be invalid. Next, we'll modify the original function to provide a griddable variable with default parameters."
   ]
  },
  {
   "cell_type": "markdown",
   "id": "017d85ce",
   "metadata": {},
   "source": [
    "## Including defaults\n",
    "\n",
    "The above example produced a kamodofied model with one variable, but we are unable to produce quick-look graphics, which required the user to inspect the model to guess where interpolation may be valid. Here we show how to include defaults so the user doesn't have to guess."
   ]
  },
  {
   "cell_type": "code",
   "execution_count": null,
   "id": "c251b9b3",
   "metadata": {},
   "outputs": [],
   "source": [
    "class MyModel(Kamodo): \n",
    "    def __init__(self, filename, **kwargs):\n",
    "        # perform any necessary I/O\n",
    "        print('opening {}'.format(filename))\n",
    "        self.filename = filename\n",
    "        self.missing_value = np.NAN\n",
    "        \n",
    "        # store any data needed for interpolation\n",
    "        self.x = np.linspace(1, 4, 11)\n",
    "        self.y = np.linspace(4, 7, 22)\n",
    "        self.z = np.linspace(7, 9, 33) \n",
    "        \n",
    "        xx, yy, zz = np.meshgrid(self.x, self.y, self.z, indexing='ij', sparse=True)\n",
    "        density_data = 2 * xx**3 + 3 * yy**2 - zz\n",
    "        \n",
    "        self.interpolator = RegularGridInterpolator((self.x, self.y, self.z), density_data, \n",
    "                                                    bounds_error = False,\n",
    "                                                   fill_value = self.missing_value)\n",
    "\n",
    "\n",
    "        \n",
    "        # Prepare model for function registration for the input argument\n",
    "        super(MyModel, self).__init__(**kwargs) \n",
    "        \n",
    "        # Wrap the interpolator with a nicer function signature\n",
    "        @kamodofy(units = 'kg/m**3')\n",
    "        @gridify(x = self.x, y = self.y, z = self.z) # <--- The only change to the model\n",
    "        def interpolator(xvec):\n",
    "            return self.interpolator(xvec)\n",
    "        \n",
    "        self['rho'] = interpolator\n",
    "        \n",
    "\n",
    "model = MyModel('myfile.dat')\n",
    "model"
   ]
  },
  {
   "cell_type": "markdown",
   "id": "7c235672",
   "metadata": {},
   "source": [
    "By adding the `@gridify` line, we have modified the original function to be one that generates gridded data. Moreover, the variable now has default parameters."
   ]
  },
  {
   "cell_type": "code",
   "execution_count": null,
   "id": "3af237f3",
   "metadata": {},
   "outputs": [],
   "source": [
    "model.rho().shape"
   ]
  },
  {
   "cell_type": "markdown",
   "id": "c422a12c",
   "metadata": {},
   "source": [
    "We can now specify one or more arguments to get a plane mapping of the solution."
   ]
  },
  {
   "cell_type": "code",
   "execution_count": null,
   "id": "1be14e7e",
   "metadata": {},
   "outputs": [],
   "source": [
    "model.rho(z = 8).shape"
   ]
  },
  {
   "cell_type": "markdown",
   "id": "c79efc30",
   "metadata": {},
   "source": [
    "But how do we know to choose the plane `z=8` for a valid solution? We can use kamodo's function inspection to get the default ranges for each parameter."
   ]
  },
  {
   "cell_type": "code",
   "execution_count": null,
   "id": "c58836c4",
   "metadata": {},
   "outputs": [],
   "source": [
    "from kamodo import get_defaults"
   ]
  },
  {
   "cell_type": "code",
   "execution_count": null,
   "id": "319b9505",
   "metadata": {},
   "outputs": [],
   "source": [
    "get_defaults(model.rho)['z'].mean()"
   ]
  },
  {
   "cell_type": "markdown",
   "id": "67d99afe",
   "metadata": {},
   "source": [
    "## Final Implementation\n",
    "\n",
    "In the final implementation of our model reader, we include multiple variables with different function signatures. Here, the gridded solutions have suffixes `_ijk` to emphasize their structure. This allows more flexibility for the end user."
   ]
  },
  {
   "cell_type": "code",
   "execution_count": null,
   "id": "e60007d1",
   "metadata": {},
   "outputs": [],
   "source": [
    "class MyModel(Kamodo): \n",
    "    def __init__(self, filename, gridify_model=True, **kwargs):\n",
    "        # perform any necessary I/O\n",
    "        print('opening {}'.format(filename))\n",
    "        self.filename = filename\n",
    "        self.missing_value = np.NAN\n",
    "        self.gridify_model = gridify_model\n",
    "        \n",
    "        # store any data needed for interpolation\n",
    "        self.x = np.linspace(1, 4, 11)\n",
    "        self.y = np.linspace(4, 7, 22)\n",
    "        self.z = np.linspace(7, 9, 33)        \n",
    "        xx, yy, zz = np.meshgrid(self.x, self.y, self.z, indexing='ij', sparse=True)\n",
    "        density_data = 2 * xx**3 + 3 * yy**2 - zz\n",
    "        pressure_data = xx**2 + yy**2 + zz**2\n",
    "        \n",
    "        \n",
    "        self.variables = dict(rho = dict(units = 'kg/m**3', data = density_data),\n",
    "                              P = dict(units = 'nPa', data = pressure_data))\n",
    "\n",
    "        # Prepare model for function registration\n",
    "        super(MyModel, self).__init__(**kwargs) \n",
    "        \n",
    "        for varname in self.variables:\n",
    "            units = self.variables[varname]['units']\n",
    "            self.register_variable(varname, units)\n",
    "            \n",
    "    def register_variable(self, varname, units):\n",
    "        interpolator = self.get_grid_interpolator(varname)\n",
    "        \n",
    "        # store the interpolator\n",
    "        self.variables[varname]['interpolator'] = interpolator\n",
    "\n",
    "        def interpolate(xvec):  \n",
    "            return self.variables[varname]['interpolator'](xvec)\n",
    "\n",
    "        # update docstring for this variable\n",
    "        interpolate.__doc__ = \"A function that returns {} in [{}].\".format(varname,units)\n",
    "\n",
    "        self[varname] = kamodofy(interpolate, \n",
    "                           units = units, \n",
    "                           citation = \"Pembroke et al 2019\",\n",
    "                          data = None)\n",
    "        \n",
    "        if self.gridify_model:\n",
    "            print(f'registering {varname} in gridified form')\n",
    "            self[varname + '_ijk'] = kamodofy(gridify(self[varname], \n",
    "                                                      x_i = self.x, \n",
    "                                                      y_j = self.y, \n",
    "                                                      z_k = self.z, squeeze=False),\n",
    "                                units = units,\n",
    "                                citation = \"Pembroke et al 2019\",\n",
    "                                data = self.variables[varname]['data'])\n",
    "        \n",
    "            \n",
    "    def get_grid_interpolator(self, varname):\n",
    "        \"\"\"create a regulard grid interpolator for this variable\"\"\"\n",
    "        data =  self.variables[varname]['data']\n",
    "\n",
    "        interpolator = RegularGridInterpolator((self.x, self.y, self.z), data, \n",
    "                                                bounds_error = False,\n",
    "                                               fill_value = self.missing_value)\n",
    "        return interpolator\n",
    "            \n",
    "\n",
    "model = MyModel('myfile.dat', gridify_model=True)\n",
    "model"
   ]
  },
  {
   "cell_type": "code",
   "execution_count": null,
   "id": "65d7bd81",
   "metadata": {},
   "outputs": [],
   "source": [
    "model.rho((2,5,8))"
   ]
  },
  {
   "cell_type": "code",
   "execution_count": null,
   "id": "99492ca5",
   "metadata": {},
   "outputs": [],
   "source": [
    "model.P((2,5,8))"
   ]
  },
  {
   "cell_type": "code",
   "execution_count": null,
   "id": "cddf258e",
   "metadata": {},
   "outputs": [],
   "source": [
    "model.detail()"
   ]
  },
  {
   "cell_type": "markdown",
   "id": "0022931d",
   "metadata": {},
   "source": [
    "Notice we have made the gridifed functions optional, in case the user does not require them. Such design choices are left up to whoever authors the Kamodofied model. Some things to consider when designing your Kamodo models:\n",
    "\n",
    "1. What is your end user most likely to need?\n",
    "1. What are the typical names/units used in the literature for your domain?\n",
    "1. Is this resource part of some other pipeline?\n",
    "1. Are there type requirements you need to support?\n",
    "1. If scientific notebooks exist for this dataset, start from there.\n"
   ]
  },
  {
   "cell_type": "markdown",
   "id": "a8c2845e",
   "metadata": {},
   "source": [
    "## Combined models"
   ]
  },
  {
   "cell_type": "markdown",
   "id": "7b279b51",
   "metadata": {},
   "source": [
    "We could also register the model's interpolating method as part of some other Kamodo object, such as another kamodofied model reader or data source:"
   ]
  },
  {
   "cell_type": "code",
   "execution_count": null,
   "id": "701c9e5f",
   "metadata": {},
   "outputs": [],
   "source": [
    "from kamodo import Kamodo\n",
    "kamodo = Kamodo(rho = model.rho)\n",
    "kamodo"
   ]
  },
  {
   "cell_type": "markdown",
   "id": "41cbe9ed",
   "metadata": {},
   "source": [
    "We can now compose our density function with expressions defined by other models:"
   ]
  },
  {
   "cell_type": "code",
   "execution_count": null,
   "id": "c7162097",
   "metadata": {},
   "outputs": [],
   "source": [
    "kamodo['vol[m^3]'] = '4/3 * pi * (xvec)**(3/2)'\n",
    "kamodo"
   ]
  },
  {
   "cell_type": "code",
   "execution_count": null,
   "id": "2df41b35",
   "metadata": {},
   "outputs": [],
   "source": [
    "kamodo['mass'] = 'rho*vol'\n",
    "kamodo"
   ]
  },
  {
   "cell_type": "code",
   "execution_count": null,
   "id": "ddf76da8",
   "metadata": {},
   "outputs": [],
   "source": [
    "kamodo.detail()"
   ]
  },
  {
   "cell_type": "markdown",
   "id": "b6e058a9",
   "metadata": {},
   "source": [
    "The following lines will save the image to your working directory.\n",
    "\n",
    "!!! note\n",
    "    Saving images requires `plotly-orca-1.2.1`, available through conda: ```conda install -c plotly plotly-orca```"
   ]
  },
  {
   "cell_type": "code",
   "execution_count": null,
   "id": "619c4f9f",
   "metadata": {},
   "outputs": [],
   "source": [
    "model.rho_ijk().shape"
   ]
  },
  {
   "cell_type": "code",
   "execution_count": null,
   "id": "1e4e613f",
   "metadata": {},
   "outputs": [],
   "source": [
    "import plotly.io as pio\n",
    "fig = model.plot(rho_ijk = dict(z_k = model.z.mean()))\n",
    "fig"
   ]
  }
 ],
 "metadata": {
  "jupytext": {
   "formats": "ipynb,md"
  },
  "kernelspec": {
   "display_name": "Python 3 (ipykernel)",
   "language": "python",
   "name": "python3"
  },
  "language_info": {
   "codemirror_mode": {
    "name": "ipython",
    "version": 3
   },
   "file_extension": ".py",
   "mimetype": "text/x-python",
   "name": "python",
   "nbconvert_exporter": "python",
   "pygments_lexer": "ipython3",
   "version": "3.7.12"
  }
 },
 "nbformat": 4,
 "nbformat_minor": 5
}
