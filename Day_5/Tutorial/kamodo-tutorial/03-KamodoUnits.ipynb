{
 "cells": [
  {
   "cell_type": "markdown",
   "id": "8d5819db",
   "metadata": {},
   "source": [
    "## Kamodo Units\n",
    "\n",
    "In Kamodo, **units are strictly associated with a function's metadata**. Units are not attached to a type (as in astropy, pint, etc). \n",
    "\n",
    "compare/contrast with an example of astropy/sunpy units"
   ]
  },
  {
   "cell_type": "markdown",
   "id": "034470a3",
   "metadata": {},
   "source": [
    "### Unit Registration\n",
    "\n",
    "Kamodo identifies units at registration time via bracket notation.\n"
   ]
  },
  {
   "cell_type": "code",
   "execution_count": null,
   "id": "37202be6",
   "metadata": {},
   "outputs": [],
   "source": [
    "from kamodo import Kamodo"
   ]
  },
  {
   "cell_type": "code",
   "execution_count": null,
   "id": "68bc87c3",
   "metadata": {},
   "outputs": [],
   "source": [
    "k = Kamodo('f(x[cm])[kg/m^3]=x^2-x-1')\n",
    "k"
   ]
  },
  {
   "cell_type": "markdown",
   "id": "35f6300b",
   "metadata": {},
   "source": [
    "Another way to read the above:\n",
    "\n",
    "> **When $x$ is given in $cm$, I promise to return results $kg/m^3$**\n",
    ">\n",
    "> --  sincerely, $f(x)$"
   ]
  },
  {
   "cell_type": "markdown",
   "id": "55bf4997",
   "metadata": {},
   "source": [
    "We can easily identify the units of `f` on the left-hand-side of the registered function. We can also access this information through `f`'s `meta` attribute."
   ]
  },
  {
   "cell_type": "code",
   "execution_count": null,
   "id": "221bc841",
   "metadata": {},
   "outputs": [],
   "source": [
    "k.f.meta"
   ]
  },
  {
   "cell_type": "markdown",
   "id": "6d4a4308",
   "metadata": {},
   "source": [
    "This information also appears in the `detail` method of the kamodo object:"
   ]
  },
  {
   "cell_type": "code",
   "execution_count": null,
   "id": "67191141",
   "metadata": {},
   "outputs": [],
   "source": [
    "k.detail()"
   ]
  },
  {
   "cell_type": "markdown",
   "id": "38e26f32",
   "metadata": {},
   "source": [
    "## Evaluation\n",
    "\n",
    "Since units are just metadata, evaluation is unaffected:"
   ]
  },
  {
   "cell_type": "code",
   "execution_count": null,
   "id": "22af2d78",
   "metadata": {},
   "outputs": [],
   "source": [
    "assert k.f(3) == 3**2-3-1"
   ]
  },
  {
   "cell_type": "markdown",
   "id": "4a36c618",
   "metadata": {},
   "source": [
    "The only difference is that we now know the output must be in `kg/m^3` as described by the function's metadata."
   ]
  },
  {
   "cell_type": "markdown",
   "id": "0055ac45",
   "metadata": {},
   "source": [
    "## Unit conversion\n",
    "\n",
    "Unit conversions are handled through composition.\n",
    "During composition, Kamodo identifies any pre-registered functions and inserts appropriate unit conversion factors into user-defined expressions. "
   ]
  },
  {
   "cell_type": "code",
   "execution_count": null,
   "id": "4cbfcbba",
   "metadata": {},
   "outputs": [],
   "source": [
    "k['g(x[m])[g/cm^3]'] = 'f' # user wants to convert f into their preferred unit system\n",
    "k"
   ]
  },
  {
   "cell_type": "markdown",
   "id": "d6254813",
   "metadata": {},
   "source": [
    "Another way to read the expression for g:\n",
    "\n",
    "> If you give me $x$ in `m`, I promise to return `g/cm^3`. To do this, I will need to multiply $x$ by `100` before calling $f$ (since $f$ requires `cm`). Finally, I'll divide the result by $1000$ to get from $kg/m^3$ to $g/cm^3$.\n",
    ">\n",
    "> --sincerely, g(x)"
   ]
  },
  {
   "cell_type": "markdown",
   "id": "4d1cd801",
   "metadata": {},
   "source": [
    "Since the conversion factors are clearly visible in the generated expressions, unit conversion is explicit. This makes it easy to compare our results with back-of-the-envelope calculations."
   ]
  },
  {
   "cell_type": "markdown",
   "id": "51b2e1ad",
   "metadata": {},
   "source": [
    "The above may seem trival, but such automated conversion becomes crucial as expressions involve more scientific resources."
   ]
  },
  {
   "cell_type": "code",
   "execution_count": null,
   "id": "4477b3e6",
   "metadata": {},
   "outputs": [],
   "source": [
    "k['h(x[km])[kg/cm^3]'] = 'sqrt(f^2 + g^2)'\n",
    "k"
   ]
  },
  {
   "cell_type": "markdown",
   "id": "c9f18deb",
   "metadata": {},
   "source": [
    "Kamodo raises a `NameError` if a particular target unit is incompatible with a given expression."
   ]
  },
  {
   "cell_type": "code",
   "execution_count": null,
   "id": "2ddc9db3",
   "metadata": {},
   "outputs": [],
   "source": [
    "try:\n",
    "    k['f_2(x[kg])[g/m^3]'] = 'f'\n",
    "except NameError as m:\n",
    "    print(m)"
   ]
  },
  {
   "cell_type": "markdown",
   "id": "4b684885",
   "metadata": {},
   "source": [
    "In this case, Kamodo prevents the user from registering $f_2(x)$ with $x$ in $[kg]$ because $f(x)$ requires $x$ to be in $[cm]$."
   ]
  },
  {
   "cell_type": "markdown",
   "id": "e069fa73",
   "metadata": {},
   "source": [
    "**How this works**"
   ]
  },
  {
   "cell_type": "markdown",
   "id": "452789e8",
   "metadata": {},
   "source": [
    "To manage all this book keeping, Kamodo objects contain a unit registry, which is a directed acyclic graph mapping function symbols to [sympy units](https://docs.sympy.org/latest/modules/physics/units/index.html)."
   ]
  },
  {
   "cell_type": "code",
   "execution_count": null,
   "id": "29cdcc57",
   "metadata": {},
   "outputs": [],
   "source": [
    "k.unit_registry"
   ]
  },
  {
   "cell_type": "markdown",
   "id": "51eae3a1",
   "metadata": {},
   "source": [
    "When kamodo encounters an expression containing known symbols, those symbols are paired with their corresponding unit, and the final expression is converted into the target units."
   ]
  },
  {
   "cell_type": "markdown",
   "id": "066acb8a",
   "metadata": {},
   "source": [
    "## Example: gravitational acceleration"
   ]
  },
  {
   "cell_type": "code",
   "execution_count": null,
   "id": "07cdc9d9",
   "metadata": {},
   "outputs": [],
   "source": [
    "# Note: is an open registration bug that prevents functions of three variables with units from working\n",
    "# https://github.com/EnsembleGovServices/kamodo-core/issues/92\n",
    "# G_c = 6.674E-11 # N*m^2/kg^2\n",
    "\n",
    "k = Kamodo('g(M[kg],r[m])[m/s^2]=6.67E-11*M/r^2')\n",
    "k.g"
   ]
  },
  {
   "cell_type": "code",
   "execution_count": null,
   "id": "aa9a3bdb",
   "metadata": {},
   "outputs": [],
   "source": [
    "k.g(5.972e24, 6371000.) # M_E[kg]=5.972e24, R_E[m]=6371000."
   ]
  },
  {
   "cell_type": "code",
   "execution_count": null,
   "id": "cca4eb0b",
   "metadata": {},
   "outputs": [],
   "source": [
    "k['g_2(M[g], r[cm])[cm/s^2]'] = 'g'"
   ]
  },
  {
   "cell_type": "code",
   "execution_count": null,
   "id": "9c7e0c4b",
   "metadata": {},
   "outputs": [],
   "source": [
    "k"
   ]
  }
 ],
 "metadata": {
  "jupytext": {
   "formats": "md,ipynb"
  },
  "kernelspec": {
   "display_name": "Python 3 (ipykernel)",
   "language": "python",
   "name": "python3"
  },
  "language_info": {
   "codemirror_mode": {
    "name": "ipython",
    "version": 3
   },
   "file_extension": ".py",
   "mimetype": "text/x-python",
   "name": "python",
   "nbconvert_exporter": "python",
   "pygments_lexer": "ipython3",
   "version": "3.7.12"
  }
 },
 "nbformat": 4,
 "nbformat_minor": 5
}
