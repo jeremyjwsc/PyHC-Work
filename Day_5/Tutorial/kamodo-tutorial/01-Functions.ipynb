{
 "cells": [
  {
   "cell_type": "markdown",
   "id": "76f70b73",
   "metadata": {},
   "source": [
    "## Functions\n",
    "\n",
    "Functions may be represented by many implementations/expressions (think right-hand-side)\n",
    "\n",
    "### Closed form expressions (formulas)"
   ]
  },
  {
   "cell_type": "markdown",
   "id": "91c241af",
   "metadata": {},
   "source": [
    "Let's start with a simple latex expression we wish to functionalize.\n",
    "\n",
    "$$ f(x) = x^2-x-1 $$"
   ]
  },
  {
   "cell_type": "markdown",
   "id": "7855d148",
   "metadata": {},
   "source": [
    "Kamodo offers some simple tools to turn the above right-hand-side expression into python functions that can operate on numerical data. This is accomplished with Kamodo's underlying [sympy](https://www.sympy.org/en/index.html) library."
   ]
  },
  {
   "cell_type": "code",
   "execution_count": null,
   "id": "e981747e",
   "metadata": {},
   "outputs": [],
   "source": [
    "from kamodo import lambdify, parse_expr"
   ]
  },
  {
   "cell_type": "markdown",
   "id": "254ba1b0",
   "metadata": {},
   "source": [
    "First parse the string into a sympy expression"
   ]
  },
  {
   "cell_type": "code",
   "execution_count": null,
   "id": "9eb91ed0",
   "metadata": {},
   "outputs": [],
   "source": [
    "expr = parse_expr('x^2-x-1') # convert latex into sympy expression\n",
    "expr # will render as latex in jupyter"
   ]
  },
  {
   "cell_type": "markdown",
   "id": "bd1324dd",
   "metadata": {},
   "source": [
    "Alternatively, we could have parsed a python expression:"
   ]
  },
  {
   "cell_type": "code",
   "execution_count": null,
   "id": "96db66bd",
   "metadata": {},
   "outputs": [],
   "source": [
    "expr = parse_expr('x**2-x-1')\n",
    "expr"
   ]
  },
  {
   "cell_type": "markdown",
   "id": "3194f28f",
   "metadata": {},
   "source": [
    "Expressions are the primary tool used by Kamodo to inspect and manpulation user-defined expressions. Here are some useful things one can do with expressions."
   ]
  },
  {
   "cell_type": "markdown",
   "id": "7be73232",
   "metadata": {},
   "source": [
    "**substitution**"
   ]
  },
  {
   "cell_type": "code",
   "execution_count": null,
   "id": "10e72f87",
   "metadata": {},
   "outputs": [],
   "source": [
    "expr.subs(dict(x='y'))"
   ]
  },
  {
   "cell_type": "code",
   "execution_count": null,
   "id": "ab33fa69",
   "metadata": {},
   "outputs": [],
   "source": [
    "expr.subs(dict(x='y-1'))"
   ]
  },
  {
   "cell_type": "markdown",
   "id": "43fc8d5d",
   "metadata": {},
   "source": [
    "**symbol extraction**"
   ]
  },
  {
   "cell_type": "code",
   "execution_count": null,
   "id": "da07f4cc",
   "metadata": {},
   "outputs": [],
   "source": [
    "expr.free_symbols"
   ]
  },
  {
   "cell_type": "markdown",
   "id": "8f35910e",
   "metadata": {},
   "source": [
    "**solutions**"
   ]
  },
  {
   "cell_type": "code",
   "execution_count": null,
   "id": "d262645b",
   "metadata": {},
   "outputs": [],
   "source": [
    "expr # solve for f(x) = 0"
   ]
  },
  {
   "cell_type": "code",
   "execution_count": null,
   "id": "ace5d565",
   "metadata": {},
   "outputs": [],
   "source": [
    "from sympy import solve, symbols\n",
    "\n",
    "zeros =  solve(expr, symbols('x')) \n",
    "zeros[0]"
   ]
  },
  {
   "cell_type": "code",
   "execution_count": null,
   "id": "9299b10d",
   "metadata": {},
   "outputs": [],
   "source": [
    "zeros[1]"
   ]
  },
  {
   "cell_type": "markdown",
   "id": "a673383b",
   "metadata": {},
   "source": [
    "**numerical evaluation**"
   ]
  },
  {
   "cell_type": "code",
   "execution_count": null,
   "id": "ee118c7c",
   "metadata": {},
   "outputs": [],
   "source": [
    "zeros[0].evalf()"
   ]
  },
  {
   "cell_type": "code",
   "execution_count": null,
   "id": "d22a0992",
   "metadata": {},
   "outputs": [],
   "source": [
    "zeros[1].evalf()"
   ]
  },
  {
   "cell_type": "markdown",
   "id": "938ac592",
   "metadata": {},
   "source": [
    "**type repr**"
   ]
  },
  {
   "cell_type": "code",
   "execution_count": null,
   "id": "37d6ca95",
   "metadata": {},
   "outputs": [],
   "source": [
    "from sympy import srepr\n",
    "\n",
    "srepr(expr) # Expressions are composed of algebraic types"
   ]
  },
  {
   "cell_type": "code",
   "execution_count": null,
   "id": "28561f7c",
   "metadata": {},
   "outputs": [],
   "source": [
    "expr"
   ]
  },
  {
   "cell_type": "markdown",
   "id": "99401570",
   "metadata": {},
   "source": [
    "Sympy has [many other tools](https://docs.sympy.org/latest/tutorial/basic_operations.html) for manipulating such expressions. They are worth taking a look at, especially if you wish to [contribute to Kamodo](https://github.com/EnsembleGovServices/kamodo-core/blob/master/CONTRIBUTING.md)!\n",
    "\n",
    "For our purposes, we are mainly interested in converting such preparing such expressions for numerical evaluation."
   ]
  },
  {
   "cell_type": "markdown",
   "id": "8a34f4ce",
   "metadata": {},
   "source": [
    "### Lambdified expressions"
   ]
  },
  {
   "cell_type": "markdown",
   "id": "53bf55dd",
   "metadata": {},
   "source": [
    "With variables identified, we can convert this expression into a python function that operates on numerical types"
   ]
  },
  {
   "cell_type": "code",
   "execution_count": null,
   "id": "f3a711c9",
   "metadata": {},
   "outputs": [],
   "source": [
    "f = lambdify(expr.free_symbols, expr)\n",
    "f"
   ]
  },
  {
   "cell_type": "code",
   "execution_count": null,
   "id": "e1a6c9ba",
   "metadata": {},
   "outputs": [],
   "source": [
    "help(f)"
   ]
  },
  {
   "cell_type": "markdown",
   "id": "bf536dec",
   "metadata": {},
   "source": [
    "Let's test this for accuracy"
   ]
  },
  {
   "cell_type": "code",
   "execution_count": null,
   "id": "e2633713",
   "metadata": {},
   "outputs": [],
   "source": [
    "f(3)"
   ]
  },
  {
   "cell_type": "code",
   "execution_count": null,
   "id": "e6fb0174",
   "metadata": {},
   "outputs": [],
   "source": [
    "assert f(3) == (3**2)-3-1"
   ]
  },
  {
   "cell_type": "markdown",
   "id": "c9fa0e25",
   "metadata": {},
   "source": [
    "The generated function is optimized to work on arrays"
   ]
  },
  {
   "cell_type": "code",
   "execution_count": null,
   "id": "b9b52df7",
   "metadata": {},
   "outputs": [],
   "source": [
    "import numpy as np\n",
    "\n",
    "f(np.linspace(-5,5,1000000)).shape # do a timing test here"
   ]
  },
  {
   "cell_type": "markdown",
   "id": "a6701a63",
   "metadata": {},
   "source": [
    "!!! note\n",
    "    Installing the [numexpr](https://github.com/pydata/numexpr) library makes this even faster!"
   ]
  }
 ],
 "metadata": {
  "jupytext": {
   "formats": "md,ipynb"
  },
  "kernelspec": {
   "display_name": "Python 3 (ipykernel)",
   "language": "python",
   "name": "python3"
  },
  "language_info": {
   "codemirror_mode": {
    "name": "ipython",
    "version": 3
   },
   "file_extension": ".py",
   "mimetype": "text/x-python",
   "name": "python",
   "nbconvert_exporter": "python",
   "pygments_lexer": "ipython3",
   "version": "3.7.12"
  }
 },
 "nbformat": 4,
 "nbformat_minor": 5
}
