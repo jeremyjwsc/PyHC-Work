{
 "cells": [
  {
   "cell_type": "markdown",
   "id": "e05f2a7c",
   "metadata": {},
   "source": [
    "### Functionalizing data\n",
    "\n",
    "Kamodo makes it easy to represent raw data as functions, by making use of interpolation (or extrapolation)."
   ]
  },
  {
   "cell_type": "markdown",
   "id": "96821894",
   "metadata": {},
   "source": [
    "Suppose we have some time series data we wish to functionalize. For the purposes of this example, we'll use a fake time sequence:"
   ]
  },
  {
   "cell_type": "code",
   "execution_count": null,
   "id": "81f48d22",
   "metadata": {},
   "outputs": [],
   "source": [
    "import pandas as pd\n",
    "import numpy as np\n",
    "t_N = pd.date_range('Nov 9, 2018', 'Nov 20, 2018', freq = 'H')\n",
    "\n",
    "dt_days = (t_N - t_N[0]).total_seconds()/(24*3600) # seconds\n",
    "data =  1+np.sin(dt_days) + .1*np.random.random(len(dt_days))"
   ]
  },
  {
   "cell_type": "code",
   "execution_count": null,
   "id": "5bea94b0",
   "metadata": {},
   "outputs": [],
   "source": [
    "ser = pd.Series(data, index=t_N)\n",
    "ser.head()"
   ]
  },
  {
   "cell_type": "markdown",
   "id": "6d543366",
   "metadata": {},
   "source": [
    "Next, we'll define a time interpolator."
   ]
  },
  {
   "cell_type": "code",
   "execution_count": null,
   "id": "7b6debb5",
   "metadata": {},
   "outputs": [],
   "source": [
    "def rho(t=t_N):\n",
    "    \"\"\"Density as a function of time\"\"\"\n",
    "    ser_ = ser.reindex(ser.index.union(t))\n",
    "    ser_interpolated = ser_.interpolate(method='time', limit_area='inside')\n",
    "    result = ser_interpolated.reindex(t)\n",
    "    return result"
   ]
  },
  {
   "cell_type": "markdown",
   "id": "3f1efe88",
   "metadata": {},
   "source": [
    "!!! note\n",
    "    The above interpolator assumes the input is a pandas time series. Again, such type enforcement is the prerogative of the interpolator author and is not a kamodo requirement."
   ]
  },
  {
   "cell_type": "markdown",
   "id": "bc98a956",
   "metadata": {},
   "source": [
    "Let's use Kamodo to plot this data."
   ]
  },
  {
   "cell_type": "code",
   "execution_count": null,
   "id": "40243a88",
   "metadata": {},
   "outputs": [],
   "source": [
    "from kamodo import Kamodo"
   ]
  },
  {
   "cell_type": "code",
   "execution_count": null,
   "id": "e1364fc7",
   "metadata": {},
   "outputs": [],
   "source": [
    "k = Kamodo(rho=rho)"
   ]
  },
  {
   "cell_type": "code",
   "execution_count": null,
   "id": "3bdc27af",
   "metadata": {},
   "outputs": [],
   "source": [
    "k.plot('rho')"
   ]
  },
  {
   "cell_type": "markdown",
   "id": "46cd4d6c",
   "metadata": {},
   "source": [
    "Now we can evaluate $\\rho(t)$ for *any* time within the domain of the original data (return `NaN` otherwise)."
   ]
  },
  {
   "cell_type": "code",
   "execution_count": null,
   "id": "4fc6d427",
   "metadata": {},
   "outputs": [],
   "source": [
    "t0 = pd.Timestamp('2017-11-09 00:01:00')\n",
    "t1 = pd.Timestamp('2018-11-09 00:33:00')\n",
    "t2 = pd.Timestamp('2018-11-09 00:38:00')\n",
    "t3 = pd.Timestamp('2022-11-01 00:01:00')\n",
    "\n",
    "rho([t0, t1, t2, t3])"
   ]
  },
  {
   "cell_type": "code",
   "execution_count": null,
   "id": "b84480e0",
   "metadata": {},
   "outputs": [],
   "source": [
    "t_N"
   ]
  },
  {
   "cell_type": "markdown",
   "id": "f8fda931",
   "metadata": {},
   "source": [
    "Since we provided the original time index as the function default, calling $\\rho(t)$ with no arguments will return the original data "
   ]
  },
  {
   "cell_type": "code",
   "execution_count": null,
   "id": "3e8b50bd",
   "metadata": {},
   "outputs": [],
   "source": [
    "rho()"
   ]
  },
  {
   "cell_type": "markdown",
   "id": "872064fb",
   "metadata": {},
   "source": [
    "Check that the function results match the raw data"
   ]
  },
  {
   "cell_type": "code",
   "execution_count": null,
   "id": "eca13b57",
   "metadata": {},
   "outputs": [],
   "source": [
    "assert (rho().values == data).all()"
   ]
  },
  {
   "cell_type": "markdown",
   "id": "bcd38b45",
   "metadata": {},
   "source": [
    "By functionalizing the raw data, we've made it more flexible, allowing us to evaluate over new time domains without losing access to the underlying dataset."
   ]
  },
  {
   "cell_type": "markdown",
   "id": "b1e978fd",
   "metadata": {},
   "source": [
    "### Kamodofy"
   ]
  },
  {
   "cell_type": "markdown",
   "id": "1d002ca9",
   "metadata": {},
   "source": [
    "We can attach additional metadata to the function to give the end user greater context."
   ]
  },
  {
   "cell_type": "code",
   "execution_count": null,
   "id": "d917b708",
   "metadata": {},
   "outputs": [],
   "source": [
    "from kamodo import kamodofy\n",
    "\n",
    "@kamodofy(units='kg/m^3', citation='Put a DOI here if available')\n",
    "def rho(t=t_N):\n",
    "    \"\"\"Density as a function of time\"\"\"\n",
    "    ser_ = ser.reindex(ser.index.union(t))\n",
    "    ser_interpolated = ser_.interpolate(method='time', limit_area='inside')\n",
    "    result = ser_interpolated.reindex(t)\n",
    "    return result\n",
    "\n",
    "rho # renders as latex due to rho._repr_latex_ method"
   ]
  },
  {
   "cell_type": "markdown",
   "id": "c616b8a7",
   "metadata": {},
   "source": [
    "We didn't specify the right-hand-side, so `@kamodofy` gave it the lambda symbol to represent an [anonymous function](https://en.wikipedia.org/wiki/Anonymous_function)."
   ]
  },
  {
   "cell_type": "markdown",
   "id": "a9388efb",
   "metadata": {},
   "source": [
    "`@kamodofy` also attached `meta` and `data` attributes to the function."
   ]
  },
  {
   "cell_type": "code",
   "execution_count": null,
   "id": "7c82992d",
   "metadata": {},
   "outputs": [],
   "source": [
    "rho.meta"
   ]
  },
  {
   "cell_type": "markdown",
   "id": "9f1cb1e5",
   "metadata": {},
   "source": [
    "The above citation information also appears in the documentation:"
   ]
  },
  {
   "cell_type": "code",
   "execution_count": null,
   "id": "e9905406",
   "metadata": {},
   "outputs": [],
   "source": [
    "help(rho)"
   ]
  },
  {
   "cell_type": "code",
   "execution_count": null,
   "id": "6fa95d0f",
   "metadata": {},
   "outputs": [],
   "source": [
    "rho.data # represents the raw data (rho called with no arguments)"
   ]
  },
  {
   "cell_type": "markdown",
   "id": "0fce8750",
   "metadata": {},
   "source": [
    "!!! note\n",
    "    We attached the above metadata without modifying/recasting the original datatypes."
   ]
  }
 ],
 "metadata": {
  "jupytext": {
   "formats": "md,ipynb"
  },
  "kernelspec": {
   "display_name": "Python 3 (ipykernel)",
   "language": "python",
   "name": "python3"
  },
  "language_info": {
   "codemirror_mode": {
    "name": "ipython",
    "version": 3
   },
   "file_extension": ".py",
   "mimetype": "text/x-python",
   "name": "python",
   "nbconvert_exporter": "python",
   "pygments_lexer": "ipython3",
   "version": "3.7.12"
  }
 },
 "nbformat": 4,
 "nbformat_minor": 5
}
