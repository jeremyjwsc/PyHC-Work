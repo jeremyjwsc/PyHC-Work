{
 "cells": [
  {
   "cell_type": "markdown",
   "id": "265c786e",
   "metadata": {},
   "source": [
    "## Kamodo class\n",
    "\n",
    "The `Kamodo` class is a container used to register, manipulate, evaluate, and plot functions representing scientific resources."
   ]
  },
  {
   "cell_type": "markdown",
   "id": "1d839e7c",
   "metadata": {},
   "source": [
    "### Function registration"
   ]
  },
  {
   "cell_type": "markdown",
   "id": "325ee6d8",
   "metadata": {},
   "source": [
    "Previously, we saw how sympy may be used to convert raw latex or python expressions into numerical functions. The Kamodo class handles this automatically at function registration time. "
   ]
  },
  {
   "cell_type": "code",
   "execution_count": null,
   "id": "d240982d",
   "metadata": {},
   "outputs": [],
   "source": [
    "from kamodo import Kamodo"
   ]
  },
  {
   "cell_type": "code",
   "execution_count": null,
   "id": "b6337d8c",
   "metadata": {},
   "outputs": [],
   "source": [
    "k = Kamodo(f='x^2-x-1')\n",
    "k"
   ]
  },
  {
   "cell_type": "markdown",
   "id": "d8b0e636",
   "metadata": {},
   "source": [
    "To access the above function, we can use \"dot\" notation:"
   ]
  },
  {
   "cell_type": "code",
   "execution_count": null,
   "id": "4ed7b64b",
   "metadata": {},
   "outputs": [],
   "source": [
    "assert k.f(3) == 3**2 - 3 - 1"
   ]
  },
  {
   "cell_type": "markdown",
   "id": "4e5cf780",
   "metadata": {},
   "source": [
    "Again, such functions are compatible with numerical datatypes."
   ]
  },
  {
   "cell_type": "code",
   "execution_count": null,
   "id": "c1eef7ad",
   "metadata": {},
   "outputs": [],
   "source": [
    "import numpy as np"
   ]
  },
  {
   "cell_type": "code",
   "execution_count": null,
   "id": "87bc7ead",
   "metadata": {},
   "outputs": [],
   "source": [
    "k.f(np.linspace(-5,5,30000)).shape"
   ]
  },
  {
   "cell_type": "markdown",
   "id": "f24edad9",
   "metadata": {},
   "source": [
    "We can also register functions with dictionary syntax. Each new function is appended to the list."
   ]
  },
  {
   "cell_type": "code",
   "execution_count": null,
   "id": "d3bd64a5",
   "metadata": {},
   "outputs": [],
   "source": [
    "k['g'] = 'x+y'\n",
    "k"
   ]
  },
  {
   "cell_type": "code",
   "execution_count": null,
   "id": "2ea66949",
   "metadata": {},
   "outputs": [],
   "source": [
    "k['h'] = 'x*y'\n",
    "k"
   ]
  },
  {
   "cell_type": "markdown",
   "id": "ed507b80",
   "metadata": {},
   "source": [
    "### Evaluation\n",
    "\n",
    "For the most part, Kamodo is agnostic with respect to data types. Type validation is left up to function implementation. (The exception is kamodo's automated plotting, which we'll cover later.)"
   ]
  },
  {
   "cell_type": "code",
   "execution_count": null,
   "id": "3ed242d9",
   "metadata": {},
   "outputs": [],
   "source": [
    "k.f"
   ]
  },
  {
   "cell_type": "code",
   "execution_count": null,
   "id": "f8ad40b8",
   "metadata": {},
   "outputs": [],
   "source": [
    "try:\n",
    "    k.f('hey')\n",
    "except TypeError as m:\n",
    "    print(m)"
   ]
  },
  {
   "cell_type": "markdown",
   "id": "b5189b5b",
   "metadata": {},
   "source": [
    "In the above example, strings types throw an exception because `f` uses the `pow` function, which does not support strings."
   ]
  },
  {
   "cell_type": "code",
   "execution_count": null,
   "id": "e74f2caf",
   "metadata": {},
   "outputs": [],
   "source": [
    "k.g"
   ]
  },
  {
   "cell_type": "code",
   "execution_count": null,
   "id": "37d1969c",
   "metadata": {},
   "outputs": [],
   "source": [
    "k.g('hey... ', 'listen!')"
   ]
  },
  {
   "cell_type": "markdown",
   "id": "340197a3",
   "metadata": {},
   "source": [
    "Here, string types are ok, but only because the `add` operator can concatonates strings.\n",
    "\n",
    "Similarly, multiplication happens to work between lists and integers."
   ]
  },
  {
   "cell_type": "code",
   "execution_count": null,
   "id": "c4e8763e",
   "metadata": {},
   "outputs": [],
   "source": [
    "k.h"
   ]
  },
  {
   "cell_type": "code",
   "execution_count": null,
   "id": "c790e64e",
   "metadata": {},
   "outputs": [],
   "source": [
    "k.h(5, ['wow'])"
   ]
  },
  {
   "cell_type": "markdown",
   "id": "e1b85aaf",
   "metadata": {},
   "source": [
    "Even though this is quite flexible, you should **try to use numeric data types**, especially when units come into play (next lesson)"
   ]
  },
  {
   "cell_type": "markdown",
   "id": "21b3ee73",
   "metadata": {},
   "source": [
    "### Composition"
   ]
  },
  {
   "cell_type": "markdown",
   "id": "c3b5090c",
   "metadata": {},
   "source": [
    "The `Kamodo` class will compose functions when previously defined function symbols are detected."
   ]
  },
  {
   "cell_type": "code",
   "execution_count": null,
   "id": "3410cced",
   "metadata": {},
   "outputs": [],
   "source": [
    "k = Kamodo(f='x^2-x-1')\n",
    "k"
   ]
  },
  {
   "cell_type": "code",
   "execution_count": null,
   "id": "07b2dc90",
   "metadata": {},
   "outputs": [],
   "source": [
    "k['g'] = 'y^2'\n",
    "k"
   ]
  },
  {
   "cell_type": "code",
   "execution_count": null,
   "id": "eb11192e",
   "metadata": {},
   "outputs": [],
   "source": [
    "k['h'] = 'g(f)' # compose g on f\n",
    "k"
   ]
  },
  {
   "cell_type": "code",
   "execution_count": null,
   "id": "bef21d09",
   "metadata": {},
   "outputs": [],
   "source": [
    "assert k.h(3) == (3**2-3-1)**2"
   ]
  },
  {
   "cell_type": "markdown",
   "id": "b23ba6f6",
   "metadata": {},
   "source": [
    "Two important things to note:\n",
    "\n",
    "1. Kamodo detected a registered function `f` appearing in the right-hand-side of `h`\n",
    "2. Kamodo determined that `h` must be a function of `x` through the composition `g(f(x))`."
   ]
  }
 ],
 "metadata": {
  "jupytext": {
   "formats": "md,ipynb"
  },
  "kernelspec": {
   "display_name": "Python 3 (ipykernel)",
   "language": "python",
   "name": "python3"
  },
  "language_info": {
   "codemirror_mode": {
    "name": "ipython",
    "version": 3
   },
   "file_extension": ".py",
   "mimetype": "text/x-python",
   "name": "python",
   "nbconvert_exporter": "python",
   "pygments_lexer": "ipython3",
   "version": "3.7.12"
  }
 },
 "nbformat": 4,
 "nbformat_minor": 5
}
