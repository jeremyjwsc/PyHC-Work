{
 "cells": [
  {
   "cell_type": "markdown",
   "id": "3df97259",
   "metadata": {},
   "source": [
    "\n"
   ]
  },
  {
   "cell_type": "markdown",
   "id": "a0d72a88",
   "metadata": {},
   "source": [
    "# Introduction to Kamodo\n",
    "\n",
    "### PyHC Summer School / Jun 3 2022 / ESAC, Madrid, Spain\n",
    "Asher Pembroke (DBA/Ensemble) w/Ensemble LTD in partnership with CCMC\n",
    "\n",
    "Special Thanks: Laura Hayes\n"
   ]
  },
  {
   "cell_type": "markdown",
   "id": "bafd5d41",
   "metadata": {},
   "source": [
    "![what is kamodo](WhatIsKamodo/WhatIsKamodo.001.jpeg)"
   ]
  },
  {
   "cell_type": "markdown",
   "id": "0ff41975",
   "metadata": {},
   "source": [
    "### What is a scientific resource?\n",
    "\n",
    "Mirriam-Webster Definition of resource:\n",
    "\n",
    "    1. a source of information or expertise\n",
    "\n",
    "\n",
    "Scientific resources are \n",
    "\n",
    "* Observables on a well-defined domain of scientific interest\n",
    "* Can be purely functional (coordinate systems, expressions)\n",
    "* Often associated with units of measure (e.g. kg/m^3)\n",
    "* Intended for downstream users\n",
    "\n",
    "Scientific resources **are not** the tools themselves:\n",
    "\n",
    "* Specific file formats (e.g. hdf, cdf, netcdf)\n",
    "* specific APIs\n",
    "* Raw model output or observational data"
   ]
  },
  {
   "cell_type": "markdown",
   "id": "b100a838",
   "metadata": {},
   "source": [
    "### What are functions?\n",
    "\n",
    "> In mathematics, a function from a set X to a set Y assigns to each element of X exactly one element of Y. The set X is called the domain of the function and the set Y is called the codomain of the function. - Wikipedia\n",
    "\n",
    "* A function is uniquely represented by the set of all pairs (x, f (x)) (a.k.a. the [graph](https://en.wikipedia.org/wiki/Graph_of_a_function) of a function)\n",
    "* Colloquially, **functions take inputs and return outputs**\n",
    "\n",
    "Functions represent *mappings*, they **are not** the tools themselves:\n",
    "* Expressions: `f(x,y,z) = x**2+y**2+z**2`\n",
    "* Code blocks: `lambda x,y,z: x**2 + y**2 + z**2`\n",
    "* Variables: `rho` (the codomain) is not the same as `rho(x)` (the function)"
   ]
  },
  {
   "cell_type": "markdown",
   "id": "46c2e4ef",
   "metadata": {},
   "source": [
    "### Why are functions so important?\n",
    "\n",
    "Functions represent the physical state of the systems we are investigating\n",
    "* Fields (Electromagnetic, fluid, etc)\n",
    "* Derived variables (e.g. $ P_{ram} = \\rho v^2 $)\n",
    "* Coordinate transformations\n",
    "* Images (pixel coordinates)\n",
    "* **solutions** to differential equations\n",
    "\n",
    "Functions may readily be used downstream:\n",
    "* Evaluation\n",
    "* Composition\n",
    "* Graphing\n",
    "* Pipelining"
   ]
  },
  {
   "cell_type": "markdown",
   "id": "e380780a",
   "metadata": {},
   "source": [
    "### What is an API?\n",
    "\n",
    "> An application programming interface (API) is a connection between computers or between computer programs... One purpose of APIs is to **hide the internal details of how a system works, exposing only those parts a programmer will find useful** and keeping them consistent even if the internal details later change. - Wikipedia\n",
    "\n",
    "\n",
    "APIs help us communicate with data living in:\n",
    "\n",
    "* databases (REST, SQL)\n",
    "* file formats (hdf, netcdf)\n",
    "* libraries\n",
    "\n",
    "### What is *functional* API?\n",
    "\n",
    "A *functional API* focuses on provides access to information in the form of functions, rather than the underlying data or objects themselves.\n",
    "\n",
    "* low barrier to entry\n",
    "* (mostly) self-describing\n",
    "* (almost) no side effects\n",
    "* ammenable to functional programing techniques\n",
    "* compatible with AI/ML\n"
   ]
  }
 ],
 "metadata": {
  "jupytext": {
   "cell_metadata_filter": "-all",
   "formats": "md,ipynb",
   "notebook_metadata_filter": "-all"
  },
  "kernelspec": {
   "display_name": "Python 3 (ipykernel)",
   "language": "python",
   "name": "python3"
  },
  "language_info": {
   "codemirror_mode": {
    "name": "ipython",
    "version": 3
   },
   "file_extension": ".py",
   "mimetype": "text/x-python",
   "name": "python",
   "nbconvert_exporter": "python",
   "pygments_lexer": "ipython3",
   "version": "3.7.12"
  }
 },
 "nbformat": 4,
 "nbformat_minor": 5
}
