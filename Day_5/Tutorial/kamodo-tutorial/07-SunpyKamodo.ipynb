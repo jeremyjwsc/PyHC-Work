{
 "cells": [
  {
   "cell_type": "markdown",
   "id": "7ed60c45",
   "metadata": {},
   "source": [
    "## SkyKamodo class"
   ]
  },
  {
   "cell_type": "markdown",
   "id": "04ae5b9f",
   "metadata": {},
   "source": [
    "Here is how you would normally work with SkyCoord objects"
   ]
  },
  {
   "cell_type": "code",
   "execution_count": null,
   "id": "aeed2987",
   "metadata": {},
   "outputs": [],
   "source": [
    "import numpy as np\n",
    "lon = np.linspace(0, 5, 5)\n",
    "lat = np.linspace(0, 5, 7)\n",
    "\n",
    "llon, llat = np.meshgrid(lon, lat)\n",
    "\n",
    "llon.shape, llat.shape"
   ]
  },
  {
   "cell_type": "code",
   "execution_count": null,
   "id": "1bb6adbd",
   "metadata": {},
   "outputs": [],
   "source": [
    "from astropy.coordinates import SkyCoord\n",
    "import sunpy.coordinates # needed to find sunpy coordinate frames"
   ]
  },
  {
   "cell_type": "code",
   "execution_count": null,
   "id": "409402ce",
   "metadata": {},
   "outputs": [],
   "source": [
    "hpc = SkyCoord(llon, llat,\n",
    "               unit='arcsec',\n",
    "               obstime=\"2020/12/15T00:00:00\",\n",
    "               observer=\"earth\",\n",
    "               frame=\"helioprojective\")\n",
    "\n",
    "hgs = hpc.transform_to(\"heliographic_stonyhurst\")\n",
    "xvals = hgs.cartesian.x.value\n",
    "yvals = hgs.cartesian.y.value\n",
    "zvals = hgs.cartesian.z.value\n",
    "points = np.array([xvals, yvals, zvals])"
   ]
  },
  {
   "cell_type": "code",
   "execution_count": null,
   "id": "31d7c746",
   "metadata": {},
   "outputs": [],
   "source": [
    "points.shape"
   ]
  },
  {
   "cell_type": "markdown",
   "id": "d3462ab8",
   "metadata": {},
   "source": [
    "Here is how you would do this using the new `SkyKamodo` interface"
   ]
  },
  {
   "cell_type": "code",
   "execution_count": null,
   "id": "ec0582d1",
   "metadata": {},
   "outputs": [],
   "source": [
    "from sunpy_kamodo.transforms import SkyKamodo\n",
    "\n",
    "sky = SkyKamodo(to_frame='HeliographicStonyhurst', from_frame='Helioprojective')"
   ]
  },
  {
   "cell_type": "code",
   "execution_count": null,
   "id": "59467c05",
   "metadata": {},
   "outputs": [],
   "source": [
    "sky"
   ]
  },
  {
   "cell_type": "markdown",
   "id": "69c20a69",
   "metadata": {},
   "source": [
    "The registered cartesian vector function represents the conversion from $HGS$ to $HPC$"
   ]
  },
  {
   "cell_type": "code",
   "execution_count": null,
   "id": "0aed8c5f",
   "metadata": {},
   "outputs": [],
   "source": [
    "points_ = sky.xvec_HGS__HPC(llon, llat, '2020/12/15T00:00:00') "
   ]
  },
  {
   "cell_type": "code",
   "execution_count": null,
   "id": "e25a55e5",
   "metadata": {},
   "outputs": [],
   "source": [
    "assert (points_ == points).all() # check that the results match"
   ]
  },
  {
   "cell_type": "code",
   "execution_count": null,
   "id": "7f5d4cba",
   "metadata": {},
   "outputs": [],
   "source": [
    "help(sky.xvec_HGS__HPC)"
   ]
  },
  {
   "cell_type": "markdown",
   "id": "643effe4",
   "metadata": {},
   "source": [
    "The SkyKamodo class can be used to register multiple coordinate transformations at once.\n"
   ]
  },
  {
   "cell_type": "code",
   "execution_count": null,
   "id": "6273b7ac",
   "metadata": {},
   "outputs": [],
   "source": [
    "from sunpy_kamodo.transforms import SkyKamodo"
   ]
  },
  {
   "cell_type": "code",
   "execution_count": null,
   "id": "6b6d6b1f",
   "metadata": {},
   "outputs": [],
   "source": [
    "sky = SkyKamodo(from_frame=['HPC', 'HGS'], to_frame=['HGS', 'HGC'])"
   ]
  },
  {
   "cell_type": "markdown",
   "id": "843fa9c1",
   "metadata": {},
   "source": [
    "Here we registered 3 permutations of HGS, HGC, and HPC:\n",
    "* HPC->HGS\n",
    "* HPC->HGC\n",
    "* HGS->HGC\n",
    "\n",
    "A fourth one (HGS->HGS) was ignored"
   ]
  },
  {
   "cell_type": "code",
   "execution_count": null,
   "id": "c1558a48",
   "metadata": {},
   "outputs": [],
   "source": [
    "sky"
   ]
  },
  {
   "cell_type": "code",
   "execution_count": null,
   "id": "970849e3",
   "metadata": {},
   "outputs": [],
   "source": [
    "sky.detail()"
   ]
  },
  {
   "cell_type": "markdown",
   "id": "749f8386",
   "metadata": {},
   "source": [
    "## KamodoMap"
   ]
  },
  {
   "cell_type": "code",
   "execution_count": null,
   "id": "98e4c46f",
   "metadata": {},
   "outputs": [],
   "source": [
    "from sunpy_kamodo.transforms import SunMap"
   ]
  },
  {
   "cell_type": "code",
   "execution_count": null,
   "id": "7f92dde6",
   "metadata": {},
   "outputs": [],
   "source": [
    "# import matplotlib.pyplot as plt\n",
    "\n",
    "from sunpy.data.sample import AIA_171_IMAGE\n",
    "\n",
    "# aiamap = sunpy.map.Map(AIA_171_IMAGE)\n",
    "# aiamap"
   ]
  },
  {
   "cell_type": "code",
   "execution_count": null,
   "id": "08326da9",
   "metadata": {},
   "outputs": [],
   "source": [
    "AIA_171_IMAGE"
   ]
  },
  {
   "cell_type": "code",
   "execution_count": null,
   "id": "1c9473ad",
   "metadata": {},
   "outputs": [],
   "source": [
    "sunmap = SunMap(AIA_171_IMAGE, '')\n",
    "sunmap"
   ]
  },
  {
   "cell_type": "code",
   "execution_count": null,
   "id": "a654e2ea",
   "metadata": {},
   "outputs": [],
   "source": [
    "sunmap['i_px_log'] = 'ln(i_px)' # register log of image function"
   ]
  },
  {
   "cell_type": "code",
   "execution_count": null,
   "id": "a2a99a74",
   "metadata": {},
   "outputs": [],
   "source": [
    "import numpy as np"
   ]
  },
  {
   "cell_type": "code",
   "execution_count": null,
   "id": "098ea550",
   "metadata": {},
   "outputs": [],
   "source": [
    "alpha = np.linspace(-500, 0, 200)\n",
    "delta = np.linspace(0, 500, 200)\n",
    "\n",
    "fig = sunmap.plot(i_px_log = dict(alpha=alpha,\n",
    "                        delta=delta))\n",
    "\n",
    "fig.update_layout(height=800, width=800)"
   ]
  },
  {
   "cell_type": "code",
   "execution_count": null,
   "id": "109570fa",
   "metadata": {},
   "outputs": [],
   "source": []
  }
 ],
 "metadata": {
  "jupytext": {
   "formats": "ipynb,md"
  },
  "kernelspec": {
   "display_name": "Python 3 (ipykernel)",
   "language": "python",
   "name": "python3"
  },
  "language_info": {
   "codemirror_mode": {
    "name": "ipython",
    "version": 3
   },
   "file_extension": ".py",
   "mimetype": "text/x-python",
   "name": "python",
   "nbconvert_exporter": "python",
   "pygments_lexer": "ipython3",
   "version": "3.7.12"
  }
 },
 "nbformat": 4,
 "nbformat_minor": 5
}
