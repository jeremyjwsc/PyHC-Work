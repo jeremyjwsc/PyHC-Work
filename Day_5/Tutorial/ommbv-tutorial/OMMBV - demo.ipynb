{
 "cells": [
  {
   "cell_type": "markdown",
   "id": "05908d28",
   "metadata": {},
   "source": [
    "# Make plot of OMMBV Basis along Magnetic Field Line Traces"
   ]
  },
  {
   "cell_type": "code",
   "execution_count": null,
   "id": "5966da11",
   "metadata": {},
   "outputs": [],
   "source": [
    "import datetime as dt\n",
    "import numpy as np\n",
    "import matplotlib.pyplot as plt\n",
    "from mpl_toolkits.mplot3d import Axes3D"
   ]
  },
  {
   "cell_type": "code",
   "execution_count": null,
   "id": "de8da955",
   "metadata": {},
   "outputs": [],
   "source": [
    "import OMMBV"
   ]
  },
  {
   "cell_type": "code",
   "execution_count": null,
   "id": "50f5e0cb",
   "metadata": {},
   "outputs": [],
   "source": [
    "# Define some plot locations\n",
    "p_long = np.arange(0., 360., 18.)\n",
    "p_alt = 0 * p_long + 550.\n",
    "p_lats = 0 * p_long + 30."
   ]
  },
  {
   "cell_type": "code",
   "execution_count": null,
   "id": "9234d172",
   "metadata": {},
   "outputs": [],
   "source": [
    "fig = plt.figure(figsize=(8.5, 8.5))\n",
    "ax = fig.add_subplot(111, projection='3d')\n",
    "\n",
    "# Set date for the magnetic field\n",
    "date = dt.datetime(2000, 1, 1)\n",
    "\n",
    "# Convert supplied geocentric locations into Earth Centered Earth Fixed locations\n",
    "ecef_x, ecef_y, ecef_z = OMMBV.trans.geocentric_to_ecef(p_lats, \n",
    "                                                        p_long, \n",
    "                                                        p_alt)\n",
    "\n",
    "# For each location, plot a field line and the basis vectors along it\n",
    "for j, (x, y, z) in enumerate(zip(ecef_x, ecef_y, ecef_z)):\n",
    "\n",
    "    # Perform full field line traces down to altitude of 250 km\n",
    "    print('Tracing field.')\n",
    "    trace = OMMBV.trace.full_field_line(np.array([x, y, z]), date, 250.) \n",
    "\n",
    "    # Plot magnetic field-line passing through input location\n",
    "    ax.plot(trace[:, 0], trace[:, 1], trace[:, 2], 'b')\n",
    "    ax.set_zlabel('Z')\n",
    "\n",
    "    # Downselect, reduce number of points\n",
    "    trace = trace[::18, :]\n",
    "\n",
    "    # Compute magnetic field vectors. Need to provide alt, latitude, \n",
    "    # and longitude in geodetic coords. Perform conversion.\n",
    "    latitude, longitude, altitude = OMMBV.trans.ecef_to_geodetic(trace[:, 0], \n",
    "                                                                 trace[:, 1], \n",
    "                                                                 trace[:, 2])\n",
    "\n",
    "    # Calculate magnetic vector basis\n",
    "    print('Calculating basis.')\n",
    "    basis = OMMBV.calculate_geomagnetic_basis(latitude, longitude, altitude, \n",
    "                                              [date] * len(trace[:, 0]))\n",
    "\n",
    "    # Plot zonal unit vector\n",
    "    length = 500\n",
    "    vx = basis['zon_x']\n",
    "    vy = basis['zon_y']\n",
    "    vz = basis['zon_z']\n",
    "    ax.quiver3D(trace[:, 0] + length*vx, \n",
    "                trace[:, 1] + length*vy,\n",
    "                trace[:, 2] + length*vz, \n",
    "                vx, vy, vz, length=500.,\n",
    "                color='green')\n",
    "\n",
    "    # Plot field-aligned unit vector\n",
    "    length = 500\n",
    "    vx = basis['fa_x']\n",
    "    vy = basis['fa_y']\n",
    "    vz = basis['fa_z']\n",
    "    ax.quiver3D(trace[:, 0] + length*vx, \n",
    "                trace[:, 1] + length*vy,\n",
    "                trace[:, 2] + length*vz, \n",
    "                vx, vy, vz, length=500.,\n",
    "                color='purple')\n",
    "\n",
    "    # Plot meridional unit vector\n",
    "    length = 500\n",
    "    vx = basis['mer_x']\n",
    "    vy = basis['mer_y']\n",
    "    vz = basis['mer_z']\n",
    "    ax.quiver3D(trace[:, 0] + length*vx, \n",
    "                trace[:, 1] + length*vy,\n",
    "                trace[:, 2] + length*vz, \n",
    "                vx, vy, vz, length=500.,\n",
    "                color='red')\n",
    "    \n",
    "\n",
    "plt.xlabel('X')\n",
    "plt.ylabel('Y')\n",
    "plt.tight_layout()"
   ]
  },
  {
   "cell_type": "code",
   "execution_count": null,
   "id": "18f9fd81",
   "metadata": {},
   "outputs": [],
   "source": []
  }
 ],
 "metadata": {
  "kernelspec": {
   "display_name": "Python 3 (ipykernel)",
   "language": "python",
   "name": "python3"
  },
  "language_info": {
   "codemirror_mode": {
    "name": "ipython",
    "version": 3
   },
   "file_extension": ".py",
   "mimetype": "text/x-python",
   "name": "python",
   "nbconvert_exporter": "python",
   "pygments_lexer": "ipython3",
   "version": "3.9.7"
  }
 },
 "nbformat": 4,
 "nbformat_minor": 5
}
